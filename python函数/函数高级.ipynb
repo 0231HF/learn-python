{
 "cells": [
  {
   "cell_type": "markdown",
   "source": [
    "#### 函数的嵌套\n",
    "Python中以函数为作用域，在作用域中定义的相关数据只能被当前作用域或子作用域使用。\n"
   ],
   "metadata": {
    "collapsed": false
   },
   "id": "880d03667b656fd2"
  },
  {
   "cell_type": "code",
   "execution_count": null,
   "id": "initial_id",
   "metadata": {
    "collapsed": true
   },
   "outputs": [],
   "source": [
    "NAME = \"武沛齐\"\n",
    "print(NAME)\n",
    "\n",
    "def func():\n",
    "    print(NAME)\n",
    "\n",
    "func()"
   ]
  },
  {
   "cell_type": "markdown",
   "source": [
    "##### 函数在作用域中\n",
    "其实，函数也是定义在作用域中的数据，在执行函数时候，也同样遵循：优先在自己作用域中寻找，没有则向上一接作用域寻找，例如："
   ],
   "metadata": {
    "collapsed": false
   },
   "id": "17efb472642c86ee"
  },
  {
   "cell_type": "code",
   "outputs": [],
   "source": [
    "# 1. 在全局作用域定义了函数func\n",
    "def func():\n",
    "    print(\"你好\")\n",
    "    \n",
    "# 2. 在全局作用域找到func函数并执行。\n",
    "func()\n",
    "\n",
    "\n",
    "# 3.在全局作用域定义了execute函数\n",
    "def execute():\n",
    "    print(\"开始\")\n",
    "    # 优先在当前函数作用域找func函数，没有则向上级作用域中寻找。\n",
    "    func()\n",
    "    print(\"结束\")\n",
    "\n",
    "# 4.在全局作用域执行execute函数\n",
    "execute()"
   ],
   "metadata": {
    "collapsed": false
   },
   "id": "ea20305768a7747"
  },
  {
   "cell_type": "markdown",
   "source": [
    "#####  函数定义的位置\n",
    "上述示例中的函数均定义在全局作用域，其实函数也可以定义在局部作用域，这样函数被局部作用域和其子作用于中调用（函数的嵌套）。"
   ],
   "metadata": {
    "collapsed": false
   },
   "id": "9917b0b336561854"
  },
  {
   "cell_type": "code",
   "outputs": [],
   "source": [
    "def func():\n",
    "    print(\"沙河高晓松\")\n",
    "    \n",
    "def handler():\n",
    "    print(\"昌平吴彦祖\")\n",
    "    def inner():\n",
    "        print(\"朝阳大妈\")\n",
    "\tinner()\n",
    "    func()\n",
    "    print(\"海淀网友\")\n",
    "\n",
    "handler()"
   ],
   "metadata": {
    "collapsed": false
   },
   "id": "e4b4845c01da7e7a"
  },
  {
   "cell_type": "markdown",
   "source": [
    "##### 嵌套引发的作用域问题\n",
    "基于内存和执行过程分析作用域。"
   ],
   "metadata": {
    "collapsed": false
   },
   "id": "49d7c00693755bed"
  },
  {
   "cell_type": "code",
   "outputs": [],
   "source": [
    "name = \"武沛齐\"\n",
    "\n",
    "def run():\n",
    "    name = \"alex\"\n",
    "    def inner():\n",
    "        print(name)\n",
    "\tinner()\n",
    "    \n",
    "run()"
   ],
   "metadata": {
    "collapsed": false
   },
   "id": "b520d5b9bbade639"
  },
  {
   "cell_type": "code",
   "outputs": [],
   "source": [
    "name = \"武沛齐\"\n",
    "\n",
    "def run():\n",
    "    name = \"alex\"\n",
    "    def inner():\n",
    "        print(name)\n",
    "\treturn inner\n",
    "    \n",
    "v1 = run()\n",
    "v1()\n",
    "\n",
    "v2 = run()\n",
    "v2()"
   ],
   "metadata": {
    "collapsed": false
   },
   "id": "cdb0067ac9b04c0f"
  },
  {
   "cell_type": "code",
   "outputs": [],
   "source": [
    "name = \"武沛齐\"\n",
    "\n",
    "def run():\n",
    "    name = \"alex\"\n",
    "    def inner():\n",
    "        print(name)\n",
    "\treturn inner\n",
    "    \n",
    "v1 = run()\n",
    "v1()\n",
    "\n",
    "v2 = run()\n",
    "v2()"
   ],
   "metadata": {
    "collapsed": false
   },
   "id": "8c4d251a536fa781"
  },
  {
   "cell_type": "markdown",
   "source": [
    "三句话搞定作用域：\n",
    "- 优先在自己的作用域找，自己没有就去上级作用域。\n",
    "- 在作用域中寻找值时，要确保此次此刻值是什么。\n",
    "- 分析函数的执行，并确定函数`作用域链`。（函数嵌套）\n"
   ],
   "metadata": {
    "collapsed": false
   },
   "id": "a9940e22a63cb840"
  },
  {
   "cell_type": "markdown",
   "source": [
    "#### 闭包\n",
    "闭包，简而言之就是将数据封装在一个包（区域）中，使用时再去里面取。（本质上 闭包是基于函数嵌套搞出来一个中特殊嵌套）\n",
    "闭包应用场景1：封装数据防止污染全局。"
   ],
   "metadata": {
    "collapsed": false
   },
   "id": "67fa48e30809175"
  },
  {
   "cell_type": "code",
   "outputs": [],
   "source": [
    "name = \"武沛齐\"\n",
    "\n",
    "def f1():\n",
    "    print(name, age)\n",
    "\n",
    "def f2():\n",
    "\tprint(name, age)\n",
    "\n",
    "def f3():\n",
    "\tprint(name, age)\n",
    "    \n",
    "def f4():\n",
    "    pass"
   ],
   "metadata": {
    "collapsed": false
   },
   "id": "4cc79683d4a875d8"
  },
  {
   "cell_type": "code",
   "outputs": [],
   "source": [
    "def func(age):\n",
    "    name = \"武沛齐\"\n",
    "\n",
    "    def f1():\n",
    "        print(name, age)\n",
    "\n",
    "    def f2():\n",
    "        print(name, age)\n",
    "\n",
    "    def f3():\n",
    "        print(name, age)\n",
    "\n",
    "    f1()\n",
    "    f2()\n",
    "    f3()\n",
    "\n",
    "func(123)"
   ],
   "metadata": {
    "collapsed": false
   },
   "id": "8caff70819134c3b"
  },
  {
   "cell_type": "markdown",
   "source": [
    "#### 装饰器\n",
    "现在给你一个函数，在不修改函数源码的前提下，实现在函数执行前和执行后分别输入 \"before\" 和 \"after\"。"
   ],
   "metadata": {
    "collapsed": false
   },
   "id": "4d0fe408ec4854c8"
  },
  {
   "cell_type": "code",
   "outputs": [],
   "source": [
    "def func():\n",
    "    print(\"我是func函数\")\n",
    "    value = (11,22,33,44) \n",
    "    return value\n",
    "    \n",
    "result = func()\n",
    "print(result)"
   ],
   "metadata": {
    "collapsed": false
   },
   "id": "5c6b9845d96857b4"
  },
  {
   "cell_type": "code",
   "outputs": [],
   "source": [
    "def func():\n",
    "    print(\"before\")\n",
    "    \n",
    "    print(\"我是func函数\")\n",
    "    value = (11,22,33,44) \n",
    "    \n",
    "    print(\"after\")\n",
    "    \n",
    "    return value\n",
    "    \n",
    "result = func()"
   ],
   "metadata": {
    "collapsed": false
   },
   "id": "e919e26916604566"
  },
  {
   "cell_type": "code",
   "outputs": [],
   "source": [
    "def func():\n",
    "    print(\"我是func函数\")\n",
    "    value = (11, 22, 33, 44)\n",
    "    return value\n",
    "\n",
    "\n",
    "def outer(origin):\n",
    "    def inner():\n",
    "        print('inner')\n",
    "        origin()\n",
    "        print(\"after\")\n",
    "\n",
    "    return inner\n",
    "\n",
    "func = outer(func)\n",
    "result = func()"
   ],
   "metadata": {
    "collapsed": false
   },
   "id": "2fbe0c3da103c50b"
  },
  {
   "cell_type": "code",
   "outputs": [],
   "source": [
    "def func():\n",
    "    print(\"我是func函数\")\n",
    "    value = (11, 22, 33, 44)\n",
    "    return value\n",
    "\n",
    "\n",
    "def outer(origin):\n",
    "    def inner():\n",
    "        print('inner')\n",
    "        res = origin()\n",
    "        print(\"after\")\n",
    "        return res\n",
    "    return inner\n",
    "\n",
    "func = outer(func)\n",
    "result = func()"
   ],
   "metadata": {
    "collapsed": false
   },
   "id": "c5f62c39546efa4c"
  },
  {
   "cell_type": "markdown",
   "source": [
    "装饰器，在不修改原函数内容的前提下，通过@函数可以实现在函数前后自定义执行一些功能（批量操作会更有意义）。"
   ],
   "metadata": {
    "collapsed": false
   },
   "id": "56cf7e305689d616"
  },
  {
   "cell_type": "markdown",
   "source": [
    "#### functools\n",
    "你会发现装饰器实际上就是将原函数更改为其他的函数，然后再此函数中再去调用原函数。"
   ],
   "metadata": {
    "collapsed": false
   },
   "id": "7c9987d31449bdbb"
  },
  {
   "cell_type": "code",
   "outputs": [],
   "source": [
    "def handler():\n",
    "    pass\n",
    "\n",
    "handler()\n",
    "print(handler.__name__) # handler"
   ],
   "metadata": {
    "collapsed": false
   },
   "id": "e40c3075ba5273fb"
  },
  {
   "cell_type": "code",
   "outputs": [],
   "source": [
    "def auth(func):\n",
    "    def inner(*args, **kwargs):\n",
    "        return func(*args, **kwargs)\n",
    "    return inner\n",
    "\n",
    "@auth\n",
    "def handler():\n",
    "    pass\n",
    "\n",
    "handler()\n",
    "print(handler.__name__) # inner"
   ],
   "metadata": {
    "collapsed": false
   },
   "id": "5ae89966dff31861"
  },
  {
   "cell_type": "code",
   "outputs": [],
   "source": [
    "import functools\n",
    "\n",
    "def auth(func):\n",
    "    @functools.wraps(func)\n",
    "    def inner(*args, **kwargs):\n",
    "        return func(*args, **kwargs)\n",
    "    return inner\n",
    "\n",
    "@auth\n",
    "def handler():\n",
    "    pass\n",
    "\n",
    "handler()\n",
    "print(handler.__name__)  # handler"
   ],
   "metadata": {
    "collapsed": false
   },
   "id": "404729694a5398d0"
  },
  {
   "cell_type": "markdown",
   "source": [
    "其实，一般情况下大家不用functools也可以实现装饰器的基本功能，但后期在项目开发时，不加functools会出错（内部会读取`__name__`，且`__name__`重名的话就报错），所以在此大家就要规范起来自己的写法。"
   ],
   "metadata": {
    "collapsed": false
   },
   "id": "e3d9be56f32af3d"
  },
  {
   "cell_type": "code",
   "outputs": [],
   "source": [
    "import functools\n",
    "\n",
    "\n",
    "def auth(func):\n",
    "    @functools.wraps(func)\n",
    "    def inner(*args, **kwargs):\n",
    "        \"\"\"巴巴里吧\"\"\"\n",
    "        res = func(*args, **kwargs)  # 执行原函数\n",
    "        return res\n",
    "\n",
    "    return inner"
   ],
   "metadata": {
    "collapsed": false
   },
   "id": "dfa45f8327ab3913"
  }
 ],
 "metadata": {
  "kernelspec": {
   "display_name": "Python 3",
   "language": "python",
   "name": "python3"
  },
  "language_info": {
   "codemirror_mode": {
    "name": "ipython",
    "version": 2
   },
   "file_extension": ".py",
   "mimetype": "text/x-python",
   "name": "python",
   "nbconvert_exporter": "python",
   "pygments_lexer": "ipython2",
   "version": "2.7.6"
  }
 },
 "nbformat": 4,
 "nbformat_minor": 5
}
