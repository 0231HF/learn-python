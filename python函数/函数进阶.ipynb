{
 "cells": [
  {
   "cell_type": "markdown",
   "source": [
    "#### 参数的补充\n",
    "##### 参数内存地址相关\n",
    ">  函数执行传参时，传递的是内存地址。"
   ],
   "metadata": {
    "collapsed": false
   },
   "id": "1ef4ca05953f954d"
  },
  {
   "cell_type": "code",
   "execution_count": null,
   "id": "initial_id",
   "metadata": {
    "collapsed": true
   },
   "outputs": [],
   "source": []
  },
  {
   "cell_type": "markdown",
   "source": [
    "##### 函数的返回值是内存地址\n"
   ],
   "metadata": {
    "collapsed": false
   },
   "id": "64cadc6de7ab4ed9"
  },
  {
   "cell_type": "code",
   "outputs": [],
   "source": [
    "def func():\n",
    "    data = [11, 22, 33]\n",
    "    return data\n",
    "\n",
    "v1 = func()\n",
    "print(v1) # [11,22,33]"
   ],
   "metadata": {
    "collapsed": false
   },
   "id": "d18c3c215630aec9"
  },
  {
   "cell_type": "markdown",
   "source": [
    "上述代码的执行过程：\n",
    "\n",
    "- 执行func函数\n",
    "- `data = [11, 22, 33]` 创建一块内存区域，内部存储`[11,22,33]`，data变量指向这块内存地址。\n",
    "- `return data` 返回data指向的内存地址\n",
    "- v1接收返回值，所以 v1 和 data 都指向  `[11,22,33]` 的内存地址（两个变量指向此内存，引用计数器为2）\n",
    "- 由函数执行完毕之后，函数内部的变量都会被释放。（即：删除data变量，内存地址的引用计数器-1）\n",
    "\n",
    "所以，最终v1指向的函数内部创建的那块内存地址。\n"
   ],
   "metadata": {
    "collapsed": false
   },
   "id": "a675855be682fc0"
  },
  {
   "cell_type": "code",
   "outputs": [],
   "source": [
    "def func():\n",
    "    data = [11, 22, 33]\n",
    "    return data\n",
    "\n",
    "v1 = func()\n",
    "print(v1) # [11,22,33]\n",
    "\n",
    "v2 = func()\n",
    "print(v2) # [11,22,33]"
   ],
   "metadata": {
    "collapsed": false
   },
   "id": "b0638325a8e35813"
  },
  {
   "cell_type": "markdown",
   "source": [
    "上述代码的执行过程：\n",
    "\n",
    "- 执行func函数\n",
    "- `data = [11, 22, 33]` 创建一块内存区域，内部存储`[11,22,33]`，data变量指向这块内存地址  1000001110。\n",
    "- `return data` 返回data指向的内存地址\n",
    "- v1接收返回值，所以 v1 和 data 都指向  `[11,22,33]` 的内存地址（两个变量指向此内存，引用计数器为2）\n",
    "- 由函数执行完毕之后，函数内部的变量都会被释放。（即：删除data变量，内存地址的引用计数器-1）\n",
    "\n",
    "所以，最终v1指向的函数内部创建的那块内存地址。(v1指向的1000001110内存地址)\n",
    "\n",
    "- 执行func函数\n",
    "- `data = [11, 22, 33]` 创建一块内存区域，内部存储`[11,22,33]`，data变量指向这块内存地址  11111001110。\n",
    "- `return data` 返回data指向的内存地址\n",
    "- v2接收返回值，所以 v1 和 data 都指向  `[11,22,33]` 的内存地址（两个变量指向此内存，引用计数器为2）\n",
    "- 由函数执行完毕之后，函数内部的变量都会被释放。（即：删除data变量，内存地址的引用计数器-1）\n",
    "\n",
    "所以，最终v1指向的函数内部创建的那块内存地址。(v1指向的11111001110内存地址)"
   ],
   "metadata": {
    "collapsed": false
   },
   "id": "af8902c70c42e8f9"
  },
  {
   "cell_type": "markdown",
   "source": [
    "##### 参数的默认值\n"
   ],
   "metadata": {
    "collapsed": false
   },
   "id": "5fc132a8e8b26dca"
  },
  {
   "cell_type": "code",
   "outputs": [],
   "source": [
    "def func(a1,a2=18):\n",
    "    print(a1,a2)\n",
    "    "
   ],
   "metadata": {
    "collapsed": false
   },
   "id": "2888865ed791165d"
  },
  {
   "cell_type": "markdown",
   "source": [
    "##### 动态参数\n",
    "动态参数，定义函数时在形参位置用 `*或**` 可以接任意个参数。\n"
   ],
   "metadata": {
    "collapsed": false
   },
   "id": "bd5ed41041bbb0cf"
  },
  {
   "cell_type": "code",
   "outputs": [],
   "source": [
    "def func(*args,**kwargs):\n",
    "    print(args,kwargs)\n",
    "    \n",
    "func(\"宝强\",\"杰伦\",n1=\"alex\",n2=\"eric\")"
   ],
   "metadata": {
    "collapsed": false
   },
   "id": "52d6b4b1d0a3e1c0"
  },
  {
   "cell_type": "markdown",
   "source": [
    "在定义函数时可以用 `*和**`，其实在执行函数时，也可以用。\n",
    "- 在定义函数时可以用 `*和**`，其实在执行函数时，也可以用。\n",
    "- 形参用`*和**`，实参也用 `*和**`"
   ],
   "metadata": {
    "collapsed": false
   },
   "id": "f1f74cf5f9db12c0"
  },
  {
   "cell_type": "code",
   "outputs": [],
   "source": [
    "def func(a1,a2):\n",
    "    print(a1,a2)\n",
    "    \n",
    "func( 11, 22 )\n",
    "func( a1=1, a2=2 )\n",
    "\n",
    "func( *[11,22] )\n",
    "func( **{\"a1\":11,\"a2\":22} )"
   ],
   "metadata": {
    "collapsed": false
   },
   "id": "2b7028c11cef651a"
  },
  {
   "cell_type": "code",
   "outputs": [],
   "source": [
    "def func(*args,**kwargs):\n",
    "    print(args,kwargs)\n",
    "    \n",
    "func( 11, 22 )\n",
    "func( 11, 22, name=\"武沛齐\", age=18 )\n",
    "\n",
    "# 小坑，([11,22,33], {\"k1\":1,\"k2\":2}), {}\n",
    "func( [11,22,33], {\"k1\":1,\"k2\":2} )\n",
    "\n",
    "# args=(11,22,33),kwargs={\"k1\":1,\"k2\":2}\n",
    "func( *[11,22,33], **{\"k1\":1,\"k2\":2} ) \n",
    "\n",
    "# 值得注意：按照这个方式将数据传递给args和kwargs时，数据是会重新拷贝一份的（可理解为内部循环每个元素并设置到args和kwargs中）。"
   ],
   "metadata": {
    "collapsed": false
   },
   "id": "d691cfea4612fc2f"
  },
  {
   "cell_type": "markdown",
   "source": [
    "所以，在使用format字符串格式化时，可以可以这样："
   ],
   "metadata": {
    "collapsed": false
   },
   "id": "7f73211c4bbcfd40"
  },
  {
   "cell_type": "code",
   "outputs": [],
   "source": [
    "v1 = \"我是{},年龄：{}。\".format(\"武沛齐\",18)\n",
    "v2 = \"我是{name},年龄：{age}。\".format(name=\"武沛齐\",age=18)\n",
    "\n",
    "\n",
    "v3 = \"我是{},年龄：{}。\".format(*[\"武沛齐\",18])\n",
    "v4 = \"我是{name},年龄：{age}。\".format(**{\"name\":\"武沛齐\",\"age\":18})"
   ],
   "metadata": {
    "collapsed": false
   },
   "id": "ad78df343d2c3903"
  }
 ],
 "metadata": {
  "kernelspec": {
   "display_name": "Python 3",
   "language": "python",
   "name": "python3"
  },
  "language_info": {
   "codemirror_mode": {
    "name": "ipython",
    "version": 2
   },
   "file_extension": ".py",
   "mimetype": "text/x-python",
   "name": "python",
   "nbconvert_exporter": "python",
   "pygments_lexer": "ipython2",
   "version": "2.7.6"
  }
 },
 "nbformat": 4,
 "nbformat_minor": 5
}
