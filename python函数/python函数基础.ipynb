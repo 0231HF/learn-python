{
 "cells": [
  {
   "cell_type": "markdown",
   "source": [
    "#### 初识函数\n",
    "> 函数到底是个什么东西？\n",
    "函数，可以当做是一大堆功能代码的集合。\n",
    "\n",
    "> 什么时候会用到函数？\n",
    "什么时候会用到函数呢？一般在项目开发中有会有两种应用场景：\n",
    "- 有重复代码，用函数增加代码的重用性。\n",
    "- 代码太长，用函数增强代码的可读性。\n"
   ],
   "metadata": {
    "collapsed": false
   },
   "id": "f98d9f4b016e6be9"
  },
  {
   "cell_type": "code",
   "execution_count": null,
   "id": "initial_id",
   "metadata": {
    "collapsed": true
   },
   "outputs": [],
   "source": [
    "# 定义名字叫info的函数\n",
    "def info():\n",
    "    print(\"第一行\")\n",
    "    print(\"第二行\")\n",
    "    print(\"第n行...\")\n",
    "    \n",
    "info()"
   ]
  },
  {
   "cell_type": "markdown",
   "source": [
    "#### 函数的参数\n",
    "##### 参数\n",
    "在定义函数时，如果在括号中添加`变量`，我们称它为函数的形式参数：\n",
    "- 位置传参\n",
    "```python\n",
    "def add(n1,n2):\n",
    "    print(n1+n2)\n",
    "    \n",
    "add(1,22) \n",
    "```\n",
    "- 关键字传参\n",
    "```python\n",
    "def add(n1,n2):\n",
    "    print(n1+n2)\n",
    "    \n",
    "add(n1=1,n2=22)\n",
    "```\n"
   ],
   "metadata": {
    "collapsed": false
   },
   "id": "4efadf15109aef89"
  },
  {
   "cell_type": "code",
   "outputs": [],
   "source": [
    "# ###### 定义有三个参数的函数（a1/a2/a3一般称为形式参数-形参） #####\n",
    "def func(a1,a2,a3):\n",
    "    print(a1+a2+a3)\n",
    "\n",
    "# 执行函数并传入参数（执行函数传值时一般称为实际参数-实参）\n",
    "func(11,22,33)\n",
    "\n",
    "# 执行函数并传入参数\n",
    "func(9,2,103)"
   ],
   "metadata": {
    "collapsed": false
   },
   "id": "7eb0a7c833e28b93"
  },
  {
   "cell_type": "markdown",
   "source": [
    "##### 默认参数\n"
   ],
   "metadata": {
    "collapsed": false
   },
   "id": "33f3a95f5a4177d0"
  },
  {
   "cell_type": "code",
   "outputs": [],
   "source": [
    "def func(a1, a2, a3=10):\n",
    "    print(a1 + a2 + a3)\n",
    "\n",
    "\n",
    "# 位置传参\n",
    "func(8, 19)\n",
    "func(1, 2, 99)\n",
    "\n",
    "# 关键字传参（位置和关键混合时，关键字传参要在后面）\n",
    "func(12, 9, a3=90)\n",
    "func(12, a2=9, a3=90)\n",
    "func(a1=12, a2=9, a3=90)"
   ],
   "metadata": {
    "collapsed": false
   },
   "id": "bc7d24c47303e7a3"
  },
  {
   "cell_type": "markdown",
   "source": [
    "##### 动态参数\n",
    "- *\n",
    "- ** \n",
    "\n",
    "> 注意事项\n",
    " 1. ** 必须放在 * 的后面\n",
    "2. 参数和动态参数混合时，动态参数只能放在最后。\n",
    "3. 默认值参数和动态参数同时存在\n",
    "```python\n",
    "def func3(a1, a2, a3, a4=10, *args, a5=20, **kwargs):\n",
    "    print(a1, a2, a3, a4, a5, args, kwargs)\n",
    "\n",
    "\n",
    "func3(11, 22, 33, 44, 55, 66, 77, a5=10, a10=123)\n",
    "```"
   ],
   "metadata": {
    "collapsed": false
   },
   "id": "1eb9914af4f48280"
  },
  {
   "cell_type": "code",
   "outputs": [],
   "source": [
    "def func(*args):\n",
    "    print(args) # 元组类型 (22,)   (22,33,99,) ()\n",
    "\n",
    "# 只能按照位置传参\n",
    "func(22)\n",
    "func(22,33)\n",
    "func(22,33,99)\n",
    "func()\n"
   ],
   "metadata": {
    "collapsed": false
   },
   "id": "fae344940c534b02"
  },
  {
   "cell_type": "code",
   "outputs": [],
   "source": [
    "def func(**kwargs):\n",
    "    print(kwargs) # 字典类型 {\"n1\":\"武沛齐\"}    {\"n1\":\"武沛齐\",\"age\":\"18\",\"email\":\"xxxx\"}  {}\n",
    "    \n",
    "# 只能按关键字传参\n",
    "func(n1=\"武沛齐\")\n",
    "func(n1=\"武沛齐\",age=18)\n",
    "func(n1=\"武沛齐\",age=18,email=\"xx@live.com\")\n"
   ],
   "metadata": {
    "collapsed": false
   },
   "id": "7258df2a2efe7e35"
  },
  {
   "cell_type": "code",
   "outputs": [],
   "source": [
    "def func(*args,**kwargs):\n",
    "    print(args,kwargs) # (22,33,99) {}\n",
    "\n",
    "func(22,33,99)\n",
    "func(n1=\"武沛齐\",age=18)\n",
    "func(22,33,99,n1=\"武沛齐\",age=18)\n",
    "func()"
   ],
   "metadata": {
    "collapsed": false
   },
   "id": "d104a90e19a6c095"
  },
  {
   "cell_type": "markdown",
   "source": [
    "##### 函数返回值\n",
    "在开发过程中，我们希望函数可以帮助我们实现某个功能，但让函数实现某功能之后有时也需要有一些结果需要反馈给我们，例如："
   ],
   "metadata": {
    "collapsed": false
   },
   "id": "83030d9ede74e5e0"
  },
  {
   "cell_type": "code",
   "outputs": [],
   "source": [
    "import requests\n",
    "from xml.etree import ElementTree as ET\n",
    "\n",
    "\n",
    "def xml_to_list(city):\n",
    "    data_list = []\n",
    "    url = \"http://ws.webxml.com.cn//WebServices/WeatherWebService.asmx/getWeatherbyCityName?theCityName={}\".format(city)\n",
    "    res = requests.get(url=url)\n",
    "    root = ET.XML(res.text)\n",
    "    for node in root:\n",
    "        data_list.append(node.text)\n",
    "    return data_list\n",
    "\n",
    "\n",
    "result = xml_to_list(\"北京\")\n",
    "print(result)"
   ],
   "metadata": {
    "collapsed": false
   },
   "id": "e853b29723abdf65"
  },
  {
   "cell_type": "code",
   "outputs": [],
   "source": [
    "def func():\n",
    "    return 666\n",
    "\n",
    "res = func()\n",
    "print(res) # 666\n"
   ],
   "metadata": {
    "collapsed": false
   },
   "id": "9d1d255ebc3cdd64"
  },
  {
   "cell_type": "code",
   "outputs": [],
   "source": [
    "def magic(num):\n",
    "    result = num + 1000\n",
    "    return result\n",
    "\n",
    "data = magic(9)\n",
    "print(data) # 1009"
   ],
   "metadata": {
    "collapsed": false
   },
   "id": "6517c220984adf87"
  },
  {
   "cell_type": "markdown",
   "source": [
    "返回值可以是任意类型，如果函数中没写return，则默认返回None\n",
    "当在函数中`未写返回值` 或 `return` 或 `return None` ，执行函数获取的返回值都是None。\n",
    "return后面的值如果有逗号，则默认会将返回值转换成元组再返回。\n",
    "函数一旦遇到return就会立即退出函数（终止函数中的所有代码）"
   ],
   "metadata": {
    "collapsed": false
   },
   "id": "67bac93e8b25fbdc"
  },
  {
   "cell_type": "code",
   "outputs": [],
   "source": [
    "def func():\n",
    "    return [1,True,(11,22,33)]\n",
    "\n",
    "result = func()\n",
    "print(result)"
   ],
   "metadata": {
    "collapsed": false
   },
   "id": "6110f32ffac5e410"
  },
  {
   "cell_type": "code",
   "outputs": [],
   "source": [
    "def func():\n",
    "    value = 1 + 1\n",
    "    return  # 或 return None\n",
    "\n",
    "ret = func()\n",
    "print(ret) # None"
   ],
   "metadata": {
    "collapsed": false
   },
   "id": "564788a32e77dfd0"
  },
  {
   "cell_type": "code",
   "outputs": [],
   "source": [
    "def func():\n",
    "    return 1,2,3\n",
    "\n",
    "value = func()\n",
    "print(value) # (1,2,3)"
   ],
   "metadata": {
    "collapsed": false
   },
   "id": "34de4a15c5457f9a"
  },
  {
   "cell_type": "code",
   "outputs": [],
   "source": [
    "def func():\n",
    "    print(1)\n",
    "    return \"结束吧\"\n",
    "\tprint(2)\n",
    "    \n",
    "ret = func()\n",
    "print(ret)"
   ],
   "metadata": {
    "collapsed": false
   },
   "id": "a42c3601c9b11a38"
  }
 ],
 "metadata": {
  "kernelspec": {
   "display_name": "Python 3",
   "language": "python",
   "name": "python3"
  },
  "language_info": {
   "codemirror_mode": {
    "name": "ipython",
    "version": 2
   },
   "file_extension": ".py",
   "mimetype": "text/x-python",
   "name": "python",
   "nbconvert_exporter": "python",
   "pygments_lexer": "ipython2",
   "version": "2.7.6"
  }
 },
 "nbformat": 4,
 "nbformat_minor": 5
}
