{
 "cells": [
  {
   "cell_type": "markdown",
   "source": [
    "#### 面向对象\n",
    "##### 初识面向对象\n",
    "######  定义类\n",
    "```python\n",
    "class DogCat:\n",
    "    pass\n",
    "\n",
    "```\n",
    "> 类名称 驼峰命名法\n",
    "> 默认类都是继承object的\n",
    "> 在类中编写的函数 称为方法\n",
    "> 方法的的第一个参数都是self\n",
    "\n",
    "\n",
    "###### 类(class) 和 实例(instance)\n",
    "类(classes)是用于创建用户定义的数据结构 类也有特殊的函数 叫做方法，它定义了从类中创建的对象可以使用其数据执行的行为和操作。\n",
    "\n",
    "类是蓝图，而实例(instance)是由包含真实数据的类构建的对象。\n"
   ],
   "metadata": {
    "collapsed": false
   },
   "id": "fb80a6c0e9f8859b"
  },
  {
   "cell_type": "code",
   "outputs": [
    {
     "name": "stdout",
     "output_type": "stream",
     "text": [
      "xsxas\n"
     ]
    }
   ],
   "source": [
    "#定义函数\n",
    "def func():\n",
    "    print(\"xsxas\")\n",
    "#执行函数\n",
    "func()"
   ],
   "metadata": {
    "collapsed": false,
    "ExecuteTime": {
     "end_time": "2024-02-26T13:33:55.665489Z",
     "start_time": "2024-02-26T13:33:55.651295Z"
    }
   },
   "id": "352e644c43fa5954",
   "execution_count": 1
  },
  {
   "cell_type": "code",
   "outputs": [
    {
     "name": "stdout",
     "output_type": "stream",
     "text": [
      "xsxas\n"
     ]
    }
   ],
   "source": [
    "#定义类\n",
    "class Foo:\n",
    "    def func(self):\n",
    "         print(\"xsxas\")\n",
    "#实例化类的对象\n",
    "obj = Foo() # 创建一块区域\n",
    "# 执行类的方法\n",
    "obj.func()"
   ],
   "metadata": {
    "collapsed": false,
    "ExecuteTime": {
     "end_time": "2024-02-26T13:36:55.445475Z",
     "start_time": "2024-02-26T13:36:55.440241Z"
    }
   },
   "id": "cda4c94255df2c46",
   "execution_count": 2
  },
  {
   "cell_type": "markdown",
   "source": [
    "###### 对象和 self\n",
    "在每个类中 都可以定义个特殊的:`__init__`初始化方法，在实例化创建对象的时自动执行，即 `对象=类()`\n",
    "\n",
    "面向对象的思想 :将一些数据封装刀对象中，在执行方法时，再去对象中获取\n",
    "函数的思想是: 函数内部需要的数据均通过参数的形式传递\n",
    "\n",
    "- self 本质上就是一个参数，这个参数是python内部提供的 其实本质上就是调用当前方法的那个对象\n",
    "- 对象 基于类实例化出来的 一块内存 默认里面没有数据 经过类的__init__方法 可以在内存中初始化一些数据"
   ],
   "metadata": {
    "collapsed": false
   },
   "id": "ddfa5f60cdcb8e84"
  },
  {
   "cell_type": "code",
   "outputs": [
    {
     "name": "stdout",
     "output_type": "stream",
     "text": [
      "xsxxsaxsaas\n",
      "给xsaxs发邮件sss\n"
     ]
    }
   ],
   "source": [
    "def func():\n",
    "         print(\"xsxxsaxsaas\")\n",
    "class Message:\n",
    "    def __init__(self,content,func):\n",
    "        self.data=content\n",
    "        func()\n",
    "    def send_message(self,email):\n",
    "        data = \"给{}发邮件{}\".format(email,self.data)\n",
    "        print(data)\n",
    "msg_object = Message(\"sss\",func)\n",
    "#1 根据类型创建一个对象，内存的一个区域\n",
    "#2. 执行__init__方法 默认将创建的那块区域的内存地址当作self的参数传递进去\n",
    "msg_object.send_message(\"xsaxs\")"
   ],
   "metadata": {
    "collapsed": false,
    "ExecuteTime": {
     "end_time": "2024-02-26T14:16:02.739580Z",
     "start_time": "2024-02-26T14:16:02.706482Z"
    }
   },
   "id": "eda4e4908ec86db7",
   "execution_count": 7
  },
  {
   "cell_type": "markdown",
   "source": [
    "###### 常见成员\n",
    "- 绑定方法 执行绑定方法===> 对象.绑定方法() 或者 类.绑定方法(对象) 对象调用 或者类调用\n",
    "- \n",
    "###### 应用示例\n",
    "- 将数据封装到数据 以后再去获取 规范数据\n",
    "- 将数据封装刀对象中，在类的相关方法对原始数据进行加工处理"
   ],
   "metadata": {
    "collapsed": false
   },
   "id": "3d97610f8cb9313c"
  },
  {
   "cell_type": "code",
   "outputs": [],
   "source": [
    "# 执行绑定方法\n",
    "class Person:\n",
    "    def __init__(self,n1,n2):\n",
    "        # 实例变量 属于对象\n",
    "        self.n1=n1\n",
    "        self.n2=n2\n",
    "    def fun1(self):\n",
    "        pass\n",
    "##执行绑定方法 对象调用\n",
    "p1 = Person()\n",
    "p1.fun1()\n",
    "\n",
    "#或者  类调用\n",
    "p2=Person()\n",
    "Person.fun1(p2)\n",
    "#初始化  实例化了Person类的对象叫xxx"
   ],
   "metadata": {
    "collapsed": false
   },
   "id": "b977ec5ed6a2f372"
  }
 ],
 "metadata": {
  "kernelspec": {
   "display_name": "Python 3",
   "language": "python",
   "name": "python3"
  },
  "language_info": {
   "codemirror_mode": {
    "name": "ipython",
    "version": 2
   },
   "file_extension": ".py",
   "mimetype": "text/x-python",
   "name": "python",
   "nbconvert_exporter": "python",
   "pygments_lexer": "ipython2",
   "version": "2.7.6"
  }
 },
 "nbformat": 4,
 "nbformat_minor": 5
}
