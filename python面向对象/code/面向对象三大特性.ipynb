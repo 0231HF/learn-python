{
 "cells": [
  {
   "cell_type": "markdown",
   "source": [
    "#### 面向对象三大特性\n",
    "面向对象在很多语言编程中都存在,这种编程方法有三大特性:封装、继承、多肽\n",
    "\n",
    "##### 封装\n",
    "封装主要体现在两个方面:\n",
    "- 将同一类方法封装到一个类中,例如:匪徒的方法都写到了匪徒的类中；警察的相关方法都写到警察的类中\n",
    "- 将数据封装到对象中，在实例化一个对象的时，可以通过`__init__`初始化方法在对象中封装一些数据，便于以后使用\n",
    "\n",
    "\n",
    "##### 继承\n",
    "在传统的理念中: 晚辈可以继承父类的财产\n",
    "在面向对象中也有这样的理念，即：子类可以继承父类中的方法和类变量（不是拷贝一份，父类的还是属于父类，子类可以继承而已）。\n",
    "\n",
    "父类 子类 基类 派生类"
   ],
   "metadata": {
    "collapsed": false
   },
   "id": "2b06e55eac431bea"
  },
  {
   "cell_type": "code",
   "execution_count": null,
   "id": "initial_id",
   "metadata": {
    "collapsed": true
   },
   "outputs": [],
   "source": [
    "class Base:\n",
    "\n",
    "    def func(self):\n",
    "        print(\"Base.func\")\n",
    "\n",
    "\n",
    "class Son(Base):  # Son类继承了Base类\n",
    "\n",
    "    def show(self):\n",
    "        print(\"Son.show\")\n",
    "\n",
    "\n",
    "s1 = Son()\n",
    "s1.show()\n",
    "s1.func()  # 优先在自己的类中找，自己没有才去父类。\n",
    "\n",
    "s2 = Base()\n",
    "s2.func()"
   ]
  },
  {
   "cell_type": "code",
   "outputs": [
    {
     "name": "stdout",
     "output_type": "stream",
     "text": [
      "base.f1\n",
      "foo.f2\n"
     ]
    }
   ],
   "source": [
    "class Base:\n",
    "    def f1(self):\n",
    "        print('base.f1')\n",
    "\n",
    "\n",
    "class Foo(Base):\n",
    "    def f2(self):\n",
    "        print('foo.f2')\n",
    "\n",
    "\n",
    "obj = Foo()\n",
    "obj.f1()\n",
    "obj.f2()"
   ],
   "metadata": {
    "collapsed": false,
    "ExecuteTime": {
     "end_time": "2024-02-27T06:51:09.279336Z",
     "start_time": "2024-02-27T06:51:09.268704Z"
    }
   },
   "id": "720f227eb669d34e",
   "execution_count": 1
  },
  {
   "cell_type": "code",
   "outputs": [
    {
     "name": "stdout",
     "output_type": "stream",
     "text": [
      "before\n",
      "base.f1\n",
      "foo.f2\n"
     ]
    }
   ],
   "source": [
    "class Base:\n",
    "    def f1(self):\n",
    "        print('base.f1')\n",
    "\n",
    "\n",
    "class Foo(Base):\n",
    "    def f2(self):\n",
    "        print('before')\n",
    "        self.f1()  # 调用了f1方法   obj.f1()\n",
    "        print('foo.f2')\n",
    "\n",
    "\n",
    "obj = Foo()\n",
    "obj.f2()"
   ],
   "metadata": {
    "collapsed": false,
    "ExecuteTime": {
     "end_time": "2024-02-27T06:51:49.949173Z",
     "start_time": "2024-02-27T06:51:49.942390Z"
    }
   },
   "id": "cd36fa9643975702",
   "execution_count": 2
  },
  {
   "cell_type": "code",
   "outputs": [
    {
     "name": "stdout",
     "output_type": "stream",
     "text": [
      "foo.f1\n",
      "before\n",
      "foo.f1\n",
      "foo.f2\n"
     ]
    }
   ],
   "source": [
    "class Base:\n",
    "    def f1(self):\n",
    "        print('base.f1')\n",
    "\n",
    "\n",
    "class Foo(Base):\n",
    "    def f2(self):\n",
    "        print(\"before\")\n",
    "        self.f1()  # obj,Foo类创建出来的对象。 obj.f1\n",
    "        print('foo.f2')\n",
    "\n",
    "    def f1(self):\n",
    "        print('foo.f1')\n",
    "\n",
    "\n",
    "obj = Foo()\n",
    "obj.f1()  # obj对象到底是谁？优先就会先去谁里面找。 foo.f1\n",
    "obj.f2()  # before foo.f1 foo.f2"
   ],
   "metadata": {
    "collapsed": false,
    "ExecuteTime": {
     "end_time": "2024-02-27T06:53:59.313598Z",
     "start_time": "2024-02-27T06:53:59.290278Z"
    }
   },
   "id": "7e7dfff8790d9684",
   "execution_count": 3
  },
  {
   "cell_type": "code",
   "outputs": [
    {
     "name": "stdout",
     "output_type": "stream",
     "text": [
      "before\n",
      "foo.f2\n",
      "base.f1\n",
      "before\n",
      "base.f2\n",
      "base.f1\n"
     ]
    }
   ],
   "source": [
    "class Base:\n",
    "    def f1(self):\n",
    "        print('before')\n",
    "        self.f2()  # slef是obj对象（Foo类创建的对象） obj.f2\n",
    "        print('base.f1')\n",
    "\n",
    "    def f2(self):\n",
    "        print('base.f2')\n",
    "\n",
    "\n",
    "class Foo(Base):\n",
    "    def f2(self):\n",
    "        print('foo.f2')\n",
    "\n",
    "\n",
    "obj = Foo()\n",
    "obj.f1()  # before  foo.f2 base.f1\n",
    "\n",
    "b1 = Base()\n",
    "b1.f1()\n"
   ],
   "metadata": {
    "collapsed": false,
    "ExecuteTime": {
     "end_time": "2024-02-27T06:55:33.906495Z",
     "start_time": "2024-02-27T06:55:33.903423Z"
    }
   },
   "id": "4322c553dc0ceb1a",
   "execution_count": 5
  },
  {
   "cell_type": "code",
   "outputs": [
    {
     "name": "stdout",
     "output_type": "stream",
     "text": [
      "before\n",
      "ThreadingMixIn\n",
      "after\n"
     ]
    }
   ],
   "source": [
    "class TCPServer:\n",
    "    def f1(self):\n",
    "        print(\"TCPServer\")\n",
    "\n",
    "\n",
    "class ThreadingMixIn:\n",
    "    def f1(self):\n",
    "        print(\"ThreadingMixIn\")\n",
    "\n",
    "\n",
    "class ThreadingTCPServer(ThreadingMixIn, TCPServer):\n",
    "    def run(self):\n",
    "        print('before')\n",
    "        self.f1()\n",
    "        print('after')\n",
    "\n",
    "\n",
    "obj = ThreadingTCPServer()\n",
    "obj.run()  # before  Thre after"
   ],
   "metadata": {
    "collapsed": false,
    "ExecuteTime": {
     "end_time": "2024-02-27T06:56:35.722326Z",
     "start_time": "2024-02-27T06:56:35.718672Z"
    }
   },
   "id": "a41e8c32cb01ba43",
   "execution_count": 6
  },
  {
   "cell_type": "code",
   "outputs": [
    {
     "ename": "AttributeError",
     "evalue": "'ThreadingTCPServer' object has no attribute '_handle_request_noblock'",
     "output_type": "error",
     "traceback": [
      "\u001B[0;31m---------------------------------------------------------------------------\u001B[0m",
      "\u001B[0;31mAttributeError\u001B[0m                            Traceback (most recent call last)",
      "Cell \u001B[0;32mIn[8], line 26\u001B[0m\n\u001B[1;32m     22\u001B[0m     \u001B[38;5;28;01mpass\u001B[39;00m\n\u001B[1;32m     25\u001B[0m obj \u001B[38;5;241m=\u001B[39m ThreadingTCPServer()\n\u001B[0;32m---> 26\u001B[0m obj\u001B[38;5;241m.\u001B[39mserve_forever()\n",
      "Cell \u001B[0;32mIn[8], line 3\u001B[0m, in \u001B[0;36mBaseServer.serve_forever\u001B[0;34m(self, poll_interval)\u001B[0m\n\u001B[1;32m      2\u001B[0m \u001B[38;5;28;01mdef\u001B[39;00m \u001B[38;5;21mserve_forever\u001B[39m(\u001B[38;5;28mself\u001B[39m, poll_interval\u001B[38;5;241m=\u001B[39m\u001B[38;5;241m0.5\u001B[39m):\n\u001B[0;32m----> 3\u001B[0m     \u001B[38;5;28mself\u001B[39m\u001B[38;5;241m.\u001B[39m_handle_request_noblock()\n\u001B[1;32m      5\u001B[0m     \u001B[38;5;28;01mdef\u001B[39;00m \u001B[38;5;21m_handle_request_noblock\u001B[39m(\u001B[38;5;28mself\u001B[39m):\n\u001B[1;32m      6\u001B[0m         \u001B[38;5;28mself\u001B[39m\u001B[38;5;241m.\u001B[39mprocess_request(request, client_address)\n",
      "\u001B[0;31mAttributeError\u001B[0m: 'ThreadingTCPServer' object has no attribute '_handle_request_noblock'"
     ]
    }
   ],
   "source": [
    "class BaseServer:\n",
    "    def serve_forever(self, poll_interval=0.5):\n",
    "        self._handle_request_noblock()\n",
    "\n",
    "        def _handle_request_noblock(self):\n",
    "            self.process_request(request, client_address)\n",
    "\n",
    "        def process_request(self, request, client_address):\n",
    "            pass\n",
    "\n",
    "\n",
    "class TCPServer(BaseServer):\n",
    "    pass\n",
    "\n",
    "\n",
    "class ThreadingMixIn:\n",
    "    def process_request(self, request, client_address):\n",
    "        pass\n",
    "\n",
    "\n",
    "class ThreadingTCPServer(ThreadingMixIn, TCPServer):\n",
    "    pass\n",
    "\n",
    "\n",
    "obj = ThreadingTCPServer()\n",
    "obj.serve_forever()"
   ],
   "metadata": {
    "collapsed": false,
    "ExecuteTime": {
     "end_time": "2024-02-27T06:57:57.131608Z",
     "start_time": "2024-02-27T06:57:56.856850Z"
    }
   },
   "id": "97b630eb2842f10d",
   "execution_count": 8
  },
  {
   "cell_type": "markdown",
   "source": [
    "执行对象.方法时，优先去当前对象所关联的类中找，没有的话才去她的父类中查找。\n",
    "Python支持多继承：先继承左边、再继承右边的。\n",
    "self到底是谁？去self对应的那个类中去获取成员，没有就按照继承关系向上查找 。"
   ],
   "metadata": {
    "collapsed": false
   },
   "id": "70eafb3f7e705679"
  },
  {
   "cell_type": "markdown",
   "source": [
    "##### 多态\n",
    "多态，按字面翻译其实就是多种形态。\n",
    "- 其他编程语言多态\n",
    "- Python中的多态\n",
    "\n",
    "在java或其他语言中的多态是基于：接口 或 抽象类和抽象方法来实现，让数据可以以多种形态存在。\n",
    "在Python中则不一样，由于Python对数据类型没有任何限制，所以他天生支持多态。"
   ],
   "metadata": {
    "collapsed": false
   },
   "id": "69db1e005af007fc"
  },
  {
   "cell_type": "code",
   "outputs": [
    {
     "ename": "AttributeError",
     "evalue": "'str' object has no attribute 'copy'",
     "output_type": "error",
     "traceback": [
      "\u001B[0;31m---------------------------------------------------------------------------\u001B[0m",
      "\u001B[0;31mAttributeError\u001B[0m                            Traceback (most recent call last)",
      "Cell \u001B[0;32mIn[9], line 5\u001B[0m\n\u001B[1;32m      2\u001B[0m     v1 \u001B[38;5;241m=\u001B[39m arg\u001B[38;5;241m.\u001B[39mcopy() \u001B[38;5;66;03m# 浅拷贝\u001B[39;00m\n\u001B[1;32m      3\u001B[0m     \u001B[38;5;28mprint\u001B[39m(v1)\n\u001B[0;32m----> 5\u001B[0m func(\u001B[38;5;124m\"\u001B[39m\u001B[38;5;124m武沛齐\u001B[39m\u001B[38;5;124m\"\u001B[39m)\n\u001B[1;32m      6\u001B[0m func([\u001B[38;5;241m11\u001B[39m,\u001B[38;5;241m22\u001B[39m,\u001B[38;5;241m33\u001B[39m,\u001B[38;5;241m44\u001B[39m])\n",
      "Cell \u001B[0;32mIn[9], line 2\u001B[0m, in \u001B[0;36mfunc\u001B[0;34m(arg)\u001B[0m\n\u001B[1;32m      1\u001B[0m \u001B[38;5;28;01mdef\u001B[39;00m \u001B[38;5;21mfunc\u001B[39m(arg):\n\u001B[0;32m----> 2\u001B[0m     v1 \u001B[38;5;241m=\u001B[39m arg\u001B[38;5;241m.\u001B[39mcopy() \u001B[38;5;66;03m# 浅拷贝\u001B[39;00m\n\u001B[1;32m      3\u001B[0m     \u001B[38;5;28mprint\u001B[39m(v1)\n",
      "\u001B[0;31mAttributeError\u001B[0m: 'str' object has no attribute 'copy'"
     ]
    }
   ],
   "source": [
    "def func(arg):\n",
    "    v1 = arg.copy() # 浅拷贝\n",
    "    print(v1)\n",
    "    \n",
    "func(\"武沛齐\")\n",
    "func([11,22,33,44])"
   ],
   "metadata": {
    "collapsed": false,
    "ExecuteTime": {
     "end_time": "2024-02-27T07:00:40.070974Z",
     "start_time": "2024-02-27T07:00:40.054752Z"
    }
   },
   "id": "3510d1c7f30cd2af",
   "execution_count": 9
  },
  {
   "cell_type": "markdown",
   "source": [
    "在程序设计中，鸭子类型（duck typing）是动态类型的一种风格。在鸭子类型中，关注点在于对象的行为，能作什么；而不是关注对象所属的类型，例如：一只鸟走起来像鸭子、游泳起来像鸭子、叫起来也像鸭子，那么这只鸟可以被称为鸭子。\n",
    "\n",
    "##### 小结\n",
    "\n",
    "- 封装，将方法封装到类中 或 将数据封装到对象中，便于以后使用。\n",
    "- 继承，将类中的公共的方法提取到基类中去实现。\n",
    "- 多态，Python默认支持多态（这种方式称之为鸭子类型），最简单的基础下面的这段代码即可。"
   ],
   "metadata": {
    "collapsed": false
   },
   "id": "d0add323638edc97"
  },
  {
   "cell_type": "code",
   "outputs": [
    {
     "name": "stdout",
     "output_type": "stream",
     "text": [
      "foo.f0\n",
      "base1.f3\n",
      "base1.f1\n"
     ]
    }
   ],
   "source": [
    "class Base1:\n",
    "    def f1(self):\n",
    "        print('base1.f1')\n",
    "\n",
    "    def f2(self):\n",
    "        print('base1.f2')\n",
    "\n",
    "    def f3(self):\n",
    "        print('base1.f3')\n",
    "        self.f1()\n",
    "\n",
    "\n",
    "class Base2:\n",
    "    def f1(self):\n",
    "        print('base2.f1')\n",
    "\n",
    "\n",
    "class Foo(Base1, Base2):\n",
    "    def f0(self):\n",
    "        print('foo.f0')\n",
    "        self.f3()\n",
    "\n",
    "\n",
    "obj = Foo()\n",
    "obj.f0() #foo.f0 base1.f3 base1.f1"
   ],
   "metadata": {
    "collapsed": false,
    "ExecuteTime": {
     "end_time": "2024-02-27T10:05:48.388188Z",
     "start_time": "2024-02-27T10:05:48.385325Z"
    }
   },
   "id": "d3ec5070adaed8bd",
   "execution_count": 10
  },
  {
   "cell_type": "code",
   "outputs": [
    {
     "name": "stdout",
     "output_type": "stream",
     "text": [
      "foo.f2\n",
      "foo.f1\n",
      "base.f3\n"
     ]
    }
   ],
   "source": [
    "class Base:\n",
    "    def f1(self):\n",
    "        print('base.f1')\n",
    "\n",
    "    def f3(self):\n",
    "        self.f1()\n",
    "        print('base.f3')\n",
    "\n",
    "\n",
    "class Foo(Base):\n",
    "    def f1(self):\n",
    "        print('foo.f1')\n",
    "\n",
    "    def f2(self):\n",
    "        print('foo.f2')\n",
    "        self.f3()\n",
    "\n",
    "\n",
    "obj = Foo()\n",
    "obj.f2() #foo.f2 foo.f1 base.f3"
   ],
   "metadata": {
    "collapsed": false,
    "ExecuteTime": {
     "end_time": "2024-02-27T10:08:38.994945Z",
     "start_time": "2024-02-27T10:08:38.977371Z"
    }
   },
   "id": "aa2f273dc6c18a4c",
   "execution_count": 11
  },
  {
   "cell_type": "code",
   "outputs": [],
   "source": [],
   "metadata": {
    "collapsed": false
   },
   "id": "b23b52e315851404"
  }
 ],
 "metadata": {
  "kernelspec": {
   "display_name": "Python 3",
   "language": "python",
   "name": "python3"
  },
  "language_info": {
   "codemirror_mode": {
    "name": "ipython",
    "version": 2
   },
   "file_extension": ".py",
   "mimetype": "text/x-python",
   "name": "python",
   "nbconvert_exporter": "python",
   "pygments_lexer": "ipython2",
   "version": "2.7.6"
  }
 },
 "nbformat": 4,
 "nbformat_minor": 5
}
