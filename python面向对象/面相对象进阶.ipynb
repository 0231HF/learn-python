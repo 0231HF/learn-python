{
 "cells": [
  {
   "cell_type": "markdown",
   "source": [
    "#### 面相对象进阶\n",
    "##### 成员\n",
    "###### 变量\n",
    "- 实例变量: 属于对象 每个对象中各自维护自己的数据\n",
    "- 类变量: 属于类 可以被所有对象共享 一般用于给对象提供公共数据(类似于全局变量)\n",
    "\n",
    "当把每个对象中都存在的相同的示例变量时，可以选择把它放在类变量中，这样就可以避免对象中维护多个相同数据。"
   ],
   "metadata": {
    "collapsed": false
   },
   "id": "70776a9433232b91"
  },
  {
   "cell_type": "code",
   "execution_count": null,
   "id": "initial_id",
   "metadata": {
    "collapsed": true
   },
   "outputs": [],
   "source": [
    "class Person(object):\n",
    "    country = \"中国\"\n",
    "\n",
    "    def __init__(self, name, age):\n",
    "        self.name = name\n",
    "        self.age = age\n",
    "\n",
    "    def show(self):\n",
    "        # message = \"{}-{}-{}\".format(Person.country, self.name, self.age)\n",
    "        message = \"{}-{}-{}\".format(self.country, self.name, self.age)\n",
    "        print(message)\n",
    "\n",
    "\n",
    "print(Person.country)  # 中国\n",
    "\n",
    "p1 = Person(\"武沛齐\", 20)\n",
    "print(p1.name)\n",
    "print(p1.age)\n",
    "print(p1.country)  # 中国\n",
    "\n",
    "p1.show()  # 中国-武沛齐-20\n"
   ]
  },
  {
   "cell_type": "code",
   "outputs": [],
   "source": [
    "class Person(object):\n",
    "    country = \"中国\"\n",
    "\n",
    "    def __init__(self, name, age):\n",
    "        self.name = name\n",
    "        self.age = age\n",
    "\n",
    "    def show(self):\n",
    "        message = \"{}-{}-{}\".format(self.country, self.name, self.age)\n",
    "        print(message)\n",
    "\n",
    "\n",
    "print(Person.country)  # 中国\n",
    "\n",
    "p1 = Person(\"武沛齐\", 20)\n",
    "print(p1.name)  # 武沛齐\n",
    "print(p1.age)  # 20\n",
    "print(p1.country)  # 中国\n",
    "p1.show()  # 中国-武沛齐-20\n",
    "\n",
    "p1.name = \"root\"  # 在对象p1中讲name重置为root\n",
    "p1.num = 19  # 在对象p1中新增实例变量 num=19\n",
    "p1.country = \"china\"  # 在对象p1中新增实例变量 country=\"china\"\n",
    "\n",
    "print(p1.country)  # china\n",
    "print(Person.country)  # 中国"
   ],
   "metadata": {
    "collapsed": false
   },
   "id": "9bbefe1ed1876c61",
   "execution_count": null
  },
  {
   "cell_type": "code",
   "outputs": [],
   "source": [
    "class Base(object):\n",
    "    country = \"中国\"\n",
    "\n",
    "\n",
    "class Person(Base):\n",
    "\n",
    "    def __init__(self, name, age):\n",
    "        self.name = name\n",
    "        self.age = age\n",
    "\n",
    "    def show(self):\n",
    "        message = \"{}-{}-{}\".format(Person.country, self.name, self.age)\n",
    "        # message = \"{}-{}-{}\".format(self.country, self.name, self.age)\n",
    "        print(message)\n",
    "\n",
    "\n",
    "# 读\n",
    "print(Base.country)  # 中国\n",
    "print(Person.country)  # 中国\n",
    "\n",
    "obj = Person(\"武沛齐\", 19)\n",
    "print(obj.country)  # 中国\n",
    "\n",
    "# 写\n",
    "Base.country = \"china\"\n",
    "\n",
    "print(Base.country)  # 中国\n",
    "print(Person.country)  # 中国\n",
    "\n",
    "obj = Person(\"武沛齐\", 19)\n",
    "print(obj.country)  # 中国\n",
    "Person.country = \"泰国\"\n",
    "\n",
    "print(Base.country)  # 中国\n",
    "print(Person.country)  # 中国\n",
    "\n",
    "obj = Person(\"武沛齐\", 19)\n",
    "print(obj.country)  # 中国\n",
    "obj.country = \"日本\"\n",
    "\n",
    "print(Base.country)  # 中国\n",
    "print(Person.country)  # 中国\n",
    "print(obj.country)  # 中国"
   ],
   "metadata": {
    "collapsed": false
   },
   "id": "a6ebe0c125b5d141",
   "execution_count": null
  },
  {
   "cell_type": "markdown",
   "source": [
    "###### 方法\n",
    "- 绑定方法 默认有一个self参数 由对象进行调用(此时self就等于调用方法的这个对象) 对象和类均可调用\n",
    "- 类方法 默认由一个cls参数 类或者对象都可以调用此时cls就等于调用这个方法的类 对象和类均可调用\n",
    "- 静态方法 无默认参数 用类和对象都可以调用 对象和类均可调用\n",
    "\n",
    "---\n",
    ">选择那个方法 主要取决于你方法用到了那些参数\n",
    "\n",
    "在类中@classmethod 和@staticmethod 的作用?"
   ],
   "metadata": {
    "collapsed": false
   },
   "id": "9b6480d23dc5b75c"
  },
  {
   "cell_type": "code",
   "outputs": [],
   "source": [
    "class Foo():\n",
    "    def __init__(self, name):\n",
    "        self.name = name\n",
    "\n",
    "    def f1(self):\n",
    "        print(\"xasxa\")\n",
    "\n",
    "    @classmethod\n",
    "    def f2(cls):\n",
    "        print(\"类方法\", cls)\n",
    "\n",
    "    @staticmethod\n",
    "    def f3():\n",
    "        print(\"静态方法\")\n",
    "\n",
    "\n",
    "# 调用方法\n",
    "obj = Foo(\"feifei_fei\")\n",
    "obj.f1()\n",
    "\n",
    "# 类方法\n",
    "Foo.f2()\n",
    "obj.f2()\n",
    "# 静态方法\n",
    "Foo.f3()  # 类执行方法\n",
    "obj.f3()  # 对象执行执行方法"
   ],
   "metadata": {
    "collapsed": false
   },
   "id": "58cea5c077c6b872",
   "execution_count": null
  },
  {
   "cell_type": "markdown",
   "source": [],
   "metadata": {
    "collapsed": false
   },
   "id": "35da2986c5aa9876"
  },
  {
   "cell_type": "markdown",
   "source": [
    "###### 属性\n",
    "属性其实就是由绑定方法+特殊装饰器 组合创造出来的 让我们以后在调方法的时候可以不加括号"
   ],
   "metadata": {
    "collapsed": false
   },
   "id": "c332416505d2edbb"
  },
  {
   "cell_type": "code",
   "outputs": [],
   "source": [
    "class Foo():\n",
    "    def __init__(self, name):\n",
    "        self.name = name\n",
    "\n",
    "    def f1(self):\n",
    "        print(\"xasxa\")\n",
    "\n",
    "    @property\n",
    "    def f2(self):\n",
    "        return 123\n",
    "\n",
    "\n",
    "obj = Foo(\"feifei_fei\")\n",
    "v1 = obj.f2\n",
    "print(v1)"
   ],
   "metadata": {
    "collapsed": false
   },
   "id": "effe1e6c19dcb6ce",
   "execution_count": null
  },
  {
   "cell_type": "markdown",
   "source": [
    "关于属性的编写方法\n",
    "1. 基于装饰器\n",
    "2. 基于定义变量"
   ],
   "metadata": {
    "collapsed": false
   },
   "id": "af26bd8356c799d1"
  },
  {
   "cell_type": "code",
   "outputs": [],
   "source": [
    "class C(object):\n",
    "    @property\n",
    "    def x(self):\n",
    "        pass\n",
    "\n",
    "    @x.setter\n",
    "    def x(self, value):\n",
    "        print(value)\n",
    "\n",
    "    @x.deleter\n",
    "    def x(self):\n",
    "\n",
    "        pass\n",
    "\n",
    "\n",
    "obj = C()\n",
    "\n",
    "obj.x = 123\n",
    "del obj.x"
   ],
   "metadata": {
    "collapsed": false
   },
   "id": "2e4d68f0fa0ca7a0",
   "execution_count": null
  },
  {
   "cell_type": "code",
   "outputs": [],
   "source": [
    "# 基于定义变量 \n",
    "class C(object):\n",
    "    def getx(self):\n",
    "        pass\n",
    "\n",
    "    def setx(self):\n",
    "        pass\n",
    "\n",
    "    def delx(self):\n",
    "        pass\n",
    "\n",
    "    x = property(getx, setx, delx, \"xsaxas\")\n",
    "\n",
    "obj = C()\n",
    "obj.delx"
   ],
   "metadata": {
    "collapsed": false
   },
   "id": "fd588743ebc55f9e"
  },
  {
   "cell_type": "markdown",
   "source": [
    "由于属性和实例变量的调用方式相同所以在编写的时候需要注意: 属性名称 不要和实例变量重名\n",
    "\n",
    "##### 成员修饰符\n",
    "python中的成员修饰符就是指的是公有和私有\n",
    "- 公有 任何地方都可以调用这个成员\n",
    "- 私有 只有在类的内部才可以调用该成员 成员是以两个下划线开头 表示该成员私有\n"
   ],
   "metadata": {
    "collapsed": false
   },
   "id": "4953b000c65856c2"
  },
  {
   "cell_type": "code",
   "outputs": [],
   "source": [
    "class Foo(object):\n",
    "    def __init__(self, name,age):\n",
    "        self.__name = name\n",
    "        self.age = age\n",
    "        \n",
    "    def get_data(self):\n",
    "        return self.__name\n",
    "    \n",
    "obj = Foo(\"feifei_fei\",10)\n",
    "obj.age\n",
    "obj.get_data()"
   ],
   "metadata": {
    "collapsed": false
   },
   "id": "d6f83434db4afc4d",
   "execution_count": null
  },
  {
   "cell_type": "markdown",
   "source": [
    "父类中的私有方法 子类不能调用\n",
    "\n",
    "---\n",
    "\n",
    "可以使用一些特殊的语法 来访问私有的语法"
   ],
   "metadata": {
    "collapsed": false
   },
   "id": "7a97d5a77f372842"
  },
  {
   "cell_type": "code",
   "outputs": [],
   "source": [
    "class Foo(object):\n",
    "    def __init__(self):\n",
    "        self.__name = \"xasxas\"\n",
    "        self.age = 123\n",
    "        \n",
    "    def __get_data(self):\n",
    "        return self.__name\n",
    "   \n",
    "obj = Foo()\n",
    "obj.age\n",
    "obj._Foo__name ### 不推荐使用这种方法"
   ],
   "metadata": {
    "collapsed": false
   },
   "id": "ebb7cc0bb1ae4e1c",
   "execution_count": null
  },
  {
   "cell_type": "markdown",
   "source": [
    "什么是用共有的 什么时候用私有的  \n",
    "如果你想要外外部调用则使用共有的 如果你不想外部调用则使用私有的 \n",
    "成员是否可以作为独立的功能暴露给外部 让外部调用并使用\n",
    "- 可以 共有\n",
    "- 不可以 内部其他方法的一个辅助 私有"
   ],
   "metadata": {
    "collapsed": false
   },
   "id": "f5d651cd59d57d39"
  },
  {
   "cell_type": "markdown",
   "source": [
    "##### 对象嵌套\n",
    "对象之间各种调用 如依赖 关联 组合 等等\n",
    "- 把一个对象当成列表 加入到另外一个对象里面去 另外一个对象 写一些方法 来调用这个对象\n",
    "\n",
    "\n",
    "---学生 班级 学校的问题"
   ],
   "metadata": {
    "collapsed": false
   },
   "id": "4dcb6f5a76466a1a"
  },
  {
   "cell_type": "markdown",
   "source": [
    "##### 特殊成员 12种\n",
    "###### __init__ 初始化方法\n",
    "初始化方法 初始化方法之前 会执行构造方法 z\n",
    "###### __new__ 构造方法 \n",
    "在初始化方法之前执行 目的就是创建对象\n",
    "###### __call__ \n",
    "对象()执行call方法\n",
    "###### __str__\n",
    "必须返回字符串类型\n",
    "```python\n",
    "class Foo():\n",
    "   def __str__(self):\n",
    "        return \"xsaxas\"\n",
    "obj = Foo()\n",
    "print(str(obj))\n",
    "```\n"
   ],
   "metadata": {
    "collapsed": false
   },
   "id": "f315883c95181869"
  },
  {
   "cell_type": "code",
   "outputs": [],
   "source": [
    "class Foo(object):\n",
    "    def __init__(self):\n",
    "        print(\"init fangfa \") # 初始化对象 在空对象中创建数据\n",
    "    def __new__(cls, *args, **kwargs):\n",
    "        print(\"new\") # 第一步 先创建空对象 并返回\n",
    "        return object.__new__(cls)\n",
    "obj = Foo()"
   ],
   "metadata": {
    "collapsed": false
   },
   "id": "756f41cd11c53fb6",
   "execution_count": null
  },
  {
   "cell_type": "code",
   "outputs": [],
   "source": [
    "class Foo():\n",
    "    def __call__(self, *args, **kwargs):\n",
    "        print(\"执行call方法\")\n",
    "obj = Foo()\n",
    "obj() # -->自动执行类里面的__call__ 方法\n",
    "Foo()()"
   ],
   "metadata": {
    "collapsed": false
   },
   "id": "9be0339449327018",
   "execution_count": null
  },
  {
   "cell_type": "code",
   "outputs": [],
   "source": [
    "class Foo():\n",
    "   def __str__(self):\n",
    "        return \"xsaxas\"\n",
    "obj = Foo()\n",
    "print(str(obj))\n",
    "print(obj)"
   ],
   "metadata": {
    "collapsed": false
   },
   "id": "44256c40b3f4026",
   "execution_count": null
  },
  {
   "cell_type": "markdown",
   "source": [
    "###### __dict__"
   ],
   "metadata": {
    "collapsed": false
   },
   "id": "fa4fed9e7e6dcb83"
  },
  {
   "cell_type": "code",
   "outputs": [],
   "source": [
    "class Foo(object):\n",
    "    def __init__(self,name,age):\n",
    "        self.name=name\n",
    "        self.age=age\n",
    "obj = Foo(\"feifei_fei\",18)\n",
    "print(obj.__dict__) # 把实力变量转成字典 并输出出来 "
   ],
   "metadata": {
    "collapsed": false
   },
   "id": "aee5bd2384837747",
   "execution_count": null
  },
  {
   "cell_type": "markdown",
   "source": [
    "###### __getitem__ __setitem__ __delitem__\n",
    "类比 字典的一些操作"
   ],
   "metadata": {
    "collapsed": false
   },
   "id": "553efd3bdc541f90"
  },
  {
   "cell_type": "code",
   "outputs": [],
   "source": [
    "info=dict()\n",
    "info['age']=18\n",
    "info[\"name\"] = \"xasxas\"\n",
    "print(info)\n",
    "print(info['age'])\n",
    "del info['name']\n",
    "print(info)\n",
    "\n",
    "class Foo():\n",
    "    def __setitem__(self, key,value):\n",
    "        print(key,value)\n",
    "    def __getitem__(self, item):\n",
    "        print(item)\n",
    "    def __delitem__(self, key):\n",
    "        pass\n",
    "obj = Foo()\n",
    "obj['xxx']=11 # 自动触发类中的 __setitem__\n",
    "obj['xxx'] # 自动触发类中的__getitem__\n",
    "del obj['xxx']  # 自动触发类中的__delitem__"
   ],
   "metadata": {
    "collapsed": false
   },
   "id": "8c2ac9600bd7543c",
   "execution_count": null
  },
  {
   "cell_type": "markdown",
   "source": [
    "###### __enter__ __exit__\n",
    "with 上下文管理的语法"
   ],
   "metadata": {
    "collapsed": false
   },
   "id": "8c9b4aba40b740f9"
  },
  {
   "cell_type": "code",
   "outputs": [],
   "source": [
    "class Foo(object): \n",
    "    def __enter__(self):\n",
    "        print(\"进去了\")\n",
    "        return  777\n",
    "    def __exit__(self, exc_type, exc_val, exc_tb):\n",
    "        print(\"离开了\")\n",
    "obj = Foo()\n",
    "with obj as o: # with 对象 内部会执行 __enter__ 方法 __enter__返回的啥 o 就是啥\n",
    "    print(o)    # 当with 缩进中的代码执行完毕，自动会执行__exit__方法\n",
    "    "
   ],
   "metadata": {
    "collapsed": false
   },
   "id": "e0242fd5029ebb54",
   "execution_count": null
  },
  {
   "cell_type": "code",
   "outputs": [],
   "source": [
    "class SqlHelper():\n",
    "    def __enter__(self):\n",
    "        self.链接=链接数据库\n",
    "        return  链接\n",
    "    def __exit__(self, exc_type, exc_val, exc_tb):\n",
    "        self.链接.关闭\n",
    "with SqlHelper() as 链接:\n",
    "    链接.操作"
   ],
   "metadata": {
    "collapsed": false
   },
   "id": "1f97a70e2d6bee39"
  },
  {
   "cell_type": "code",
   "outputs": [],
   "source": [
    "class Context():\n",
    "    def __enter__(self):\n",
    "        return self\n",
    "    def do_something(self):\n",
    "        print(\"xsxs\")\n",
    "with Context() as ctx:\n",
    "    print(\"内部执行\")\n",
    "    ctx.do_something()"
   ],
   "metadata": {
    "collapsed": false
   },
   "id": "fdf8d088e624197b"
  },
  {
   "cell_type": "markdown",
   "source": [
    "###### __add__ 等\n",
    "加 __add__\n",
    "减 \n",
    "乘\n",
    "除 __"
   ],
   "metadata": {
    "collapsed": false
   },
   "id": "b3a7c6e720993e59"
  },
  {
   "cell_type": "code",
   "outputs": [],
   "source": [
    "v1 = int(1)\n",
    "v2 = int(5)\n",
    "print(v2+v1)"
   ],
   "metadata": {
    "collapsed": false
   },
   "id": "1a3ad69a01bec126",
   "execution_count": null
  },
  {
   "cell_type": "code",
   "outputs": [],
   "source": [
    "class Foo(object):\n",
    "    def __add__(self, other):\n",
    "        print(\"xs\")\n",
    "        return  999\n",
    "v1 = Foo()\n",
    "v2 = Foo()\n",
    "v3 = v1+v2 # 对象 + 另外的植 内部会执行 对象.__add__方法 并把+号后面的值当成参数传递进去\n",
    "print(v3)\n",
    "\n",
    "print(\"\".center(20,\"*\"))\n",
    "class Foo(object):\n",
    "    def __init__(self,name):\n",
    "        self.name = name\n",
    "    def __add__(self, other):\n",
    "        return \"{}-{}\".format(self.name ,other.name)\n",
    "v1 = Foo(\"xsaxa\")\n",
    "v2 = Foo(\"xsas\")\n",
    "v3 = v1+v2 \n",
    "print(v3)"
   ],
   "metadata": {
    "collapsed": false
   },
   "id": "ea59a145c732a834",
   "execution_count": null
  },
  {
   "cell_type": "markdown",
   "source": [
    "###### __iter__\n",
    "- 迭代器\n",
    "- 生成器\n",
    "- 可迭代对象\n",
    "\n"
   ],
   "metadata": {
    "collapsed": false
   },
   "id": "bb2c24f82325699a"
  },
  {
   "cell_type": "code",
   "outputs": [],
   "source": [
    "#迭代器类型的定义:\n",
    "#1.当类中定义了__iter__ __next__ 方法\n",
    "#2.__iter__方法 需要返回对象本身\n",
    "#3.__next__方法 返回下一个数据 如果没有数据了 则需要抛出StopIteration 异常\n",
    "\n",
    "# 创建迭代器类型\n",
    "class IT():\n",
    "    def __init__(self):\n",
    "        self.count=0\n",
    "    def __iter__(self):\n",
    "        return  self\n",
    "    def __next__(self):\n",
    "        self.count +=1\n",
    "        return self.count\n",
    "# 根据类实例化一个迭代器对象\n",
    "obj1 =IT()\n",
    "v1 = obj1.__next__()\n",
    "print(v1)\n",
    "v2 =next(obj1)\n",
    "print(v2)\n",
    "\n",
    "obj2=IT()\n",
    "for obj in obj2:\n",
    "    print(obj)\n",
    "# 迭代器对象支持通过 next 取值 如果取值结束 则自动抛出StopIteration \n",
    "# for 循环在内部循环的时候 先执行__iter__方法 获得一个迭代器对象 然后不断执行 next 取值有异常StopIteration 则停止循环"
   ],
   "metadata": {
    "collapsed": false
   },
   "id": "e843bca485bf675a",
   "execution_count": null
  },
  {
   "cell_type": "markdown",
   "source": [
    "- 生成器"
   ],
   "metadata": {
    "collapsed": false
   },
   "id": "dfc8720c1c876174"
  },
  {
   "cell_type": "code",
   "outputs": [],
   "source": [
    "# 创建生成器函数\n",
    "    def func():\n",
    "        yield 1\n",
    "        yield 2\n",
    "    \n",
    "# 创建生成器对象（内部是根据生成器类generator创建的对象），生成器类的内部也声明了：__iter__、__next__ 方法。\n",
    "    obj1 = func()\n",
    "    \n",
    "    v1 = next(obj1)\n",
    "    print(v1)\n",
    "\n",
    "    v2 = next(obj1)\n",
    "    print(v2)\n",
    "\n",
    "    v3 = next(obj1)\n",
    "    print(v3)\n",
    "\n",
    "\n",
    "    obj2 = func()\n",
    "    for item in obj2:\n",
    "        print(item)\n",
    "\n",
    "#如果按照迭代器的规定来看，其实生成器类也是一种特殊的迭代器类（生成器也是一个中特殊的迭代器）。"
   ],
   "metadata": {
    "collapsed": false
   },
   "id": "bfb8d7f40c947a36"
  },
  {
   "cell_type": "markdown",
   "source": [
    "- 可迭代对象"
   ],
   "metadata": {
    "collapsed": false
   },
   "id": "c4757164864f00c1"
  },
  {
   "cell_type": "code",
   "outputs": [],
   "source": [
    "# 如果一个类中 有__iter__方法 返回一个迭代器对象 则我们称这个类型创建的对象为可迭代对象\n",
    "class Foo():\n",
    "    def __iter__(self):\n",
    "        return  迭代器对象\n",
    "obj = Foo() # obj是可迭代对象\n",
    "# 可迭代对象是可以使用for来进行循环,在循环的内部其实先执行的也是__iter__方法,获得迭代器对象 然后在内部执行这个迭代器对象的next功能 逐步取数值\n",
    "for item in obj:\n",
    "     pass"
   ],
   "metadata": {
    "collapsed": false
   },
   "id": "26fb895fc06e3d1d"
  },
  {
   "cell_type": "code",
   "outputs": [],
   "source": [
    "class IT(object):\n",
    "    def __init__(self):\n",
    "        self.counter = 0\n",
    "\n",
    "    def __iter__(self):\n",
    "        return self\n",
    "\n",
    "    def __next__(self):\n",
    "        self.counter += 1\n",
    "        if self.counter == 3:\n",
    "            raise StopIteration()\n",
    "        return self.counter\n",
    "\n",
    "\n",
    "class Foo(object):\n",
    "    def __iter__(self):\n",
    "        return IT()\n",
    "\n",
    "\n",
    "obj = Foo() # 可迭代对象\n",
    "\n",
    "\n",
    "for item in obj: # 循环可迭代对象时，内部先执行obj.__iter__并获取迭代器对象；不断地执行迭代器对象的next方法。\n",
    "    print(item)"
   ],
   "metadata": {
    "collapsed": false
   },
   "id": "163762c8fde6388c"
  },
  {
   "cell_type": "code",
   "outputs": [],
   "source": [
    "# 基于可迭代对象&迭代器实现：自定义range\n",
    "class IterRange(object):\n",
    "    def __init__(self, num):\n",
    "        self.num = num\n",
    "        self.counter = -1\n",
    "\n",
    "    def __iter__(self):\n",
    "        return self\n",
    "\n",
    "    def __next__(self):\n",
    "        self.counter += 1\n",
    "        if self.counter == self.num:\n",
    "            raise StopIteration()\n",
    "        return self.counter\n",
    "\n",
    "\n",
    "class Xrange(object):\n",
    "    def __init__(self, max_num):\n",
    "        self.max_num = max_num\n",
    "\n",
    "    def __iter__(self):\n",
    "        return IterRange(self.max_num)\n",
    "\n",
    "\n",
    "obj = Xrange(100)\n",
    "\n",
    "for item in obj:\n",
    "    print(item)"
   ],
   "metadata": {
    "collapsed": false
   },
   "id": "ca26626700b079e7"
  }
 ],
 "metadata": {
  "kernelspec": {
   "display_name": "Python 3",
   "language": "python",
   "name": "python3"
  },
  "language_info": {
   "codemirror_mode": {
    "name": "ipython",
    "version": 2
   },
   "file_extension": ".py",
   "mimetype": "text/x-python",
   "name": "python",
   "nbconvert_exporter": "python",
   "pygments_lexer": "ipython2",
   "version": "2.7.6"
  }
 },
 "nbformat": 4,
 "nbformat_minor": 5
}
