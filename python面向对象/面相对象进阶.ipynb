{
 "cells": [
  {
   "cell_type": "markdown",
   "source": [
    "#### 面相对象进阶\n",
    "##### 成员\n",
    "###### 变量\n",
    "- 实例变量: 属于对象 每个对象中各自维护自己的数据\n",
    "- 类变量: 属于类 可以被所有对象共享 一般用于给对象提供公共数据(类似于全局变量)\n",
    "\n",
    "当把每个对象中都存在的相同的示例变量时，可以选择把它放在类变量中，这样就可以避免对象中维护多个相同数据。"
   ],
   "metadata": {
    "collapsed": false
   },
   "id": "70776a9433232b91"
  },
  {
   "cell_type": "code",
   "execution_count": null,
   "id": "initial_id",
   "metadata": {
    "collapsed": true
   },
   "outputs": [],
   "source": [
    "class Person(object):\n",
    "    country = \"中国\"\n",
    "\n",
    "    def __init__(self, name, age):\n",
    "        self.name = name\n",
    "        self.age = age\n",
    "\n",
    "    def show(self):\n",
    "        # message = \"{}-{}-{}\".format(Person.country, self.name, self.age)\n",
    "        message = \"{}-{}-{}\".format(self.country, self.name, self.age)\n",
    "        print(message)\n",
    "\n",
    "\n",
    "print(Person.country)  # 中国\n",
    "\n",
    "p1 = Person(\"武沛齐\", 20)\n",
    "print(p1.name)\n",
    "print(p1.age)\n",
    "print(p1.country)  # 中国\n",
    "\n",
    "p1.show()  # 中国-武沛齐-20\n"
   ]
  },
  {
   "cell_type": "code",
   "outputs": [],
   "source": [
    "class Person(object):\n",
    "    country = \"中国\"\n",
    "\n",
    "    def __init__(self, name, age):\n",
    "        self.name = name\n",
    "        self.age = age\n",
    "\n",
    "    def show(self):\n",
    "        message = \"{}-{}-{}\".format(self.country, self.name, self.age)\n",
    "        print(message)\n",
    "\n",
    "\n",
    "print(Person.country)  # 中国\n",
    "\n",
    "p1 = Person(\"武沛齐\", 20)\n",
    "print(p1.name)  # 武沛齐\n",
    "print(p1.age)  # 20\n",
    "print(p1.country)  # 中国\n",
    "p1.show()  # 中国-武沛齐-20\n",
    "\n",
    "p1.name = \"root\"  # 在对象p1中讲name重置为root\n",
    "p1.num = 19  # 在对象p1中新增实例变量 num=19\n",
    "p1.country = \"china\"  # 在对象p1中新增实例变量 country=\"china\"\n",
    "\n",
    "print(p1.country)  # china\n",
    "print(Person.country)  # 中国"
   ],
   "metadata": {
    "collapsed": false
   },
   "id": "9bbefe1ed1876c61",
   "execution_count": null
  },
  {
   "cell_type": "code",
   "outputs": [],
   "source": [
    "class Base(object):\n",
    "    country = \"中国\"\n",
    "\n",
    "\n",
    "class Person(Base):\n",
    "\n",
    "    def __init__(self, name, age):\n",
    "        self.name = name\n",
    "        self.age = age\n",
    "\n",
    "    def show(self):\n",
    "        message = \"{}-{}-{}\".format(Person.country, self.name, self.age)\n",
    "        # message = \"{}-{}-{}\".format(self.country, self.name, self.age)\n",
    "        print(message)\n",
    "\n",
    "\n",
    "# 读\n",
    "print(Base.country)  # 中国\n",
    "print(Person.country)  # 中国\n",
    "\n",
    "obj = Person(\"武沛齐\", 19)\n",
    "print(obj.country)  # 中国\n",
    "\n",
    "# 写\n",
    "Base.country = \"china\"\n",
    "\n",
    "print(Base.country)  # 中国\n",
    "print(Person.country)  # 中国\n",
    "\n",
    "obj = Person(\"武沛齐\", 19)\n",
    "print(obj.country)  # 中国\n",
    "Person.country = \"泰国\"\n",
    "\n",
    "print(Base.country)  # 中国\n",
    "print(Person.country)  # 中国\n",
    "\n",
    "obj = Person(\"武沛齐\", 19)\n",
    "print(obj.country)  # 中国\n",
    "obj.country = \"日本\"\n",
    "\n",
    "print(Base.country)  # 中国\n",
    "print(Person.country)  # 中国\n",
    "print(obj.country)  # 中国"
   ],
   "metadata": {
    "collapsed": false
   },
   "id": "a6ebe0c125b5d141",
   "execution_count": null
  },
  {
   "cell_type": "markdown",
   "source": [
    "###### 方法\n",
    "- 绑定方法 默认有一个self参数 由对象进行调用(此时self就等于调用方法的这个对象) 对象和类均可调用\n",
    "- 类方法 默认由一个cls参数 类或者对象都可以调用此时cls就等于调用这个方法的类 对象和类均可调用\n",
    "- 静态方法 无默认参数 用类和对象都可以调用 对象和类均可调用\n",
    "\n",
    "---\n",
    ">选择那个方法 主要取决于你方法用到了那些参数\n",
    "\n",
    "在类中@classmethod 和@staticmethod 的作用?"
   ],
   "metadata": {
    "collapsed": false
   },
   "id": "9b6480d23dc5b75c"
  },
  {
   "cell_type": "code",
   "outputs": [
    {
     "name": "stdout",
     "output_type": "stream",
     "text": [
      "xasxa\n",
      "类方法 <class '__main__.Foo'>\n",
      "类方法 <class '__main__.Foo'>\n",
      "静态方法\n",
      "静态方法\n"
     ]
    }
   ],
   "source": [
    "class Foo():\n",
    "    def __init__(self, name):\n",
    "        self.name = name\n",
    "\n",
    "    def f1(self):\n",
    "        print(\"xasxa\")\n",
    "\n",
    "    @classmethod\n",
    "    def f2(cls):\n",
    "        print(\"类方法\", cls)\n",
    "\n",
    "    @staticmethod\n",
    "    def f3():\n",
    "        print(\"静态方法\")\n",
    "\n",
    "\n",
    "# 调用方法\n",
    "obj = Foo(\"feifei_fei\")\n",
    "obj.f1()\n",
    "\n",
    "# 类方法\n",
    "Foo.f2()\n",
    "obj.f2()\n",
    "# 静态方法\n",
    "Foo.f3()  # 类执行方法\n",
    "obj.f3()  # 对象执行执行方法"
   ],
   "metadata": {
    "collapsed": false,
    "ExecuteTime": {
     "end_time": "2024-02-27T14:11:44.939488Z",
     "start_time": "2024-02-27T14:11:44.934146Z"
    }
   },
   "id": "58cea5c077c6b872",
   "execution_count": 5
  },
  {
   "cell_type": "markdown",
   "source": [],
   "metadata": {
    "collapsed": false
   },
   "id": "35da2986c5aa9876"
  },
  {
   "cell_type": "markdown",
   "source": [
    "###### 属性\n",
    "属性其实就是由绑定方法+特殊装饰器 组合创造出来的 让我们以后在调方法的时候可以不加括号"
   ],
   "metadata": {
    "collapsed": false
   },
   "id": "c332416505d2edbb"
  },
  {
   "cell_type": "code",
   "outputs": [
    {
     "name": "stdout",
     "output_type": "stream",
     "text": [
      "123\n"
     ]
    }
   ],
   "source": [
    "class Foo():\n",
    "    def __init__(self, name):\n",
    "        self.name = name\n",
    "\n",
    "    def f1(self):\n",
    "        print(\"xasxa\")\n",
    "\n",
    "    @property\n",
    "    def f2(self):\n",
    "        return 123\n",
    "\n",
    "\n",
    "obj = Foo(\"feifei_fei\")\n",
    "v1 = obj.f2\n",
    "print(v1)"
   ],
   "metadata": {
    "collapsed": false,
    "ExecuteTime": {
     "end_time": "2024-02-27T14:22:59.567254Z",
     "start_time": "2024-02-27T14:22:59.561576Z"
    }
   },
   "id": "effe1e6c19dcb6ce",
   "execution_count": 6
  },
  {
   "cell_type": "markdown",
   "source": [
    "关于属性的编写方法\n",
    "1. 基于装饰器\n",
    "2. 基于定义变量"
   ],
   "metadata": {
    "collapsed": false
   },
   "id": "af26bd8356c799d1"
  },
  {
   "cell_type": "code",
   "outputs": [
    {
     "ename": "IndentationError",
     "evalue": "expected an indented block after function definition on line 9 (125991832.py, line 10)",
     "output_type": "error",
     "traceback": [
      "\u001B[0;36m  Cell \u001B[0;32mIn[9], line 10\u001B[0;36m\u001B[0m\n\u001B[0;31m    pass\u001B[0m\n\u001B[0m    ^\u001B[0m\n\u001B[0;31mIndentationError\u001B[0m\u001B[0;31m:\u001B[0m expected an indented block after function definition on line 9\n"
     ]
    }
   ],
   "source": [
    "class C(object):\n",
    "    @property\n",
    "    def x(self):\n",
    "        pass\n",
    "\n",
    "    @x.setter\n",
    "    def x(self, value):\n",
    "        print(value)\n",
    "\n",
    "    @x.deleter\n",
    "    def x(self):\n",
    "\n",
    "        pass\n",
    "\n",
    "\n",
    "obj = C()\n",
    "\n",
    "obj.x = 123\n",
    "del obj.x"
   ],
   "metadata": {
    "collapsed": false,
    "ExecuteTime": {
     "end_time": "2024-02-27T14:35:04.128750Z",
     "start_time": "2024-02-27T14:35:04.123512Z"
    }
   },
   "id": "2e4d68f0fa0ca7a0",
   "execution_count": 9
  },
  {
   "cell_type": "code",
   "outputs": [],
   "source": [
    "# 基于定义变量 \n",
    "class C(object):\n",
    "    def getx(self):\n",
    "        pass\n",
    "\n",
    "    def setx(self):\n",
    "        pass\n",
    "\n",
    "    def delx(self):\n",
    "        pass\n",
    "\n",
    "    x = property(getx, setx, delx, \"xsaxas\")\n",
    "\n",
    "obj = C()\n",
    "obj.delx"
   ],
   "metadata": {
    "collapsed": false
   },
   "id": "fd588743ebc55f9e"
  },
  {
   "cell_type": "markdown",
   "source": [
    "由于属性和实例变量的调用方式相同所以在编写的时候需要注意: 属性名称 不要和实例变量重名\n",
    "\n",
    "##### 成员修饰符\n",
    "python中的成员修饰符就是指的是公有和私有\n",
    "- 公有 任何地方都可以调用这个成员\n",
    "- 私有 只有在类的内部才可以调用该成员 成员是以两个下划线开头 表示该成员私有\n"
   ],
   "metadata": {
    "collapsed": false
   },
   "id": "4953b000c65856c2"
  },
  {
   "cell_type": "code",
   "outputs": [
    {
     "data": {
      "text/plain": "'feifei_fei'"
     },
     "execution_count": 11,
     "metadata": {},
     "output_type": "execute_result"
    }
   ],
   "source": [
    "class Foo(object):\n",
    "    def __init__(self, name,age):\n",
    "        self.__name = name\n",
    "        self.age = age\n",
    "        \n",
    "    def get_data(self):\n",
    "        return self.__name\n",
    "    \n",
    "obj = Foo(\"feifei_fei\",10)\n",
    "obj.age\n",
    "obj.get_data()"
   ],
   "metadata": {
    "collapsed": false,
    "ExecuteTime": {
     "end_time": "2024-02-27T14:57:36.492571Z",
     "start_time": "2024-02-27T14:57:36.487431Z"
    }
   },
   "id": "d6f83434db4afc4d",
   "execution_count": 11
  },
  {
   "cell_type": "markdown",
   "source": [
    "父类中的私有方法 子类不能调用\n",
    "\n",
    "---\n",
    "\n",
    "可以使用一些特殊的语法 来访问私有的语法"
   ],
   "metadata": {
    "collapsed": false
   },
   "id": "7a97d5a77f372842"
  },
  {
   "cell_type": "code",
   "outputs": [
    {
     "data": {
      "text/plain": "'xasxas'"
     },
     "execution_count": 17,
     "metadata": {},
     "output_type": "execute_result"
    }
   ],
   "source": [
    "class Foo(object):\n",
    "    def __init__(self):\n",
    "        self.__name = \"xasxas\"\n",
    "        self.age = 123\n",
    "        \n",
    "    def __get_data(self):\n",
    "        return self.__name\n",
    "   \n",
    "obj = Foo()\n",
    "obj.age\n",
    "obj._Foo__name ### 不推荐使用这种方法"
   ],
   "metadata": {
    "collapsed": false,
    "ExecuteTime": {
     "end_time": "2024-02-27T15:07:11.734581Z",
     "start_time": "2024-02-27T15:07:11.729069Z"
    }
   },
   "id": "ebb7cc0bb1ae4e1c",
   "execution_count": 17
  },
  {
   "cell_type": "markdown",
   "source": [
    "什么是用共有的 什么时候用私有的  \n",
    "如果你想要外外部调用则使用共有的 如果你不想外部调用则使用私有的 \n",
    "成员是否可以作为独立的功能暴露给外部 让外部调用并使用\n",
    "- 可以 共有\n",
    "- 不可以 内部其他方法的一个辅助 私有"
   ],
   "metadata": {
    "collapsed": false
   },
   "id": "f5d651cd59d57d39"
  },
  {
   "cell_type": "markdown",
   "source": [
    "##### 对象嵌套\n",
    "对象之间各种调用 如依赖 关联 组合 等等\n",
    "- 把一个对象当成列表 加入到另外一个对象里面去 另外一个对象 写一些方法 来调用这个对象\n",
    "\n",
    "\n",
    "---学生 班级 学校的问题"
   ],
   "metadata": {
    "collapsed": false
   },
   "id": "4dcb6f5a76466a1a"
  },
  {
   "cell_type": "markdown",
   "source": [
    "##### 特殊成员 12种\n",
    "###### __init__ 初始化方法\n",
    "###### __new__ 构造方法 \n",
    "在初始化方法之前执行 目的就是创建对象\n",
    "###### __call__ \n",
    "对象()执行call方法\n",
    "###### __str__\n",
    "必须返回字符串类型\n",
    "```python\n",
    "class Foo():\n",
    "   def __str__(self):\n",
    "        return \"xsaxas\"\n",
    "obj = Foo()\n",
    "print(str(obj))\n",
    "```\n"
   ],
   "metadata": {
    "collapsed": false
   },
   "id": "f315883c95181869"
  },
  {
   "cell_type": "code",
   "outputs": [
    {
     "name": "stdout",
     "output_type": "stream",
     "text": [
      "new\n",
      "init fangfa \n"
     ]
    }
   ],
   "source": [
    "class Foo(object):\n",
    "    def __init__(self):\n",
    "        print(\"init fangfa \") # 初始化对象 在空对象中创建数据\n",
    "    def __new__(cls, *args, **kwargs):\n",
    "        print(\"new\") # 第一步 先创建空对象 并返回\n",
    "        return object.__new__(cls)\n",
    "obj = Foo()"
   ],
   "metadata": {
    "collapsed": false,
    "ExecuteTime": {
     "end_time": "2024-02-27T15:30:37.443570Z",
     "start_time": "2024-02-27T15:30:37.440331Z"
    }
   },
   "id": "756f41cd11c53fb6",
   "execution_count": 18
  },
  {
   "cell_type": "code",
   "outputs": [
    {
     "name": "stdout",
     "output_type": "stream",
     "text": [
      "执行call方法\n"
     ]
    }
   ],
   "source": [
    "class Foo():\n",
    "    def __call__(self, *args, **kwargs):\n",
    "        print(\"执行call方法\")\n",
    "obj = Foo()\n",
    "obj()"
   ],
   "metadata": {
    "collapsed": false,
    "ExecuteTime": {
     "end_time": "2024-02-27T15:39:09.940933Z",
     "start_time": "2024-02-27T15:39:09.937130Z"
    }
   },
   "id": "9be0339449327018",
   "execution_count": 20
  },
  {
   "cell_type": "code",
   "outputs": [
    {
     "name": "stdout",
     "output_type": "stream",
     "text": [
      "xsaxas\n",
      "xsaxas\n"
     ]
    }
   ],
   "source": [
    "class Foo():\n",
    "   def __str__(self):\n",
    "        return \"xsaxas\"\n",
    "obj = Foo()\n",
    "print(str(obj))\n",
    "print(obj)"
   ],
   "metadata": {
    "collapsed": false,
    "ExecuteTime": {
     "end_time": "2024-02-27T15:39:29.028778Z",
     "start_time": "2024-02-27T15:39:29.025384Z"
    }
   },
   "id": "44256c40b3f4026",
   "execution_count": 22
  },
  {
   "cell_type": "markdown",
   "source": [
    "###### __dict__\n",
    "###### __getitem__ __setitem__ __delitem__"
   ],
   "metadata": {
    "collapsed": false
   },
   "id": "fa4fed9e7e6dcb83"
  },
  {
   "cell_type": "code",
   "outputs": [],
   "source": [],
   "metadata": {
    "collapsed": false
   },
   "id": "aee5bd2384837747"
  }
 ],
 "metadata": {
  "kernelspec": {
   "display_name": "Python 3",
   "language": "python",
   "name": "python3"
  },
  "language_info": {
   "codemirror_mode": {
    "name": "ipython",
    "version": 2
   },
   "file_extension": ".py",
   "mimetype": "text/x-python",
   "name": "python",
   "nbconvert_exporter": "python",
   "pygments_lexer": "ipython2",
   "version": "2.7.6"
  }
 },
 "nbformat": 4,
 "nbformat_minor": 5
}
