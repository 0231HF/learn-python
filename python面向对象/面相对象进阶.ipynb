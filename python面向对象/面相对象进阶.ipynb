{
 "cells": [
  {
   "cell_type": "markdown",
   "source": [
    "#### 面相对象进阶\n",
    "##### 成员\n",
    "###### 变量\n",
    "- 实例变量: 属于对象 每个对象中各自维护自己的数据\n",
    "- 类变量: 属于类 可以被所有对象共享 一般用于给对象提供公共数据(类似于全局变量)\n",
    "\n",
    "当把每个对象中都存在的相同的示例变量时，可以选择把它放在类变量中，这样就可以避免对象中维护多个相同数据。"
   ],
   "metadata": {
    "collapsed": false
   },
   "id": "70776a9433232b91"
  },
  {
   "cell_type": "code",
   "execution_count": 1,
   "id": "initial_id",
   "metadata": {
    "collapsed": true,
    "ExecuteTime": {
     "end_time": "2024-02-27T10:52:54.572033Z",
     "start_time": "2024-02-27T10:52:54.568437Z"
    }
   },
   "outputs": [
    {
     "name": "stdout",
     "output_type": "stream",
     "text": [
      "中国\n",
      "武沛齐\n",
      "20\n",
      "中国\n",
      "中国-武沛齐-20\n"
     ]
    }
   ],
   "source": [
    "class Person(object):\n",
    "    country = \"中国\"\n",
    "\n",
    "    def __init__(self, name, age):\n",
    "        self.name = name\n",
    "        self.age = age\n",
    "\n",
    "    def show(self):\n",
    "        # message = \"{}-{}-{}\".format(Person.country, self.name, self.age)\n",
    "        message = \"{}-{}-{}\".format(self.country, self.name, self.age)\n",
    "        print(message)\n",
    "\n",
    "print(Person.country) # 中国\n",
    "\n",
    "\n",
    "p1 = Person(\"武沛齐\",20)\n",
    "print(p1.name)\n",
    "print(p1.age)\n",
    "print(p1.country) # 中国\n",
    "\n",
    "p1.show() # 中国-武沛齐-20\n"
   ]
  },
  {
   "cell_type": "code",
   "outputs": [
    {
     "name": "stdout",
     "output_type": "stream",
     "text": [
      "中国\n",
      "武沛齐\n",
      "20\n",
      "中国\n",
      "中国-武沛齐-20\n",
      "china\n",
      "中国\n"
     ]
    }
   ],
   "source": [
    "class Person(object):\n",
    "    country = \"中国\"\n",
    "\n",
    "    def __init__(self, name, age):\n",
    "        self.name = name\n",
    "        self.age = age\n",
    "\n",
    "    def show(self):\n",
    "        message = \"{}-{}-{}\".format(self.country, self.name, self.age)\n",
    "        print(message)\n",
    "\n",
    "print(Person.country) # 中国\n",
    "\n",
    "p1 = Person(\"武沛齐\",20)\n",
    "print(p1.name) # 武沛齐\n",
    "print(p1.age) # 20\n",
    "print(p1.country) # 中国\n",
    "p1.show() # 中国-武沛齐-20\n",
    "\n",
    "p1.name = \"root\"     # 在对象p1中讲name重置为root\n",
    "p1.num = 19          # 在对象p1中新增实例变量 num=19\n",
    "p1.country = \"china\" # 在对象p1中新增实例变量 country=\"china\"\n",
    "\n",
    "print(p1.country)   # china\n",
    "print(Person.country) # 中国"
   ],
   "metadata": {
    "collapsed": false,
    "ExecuteTime": {
     "end_time": "2024-02-27T10:53:06.035353Z",
     "start_time": "2024-02-27T10:53:06.031716Z"
    }
   },
   "id": "9bbefe1ed1876c61",
   "execution_count": 2
  },
  {
   "cell_type": "code",
   "outputs": [
    {
     "name": "stdout",
     "output_type": "stream",
     "text": [
      "中国\n",
      "中国\n",
      "中国\n",
      "china\n",
      "china\n",
      "china\n",
      "china\n",
      "泰国\n",
      "泰国\n",
      "china\n",
      "泰国\n",
      "日本\n"
     ]
    }
   ],
   "source": [
    "class Base(object):\n",
    "    country = \"中国\"\n",
    "\n",
    "\n",
    "class Person(Base):\n",
    "\n",
    "    def __init__(self, name, age):\n",
    "        self.name = name\n",
    "        self.age = age\n",
    "\n",
    "    def show(self):\n",
    "        message = \"{}-{}-{}\".format(Person.country, self.name, self.age)\n",
    "        # message = \"{}-{}-{}\".format(self.country, self.name, self.age)\n",
    "        print(message)\n",
    "\n",
    "\n",
    "# 读\n",
    "print(Base.country) # 中国\n",
    "print(Person.country) # 中国\n",
    "\n",
    "obj = Person(\"武沛齐\",19)\n",
    "print(obj.country) # 中国\n",
    "\n",
    "# 写\n",
    "Base.country = \"china\"\n",
    "\n",
    "print(Base.country) # 中国\n",
    "print(Person.country) # 中国\n",
    "\n",
    "obj = Person(\"武沛齐\",19)\n",
    "print(obj.country) # 中国\n",
    "Person.country = \"泰国\"\n",
    "\n",
    "print(Base.country) # 中国\n",
    "print(Person.country) # 中国\n",
    "\n",
    "obj = Person(\"武沛齐\",19)\n",
    "print(obj.country) # 中国\n",
    "obj.country = \"日本\"\n",
    "\n",
    "print(Base.country) # 中国\n",
    "print(Person.country) # 中国\n",
    "print(obj.country) # 中国"
   ],
   "metadata": {
    "collapsed": false,
    "ExecuteTime": {
     "end_time": "2024-02-27T10:58:08.914960Z",
     "start_time": "2024-02-27T10:58:08.912992Z"
    }
   },
   "id": "a6ebe0c125b5d141",
   "execution_count": 7
  },
  {
   "cell_type": "code",
   "outputs": [],
   "source": [],
   "metadata": {
    "collapsed": false
   },
   "id": "58cea5c077c6b872"
  }
 ],
 "metadata": {
  "kernelspec": {
   "display_name": "Python 3",
   "language": "python",
   "name": "python3"
  },
  "language_info": {
   "codemirror_mode": {
    "name": "ipython",
    "version": 2
   },
   "file_extension": ".py",
   "mimetype": "text/x-python",
   "name": "python",
   "nbconvert_exporter": "python",
   "pygments_lexer": "ipython2",
   "version": "2.7.6"
  }
 },
 "nbformat": 4,
 "nbformat_minor": 5
}
