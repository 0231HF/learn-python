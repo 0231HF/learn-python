{
 "cells": [
  {
   "cell_type": "markdown",
   "source": [
    "#### 定义类\n",
    "```python\n",
    "\n",
    "```\n",
    "\n",
    "##### 类(class) 和 实例(instance)\n",
    "类(classes)是用于创建用户定义的数据结构 类也有特殊的函数 叫做方法，它定义了从类中创建的对象可以使用其数据执行的行为和操作。\n",
    "\n",
    "类是蓝图，而实例(instance)是由包含真实数据的类构建的对象。\n"
   ],
   "metadata": {
    "collapsed": false
   },
   "id": "fb80a6c0e9f8859b"
  },
  {
   "cell_type": "code",
   "execution_count": null,
   "id": "initial_id",
   "metadata": {
    "collapsed": true
   },
   "outputs": [],
   "source": [
    "class Dog:\n",
    "    pass\n"
   ]
  }
 ],
 "metadata": {
  "kernelspec": {
   "display_name": "Python 3",
   "language": "python",
   "name": "python3"
  },
  "language_info": {
   "codemirror_mode": {
    "name": "ipython",
    "version": 2
   },
   "file_extension": ".py",
   "mimetype": "text/x-python",
   "name": "python",
   "nbconvert_exporter": "python",
   "pygments_lexer": "ipython2",
   "version": "2.7.6"
  }
 },
 "nbformat": 4,
 "nbformat_minor": 5
}
