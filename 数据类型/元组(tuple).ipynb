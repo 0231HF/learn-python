{
 "cells": [
  {
   "cell_type": "markdown",
   "source": [
    "#### 元组\n",
    "> 元组（tuple），是一个**有序**且**不可变**的容器，在里面可以存放**多个不同类型**的元素。\n",
    "\n",
    "##### 定义"
   ],
   "metadata": {
    "collapsed": false
   },
   "id": "d4ff4911cc1e6927"
  },
  {
   "cell_type": "code",
   "execution_count": 2,
   "id": "initial_id",
   "metadata": {
    "collapsed": true,
    "ExecuteTime": {
     "end_time": "2024-02-05T07:37:10.240478Z",
     "start_time": "2024-02-05T07:37:10.237133Z"
    }
   },
   "outputs": [
    {
     "name": "stdout",
     "output_type": "stream",
     "text": [
      "(11, 22, 33)\n",
      "(1,)\n"
     ]
    }
   ],
   "source": [
    "v1 = (11,22,33)\n",
    "print(v1)\n",
    "v2 =(1,)\n",
    "print(v2)"
   ]
  },
  {
   "cell_type": "markdown",
   "source": [
    "##### 独有功能\n",
    "> 无\n",
    "\n",
    "##### 公共功能\n",
    "###### 相加\n",
    "> 两个元组相加 生成一个新的元组"
   ],
   "metadata": {
    "collapsed": false
   },
   "id": "4805adb11d23d9ef"
  },
  {
   "cell_type": "code",
   "outputs": [
    {
     "name": "stdout",
     "output_type": "stream",
     "text": [
      "('赵四', '刘能', '宋晓峰', '范德彪')\n",
      "('赵四', '刘能', '宋晓峰', '范德彪')\n"
     ]
    }
   ],
   "source": [
    "data = (\"赵四\",\"刘能\") + (\"宋晓峰\",\"范德彪\")\n",
    "print(data) # (\"赵四\",\"刘能\",\"宋晓峰\",\"范德彪\")\n",
    "\n",
    "v1 = (\"赵四\",\"刘能\")\n",
    "v2 = (\"宋晓峰\",\"范德彪\")\n",
    "v3 = v1 + v2\n",
    "print(v3) # (\"赵四\",\"刘能\",\"宋晓峰\",\"范德彪\")"
   ],
   "metadata": {
    "collapsed": false,
    "ExecuteTime": {
     "end_time": "2024-02-05T07:38:00.991569Z",
     "start_time": "2024-02-05T07:38:00.986838Z"
    }
   },
   "id": "af4b3d7ada566eab",
   "execution_count": 3
  },
  {
   "cell_type": "markdown",
   "source": [
    "###### 相乘\n",
    "元组*整型 将列表中的元素再创建N份并生成一个新的列表。"
   ],
   "metadata": {
    "collapsed": false
   },
   "id": "96b6b4483154ee2f"
  },
  {
   "cell_type": "code",
   "outputs": [
    {
     "name": "stdout",
     "output_type": "stream",
     "text": [
      "('赵四', '刘能', '赵四', '刘能')\n",
      "('赵四', '刘能')\n",
      "('赵四', '刘能', '赵四', '刘能')\n"
     ]
    }
   ],
   "source": [
    "data = (\"赵四\",\"刘能\") * 2\n",
    "print(data) # (\"赵四\",\"刘能\",\"赵四\",\"刘能\")\n",
    "\n",
    "v1 = (\"赵四\",\"刘能\")\n",
    "v2 = v1 * 2\n",
    "print(v1) # (\"赵四\",\"刘能\")\n",
    "print(v2) # (\"赵四\",\"刘能\",\"赵四\",\"刘能\")"
   ],
   "metadata": {
    "collapsed": false,
    "ExecuteTime": {
     "end_time": "2024-02-05T07:38:53.897996Z",
     "start_time": "2024-02-05T07:38:53.891028Z"
    }
   },
   "id": "3dcf2b9ef94acef0",
   "execution_count": 4
  },
  {
   "cell_type": "markdown",
   "source": [
    "###### 获取长度\n"
   ],
   "metadata": {
    "collapsed": false
   },
   "id": "9765a826c249eb88"
  },
  {
   "cell_type": "code",
   "outputs": [],
   "source": [
    "user_list = (\"范德彪\",\"刘华强\",'尼古拉斯赵四',)\n",
    "print( len(user_list) )"
   ],
   "metadata": {
    "collapsed": false
   },
   "id": "5d5e8aed9a936c00"
  },
  {
   "cell_type": "markdown",
   "source": [
    "###### 索引"
   ],
   "metadata": {
    "collapsed": false
   },
   "id": "333d830108d114b4"
  },
  {
   "cell_type": "code",
   "outputs": [
    {
     "name": "stdout",
     "output_type": "stream",
     "text": [
      "范德彪\n",
      "尼古拉斯赵四\n"
     ]
    }
   ],
   "source": [
    "user_tuple = (\"范德彪\",\"刘华强\",'尼古拉斯赵四',)\n",
    "print( user_tuple[0] )\n",
    "print( user_tuple[2] )"
   ],
   "metadata": {
    "collapsed": false,
    "ExecuteTime": {
     "end_time": "2024-02-05T07:39:38.626343Z",
     "start_time": "2024-02-05T07:39:38.620454Z"
    }
   },
   "id": "8e33811501434e78",
   "execution_count": 7
  },
  {
   "cell_type": "markdown",
   "source": [
    "###### 切片\n"
   ],
   "metadata": {
    "collapsed": false
   },
   "id": "1e532a430a731f0b"
  },
  {
   "cell_type": "code",
   "outputs": [
    {
     "name": "stdout",
     "output_type": "stream",
     "text": [
      "('范德彪', '刘华强')\n",
      "('刘华强', '尼古拉斯赵四')\n",
      "('范德彪', '刘华强')\n"
     ]
    }
   ],
   "source": [
    "user_tuple = (\"范德彪\",\"刘华强\",'尼古拉斯赵四',)\n",
    "print( user_tuple[0:2] )\n",
    "print( user_tuple[1:] )\n",
    "print( user_tuple[:-1] )"
   ],
   "metadata": {
    "collapsed": false,
    "ExecuteTime": {
     "end_time": "2024-02-05T07:39:56.169270Z",
     "start_time": "2024-02-05T07:39:56.163612Z"
    }
   },
   "id": "626088a5479538bb",
   "execution_count": 8
  },
  {
   "cell_type": "markdown",
   "source": [
    "###### 步长"
   ],
   "metadata": {
    "collapsed": false
   },
   "id": "c5d922d926a576fc"
  },
  {
   "cell_type": "code",
   "outputs": [
    {
     "name": "stdout",
     "output_type": "stream",
     "text": [
      "('刘华强', '宋小宝')\n",
      "('范德彪', '尼古拉斯赵四', '刘能')\n",
      "('刘华强', '宋小宝')\n",
      "('刘能', '宋小宝', '尼古拉斯赵四')\n",
      "('刘能', '宋小宝', '尼古拉斯赵四', '刘华强', '范德彪')\n"
     ]
    }
   ],
   "source": [
    "user_tuple = (\"范德彪\",\"刘华强\",'尼古拉斯赵四',\"宋小宝\",\"刘能\")\n",
    "print( user_tuple[1:4:2] )\n",
    "print( user_tuple[0::2] )\n",
    "print( user_tuple[1::2] )\n",
    "print( user_tuple[4:1:-1] )\n",
    "print(user_tuple[::-1])"
   ],
   "metadata": {
    "collapsed": false,
    "ExecuteTime": {
     "end_time": "2024-02-05T07:40:35.689194Z",
     "start_time": "2024-02-05T07:40:35.678480Z"
    }
   },
   "id": "ffaecf3b42fcbe06",
   "execution_count": 9
  },
  {
   "cell_type": "markdown",
   "source": [
    "###### for 循环"
   ],
   "metadata": {
    "collapsed": false
   },
   "id": "b2529639e1d0c1ca"
  },
  {
   "cell_type": "code",
   "outputs": [
    {
     "name": "stdout",
     "output_type": "stream",
     "text": [
      "范德彪\n",
      "刘华强\n",
      "尼古拉斯赵四\n",
      "宋小宝\n",
      "刘能\n"
     ]
    }
   ],
   "source": [
    "user_tuple = (\"范德彪\",\"刘华强\",'尼古拉斯赵四',\"宋小宝\",\"刘能\")\n",
    "for item in user_tuple:\n",
    "\tprint(item)"
   ],
   "metadata": {
    "collapsed": false,
    "ExecuteTime": {
     "end_time": "2024-02-05T07:40:58.154117Z",
     "start_time": "2024-02-05T07:40:58.145922Z"
    }
   },
   "id": "175c90613958b553",
   "execution_count": 10
  },
  {
   "cell_type": "markdown",
   "source": [
    "> 目前：只有 str、list、tuple 可以被for循环。 \"xxx\"  [11,22,33]  (111,22,33)\n",
    "\n",
    "##### 转换\n",
    "其他类型转换为元组，使用`tuple(其他类型)`，目前只有字符串和列表可以转换为元组。\n",
    "```python\n",
    "data = tuple(其他)\n",
    "```\n",
    "##### 其他\n",
    "###### 嵌套\n",
    "由于元组和列表都可以充当`容器`，他们内部可以放很多元素，并且也支持元素内的各种嵌套。\n"
   ],
   "metadata": {
    "collapsed": false
   },
   "id": "948af45e793e199d"
  },
  {
   "cell_type": "code",
   "outputs": [],
   "source": [],
   "metadata": {
    "collapsed": false
   },
   "id": "cb5b31ba6411f6f3"
  }
 ],
 "metadata": {
  "kernelspec": {
   "display_name": "Python 3",
   "language": "python",
   "name": "python3"
  },
  "language_info": {
   "codemirror_mode": {
    "name": "ipython",
    "version": 2
   },
   "file_extension": ".py",
   "mimetype": "text/x-python",
   "name": "python",
   "nbconvert_exporter": "python",
   "pygments_lexer": "ipython2",
   "version": "2.7.6"
  }
 },
 "nbformat": 4,
 "nbformat_minor": 5
}
