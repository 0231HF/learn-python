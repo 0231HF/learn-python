{
 "cells": [
  {
   "cell_type": "markdown",
   "source": [
    "#### 整型\n",
    "> 定义\n",
    "```python\n",
    "numbers = 10 \n",
    "aa = int(10)\n",
    "```"
   ],
   "metadata": {
    "collapsed": false
   },
   "id": "7f4498a5731406ea"
  },
  {
   "cell_type": "code",
   "execution_count": 1,
   "id": "initial_id",
   "metadata": {
    "collapsed": true,
    "ExecuteTime": {
     "end_time": "2024-02-02T14:57:10.562480Z",
     "start_time": "2024-02-02T14:57:10.555597Z"
    }
   },
   "outputs": [
    {
     "name": "stdout",
     "output_type": "stream",
     "text": [
      "10\n"
     ]
    }
   ],
   "source": [
    "numbers = 10 \n",
    "aa = int(10)\n",
    "print(aa)"
   ]
  },
  {
   "cell_type": "markdown",
   "source": [
    "##### 独有功能\n"
   ],
   "metadata": {
    "collapsed": false
   },
   "id": "d271fa9dd95f8e36"
  },
  {
   "cell_type": "code",
   "outputs": [
    {
     "name": "stdout",
     "output_type": "stream",
     "text": [
      "3\n",
      "4\n"
     ]
    }
   ],
   "source": [
    "v1 = 5\n",
    "a = v1.bit_length() ##调用v1的独有功能,\"bit_length\"获取v1的二进制有多少位组成\n",
    "print(a)\n",
    "v2 = 10\n",
    "b = v2.bit_length()\n",
    "print(b)"
   ],
   "metadata": {
    "collapsed": false,
    "ExecuteTime": {
     "end_time": "2024-02-02T14:59:43.121060Z",
     "start_time": "2024-02-02T14:59:43.115777Z"
    }
   },
   "id": "6aee7da79c164227",
   "execution_count": 4
  },
  {
   "cell_type": "markdown",
   "source": [
    "#####  公共功能\n",
    "加减乘数"
   ],
   "metadata": {
    "collapsed": false
   },
   "id": "5db972f44152aca2"
  },
  {
   "cell_type": "code",
   "outputs": [],
   "source": [],
   "metadata": {
    "collapsed": false
   },
   "id": "7d3117feae1d60c1"
  },
  {
   "cell_type": "markdown",
   "source": [
    "##### 类型转换\n",
    "1、布尔类型转整型\n",
    "2、字符串转整型\n",
    "3、浮点型"
   ],
   "metadata": {
    "collapsed": false
   },
   "id": "568a06886c3ffca2"
  },
  {
   "cell_type": "code",
   "outputs": [
    {
     "name": "stdout",
     "output_type": "stream",
     "text": [
      "8\n"
     ]
    }
   ],
   "source": [
    "n1=int(True)\n",
    "\n",
    "v1 = int(\"182\",base=10)\n",
    "v2 = int(\"0x59\",base=16)\n",
    "\n",
    "v3 = int(8.7)\n",
    "print(v3)"
   ],
   "metadata": {
    "collapsed": false,
    "ExecuteTime": {
     "end_time": "2024-02-02T15:06:25.306513Z",
     "start_time": "2024-02-02T15:06:25.300382Z"
    }
   },
   "id": "754e14809d6663a0",
   "execution_count": 6
  },
  {
   "cell_type": "markdown",
   "source": [
    "##### 其他\n",
    "> 长整型\n",
    "python3: 整型(int)无限制\n",
    "python2： 整型(int) 长整型(long)\n",
    "    python2 中 int 有可表示的范围\n",
    "   \n",
    "> 地板除\n",
    "\n",
    "python2中2个值相除时，默认是地板除，只保留整数位（python3 默认会保留小数）\n",
    "\n",
    "```python3\n",
    "v1 = 9/2\n",
    "print(v1) # 4.5\n",
    "```\n",
    "\n",
    "```python2\n",
    "v1 = 9/2\n",
    "print(v1)  #4 \n",
    "```\n",
    "如果解决这个问题呢？\n",
    "```python2\n",
    "from __future__ import division\n",
    "v1 = 9/2\n",
    "print(v1)  #4 \n",
    "```\n"
   ],
   "metadata": {
    "collapsed": false
   },
   "id": "713d03664cdeebf0"
  },
  {
   "cell_type": "code",
   "outputs": [
    {
     "name": "stdout",
     "output_type": "stream",
     "text": [
      "4.5\n"
     ]
    }
   ],
   "source": [
    "print(9/2)"
   ],
   "metadata": {
    "collapsed": false,
    "ExecuteTime": {
     "end_time": "2024-02-02T15:11:17.508221Z",
     "start_time": "2024-02-02T15:11:17.497871Z"
    }
   },
   "id": "6ac4fc19917d9341",
   "execution_count": 7
  },
  {
   "cell_type": "code",
   "outputs": [],
   "source": [
    "  "
   ],
   "metadata": {
    "collapsed": false
   },
   "id": "744779a5d3b74520"
  }
 ],
 "metadata": {
  "kernelspec": {
   "display_name": "Python 3",
   "language": "python",
   "name": "python3"
  },
  "language_info": {
   "codemirror_mode": {
    "name": "ipython",
    "version": 2
   },
   "file_extension": ".py",
   "mimetype": "text/x-python",
   "name": "python",
   "nbconvert_exporter": "python",
   "pygments_lexer": "ipython2",
   "version": "2.7.6"
  }
 },
 "nbformat": 4,
 "nbformat_minor": 5
}
