{
 "cells": [
  {
   "cell_type": "markdown",
   "source": [
    "#### 列表类型\n",
    "> 列表(list) 是一个有序且可变的容器，在里面可以存放多个不同类型的元素\n",
    "\n",
    "##### 定义\n",
    "```python\n",
    "user_list =  [\"老师\",\"有坂深雪\",\"大桥未久\"]\n",
    "number_list = [98,88,666,12,-1]\n",
    "data_list = [1,True,\"Alex\",\"宝强\",\"贾乃亮\"]\n",
    "```\n",
    "列表是可变类型"
   ],
   "metadata": {
    "collapsed": false
   },
   "id": "de4adc7038224ca7"
  },
  {
   "cell_type": "markdown",
   "source": [
    "##### 独有功能\n",
    "\n",
    "###### append()追加\n",
    "> 在原列表中尾部追加值\n"
   ],
   "metadata": {
    "collapsed": false
   },
   "id": "1412fd94041db243"
  },
  {
   "cell_type": "code",
   "execution_count": 1,
   "id": "initial_id",
   "metadata": {
    "collapsed": true,
    "ExecuteTime": {
     "end_time": "2024-02-05T07:10:51.411131Z",
     "start_time": "2024-02-05T07:10:48.195167Z"
    }
   },
   "outputs": [
    {
     "name": "stdout",
     "output_type": "stream",
     "text": [
      "['das', 'dad']\n"
     ]
    }
   ],
   "source": [
    "data_list = []\n",
    "\n",
    "v1 = input(\"请输入姓名\")\n",
    "data_list.append(v1)\n",
    "\n",
    "v2 = input(\"请输入姓名\")\n",
    "data_list.append(v2)\n",
    "\n",
    "print(data_list) # [\"alex\",\"eric\"]"
   ]
  },
  {
   "cell_type": "markdown",
   "source": [
    "###### extend()批量追加\n",
    "> 将一个列表中的元素逐一添加另外一个列表。\n"
   ],
   "metadata": {
    "collapsed": false
   },
   "id": "801720ef09cf36d0"
  },
  {
   "cell_type": "code",
   "outputs": [
    {
     "name": "stdout",
     "output_type": "stream",
     "text": [
      "['搬砖', '菜刀', '榔头', 11, 22, 33]\n"
     ]
    }
   ],
   "source": [
    "tools = [\"搬砖\",\"菜刀\",\"榔头\"]\n",
    "tools.extend( [11,22,33] ) # weapon中的值逐一追加到tools中\n",
    "print(tools) # [\"搬砖\",\"菜刀\",\"榔头\",11,22,33]"
   ],
   "metadata": {
    "collapsed": false,
    "ExecuteTime": {
     "end_time": "2024-02-05T07:13:11.886520Z",
     "start_time": "2024-02-05T07:13:11.883319Z"
    }
   },
   "id": "302d333459a8b95b",
   "execution_count": 4
  },
  {
   "cell_type": "markdown",
   "source": [
    "###### insert() 插入\n",
    "> 在原列表的指定索引位置插入值\n"
   ],
   "metadata": {
    "collapsed": false
   },
   "id": "faf9267dc0bb5b28"
  },
  {
   "cell_type": "code",
   "outputs": [
    {
     "name": "stdout",
     "output_type": "stream",
     "text": [
      "['马蓉', '苍老师', '李小璐', '有坂深雪', '大桥未久']\n"
     ]
    }
   ],
   "source": [
    "user_list = [\"老师\",\"有坂深雪\",\"大桥未久\"]\n",
    "user_list.insert(0,\"马蓉\")\n",
    "user_list.insert(2,\"李小璐\")\n",
    "print(user_list)"
   ],
   "metadata": {
    "collapsed": false,
    "ExecuteTime": {
     "end_time": "2024-02-05T07:13:34.818210Z",
     "start_time": "2024-02-05T07:13:34.811057Z"
    }
   },
   "id": "c3e5c99b66ef3566",
   "execution_count": 5
  },
  {
   "cell_type": "markdown",
   "source": [
    "###### remove() 删除\n",
    ">在原列表中根据值删除（从左到右找到第一个删除）【慎用，里面没有会报错】"
   ],
   "metadata": {
    "collapsed": false
   },
   "id": "b3ae8720b0f2048b"
  },
  {
   "cell_type": "code",
   "outputs": [],
   "source": [
    "user_list = [\"王宝强\",\"陈羽凡\",\"Alex\",\"贾乃亮\",\"Alex\"]\n",
    "user_list.remove(\"Alex\")\n",
    "print(user_list)"
   ],
   "metadata": {
    "collapsed": false
   },
   "id": "e9c904c6aff72234"
  },
  {
   "cell_type": "markdown",
   "source": [
    "###### pop() 根据索引删除\n",
    "> 在原列表中根据索引踢出某个元素（根据索引位置删除）"
   ],
   "metadata": {
    "collapsed": false
   },
   "id": "1e42c8e46b0286ab"
  },
  {
   "cell_type": "code",
   "outputs": [
    {
     "name": "stdout",
     "output_type": "stream",
     "text": [
      "['王宝强', 'Alex', '贾乃亮', 'Alex']\n"
     ]
    }
   ],
   "source": [
    "user_list = [\"王宝强\",\"陈羽凡\",\"Alex\",\"贾乃亮\",\"Alex\"]\n",
    "#               0       1      2      3       4\n",
    "user_list.pop(1)\n",
    "print(user_list) #  [\"王宝强\",\"Alex\",\"贾乃亮\",\"Alex\"]\n"
   ],
   "metadata": {
    "collapsed": false,
    "ExecuteTime": {
     "end_time": "2024-02-05T07:15:09.639450Z",
     "start_time": "2024-02-05T07:15:09.629110Z"
    }
   },
   "id": "22a9dcb63bb2f993",
   "execution_count": 6
  },
  {
   "cell_type": "markdown",
   "source": [
    "###### clear() 清空原内容\n",
    "> 清空原列表"
   ],
   "metadata": {
    "collapsed": false
   },
   "id": "3144b30b968cfe5c"
  },
  {
   "cell_type": "code",
   "outputs": [
    {
     "name": "stdout",
     "output_type": "stream",
     "text": [
      "[]\n"
     ]
    }
   ],
   "source": [
    "user_list = [\"王宝强\",\"陈羽凡\",\"Alex\",\"贾乃亮\",\"Alex\"]\n",
    "user_list.clear()\n",
    "print(user_list) # []"
   ],
   "metadata": {
    "collapsed": false,
    "ExecuteTime": {
     "end_time": "2024-02-05T07:15:48.521812Z",
     "start_time": "2024-02-05T07:15:48.505986Z"
    }
   },
   "id": "2593c88590d07709",
   "execution_count": 7
  },
  {
   "cell_type": "markdown",
   "source": [
    "###### sort() 排序\n",
    "> 列表元素排序"
   ],
   "metadata": {
    "collapsed": false
   },
   "id": "160589fec443ffab"
  },
  {
   "cell_type": "code",
   "outputs": [
    {
     "name": "stdout",
     "output_type": "stream",
     "text": [
      "[11, 22, 4, 5, 11, 99, 88]\n",
      "[99, 88, 22, 11, 11, 5, 4]\n"
     ]
    }
   ],
   "source": [
    "# 数字排序\n",
    "num_list = [11, 22, 4, 5, 11, 99, 88]\n",
    "print(num_list)\n",
    "num_list.sort()  # 让num_list从小到大排序\n",
    "num_list.sort(reverse=True)  # # 让num_list从大到小排序\n",
    "print(num_list)"
   ],
   "metadata": {
    "collapsed": false,
    "ExecuteTime": {
     "end_time": "2024-02-05T07:16:20.425183Z",
     "start_time": "2024-02-05T07:16:20.415590Z"
    }
   },
   "id": "f7be56d8d505ef1",
   "execution_count": 8
  },
  {
   "cell_type": "markdown",
   "source": [
    "###### index() 根据索引查找\n",
    "> 根据值获取索引（从左到右找到第一个删除）【慎用，找不到报错】"
   ],
   "metadata": {
    "collapsed": false
   },
   "id": "2a00ad739e4e5383"
  },
  {
   "cell_type": "code",
   "outputs": [
    {
     "name": "stdout",
     "output_type": "stream",
     "text": [
      "2\n",
      "['王宝强', '陈羽凡', 'Alex', '贾乃亮', 'Alex']\n"
     ]
    }
   ],
   "source": [
    "user_list = [\"王宝强\",\"陈羽凡\",\"Alex\",\"贾乃亮\",\"Alex\"]\n",
    "#               0       1      2       3      4\n",
    "if \"Alex\" in user_list:\n",
    "\tindex = user_list.index(\"Alex\")\n",
    "\tprint(index) # 2\n",
    "else:\n",
    "    print(\"不存在\")\n",
    "print(user_list)"
   ],
   "metadata": {
    "collapsed": false,
    "ExecuteTime": {
     "end_time": "2024-02-05T07:17:28.326475Z",
     "start_time": "2024-02-05T07:17:28.320178Z"
    }
   },
   "id": "5d3d7ffb8d57207f",
   "execution_count": 11
  },
  {
   "cell_type": "markdown",
   "source": [
    "######  reverse() 反转原列表\n",
    "> 反转原列表"
   ],
   "metadata": {
    "collapsed": false
   },
   "id": "ad7f1d5326671620"
  },
  {
   "cell_type": "code",
   "outputs": [
    {
     "name": "stdout",
     "output_type": "stream",
     "text": [
      "['Alex', '贾乃亮', 'Alex', '陈羽凡', '王宝强']\n"
     ]
    }
   ],
   "source": [
    "user_list = [\"王宝强\",\"陈羽凡\",\"Alex\",\"贾乃亮\",\"Alex\"]\n",
    "user_list.reverse()\n",
    "print(user_list)"
   ],
   "metadata": {
    "collapsed": false,
    "ExecuteTime": {
     "end_time": "2024-02-05T07:19:48.202211Z",
     "start_time": "2024-02-05T07:19:48.196323Z"
    }
   },
   "id": "a99c6e88b309e8ab",
   "execution_count": 13
  },
  {
   "cell_type": "markdown",
   "source": [
    "##### 公共功能\n",
    "###### 相加 \n",
    "> 两个列表相加获取生成一个新的列表\n",
    "\n",
    "###### 相乘\n",
    ">列表*整型 将列表中的元素再创建N份并生成一个新的列表。\n"
   ],
   "metadata": {
    "collapsed": false
   },
   "id": "2834a14a73de8fae"
  },
  {
   "cell_type": "code",
   "outputs": [
    {
     "name": "stdout",
     "output_type": "stream",
     "text": [
      "['赵四', '刘能', '宋晓峰', '范德彪']\n",
      "['赵四', '刘能', '宋晓峰', '范德彪']\n",
      "['赵四', '刘能', '赵四', '刘能']\n",
      "['赵四', '刘能']\n",
      "['赵四', '刘能', '赵四', '刘能']\n"
     ]
    }
   ],
   "source": [
    "data = [\"赵四\",\"刘能\"] + [\"宋晓峰\",\"范德彪\"]\n",
    "print(data) # [\"赵四\",\"刘能\",\"宋晓峰\",\"范德彪\"]\n",
    "\n",
    "v1 = [\"赵四\",\"刘能\"]\n",
    "v2 = [\"宋晓峰\",\"范德彪\"]\n",
    "v3 = v1 + v2\n",
    "print(v3) # [\"赵四\",\"刘能\",\"宋晓峰\",\"范德彪\"]\n",
    "\n",
    "data = [\"赵四\",\"刘能\"] * 2\n",
    "print(data) # [\"赵四\",\"刘能\",\"赵四\",\"刘能\"]\n",
    "\n",
    "v1 = [\"赵四\",\"刘能\"]\n",
    "v2 = v1 * 2\n",
    "print(v1) # [\"赵四\",\"刘能\"]\n",
    "print(v2) # [\"赵四\",\"刘能\",\"赵四\",\"刘能\"]"
   ],
   "metadata": {
    "collapsed": false,
    "ExecuteTime": {
     "end_time": "2024-02-05T07:22:02.637938Z",
     "start_time": "2024-02-05T07:22:02.626512Z"
    }
   },
   "id": "16eea4f8a4ce8c11",
   "execution_count": 14
  },
  {
   "cell_type": "markdown",
   "source": [
    "###### in 包含\n",
    "> 由于列表内部是由多个元素组成，可以通过in来判断元素是否在列表中。"
   ],
   "metadata": {
    "collapsed": false
   },
   "id": "5be8f77171f8d88c"
  },
  {
   "cell_type": "code",
   "outputs": [
    {
     "name": "stdout",
     "output_type": "stream",
     "text": [
      "True\n"
     ]
    }
   ],
   "source": [
    "user_list = [\"狗子\",\"二蛋\",\"沙雕\",\"alex\"] \n",
    "result = \"alex\" in user_list\n",
    "print(result)"
   ],
   "metadata": {
    "collapsed": false,
    "ExecuteTime": {
     "end_time": "2024-02-05T07:22:43.417310Z",
     "start_time": "2024-02-05T07:22:43.412427Z"
    }
   },
   "id": "b769d3ed0494034c",
   "execution_count": 15
  },
  {
   "cell_type": "markdown",
   "source": [
    "###### 获取长度 len()"
   ],
   "metadata": {
    "collapsed": false
   },
   "id": "4977c6de84971586"
  },
  {
   "cell_type": "code",
   "outputs": [],
   "source": [
    "user_list = [\"范德彪\",\"刘华强\",'尼古拉斯赵四']\n",
    "print( len(user_list) )"
   ],
   "metadata": {
    "collapsed": false
   },
   "id": "dfc5ca4f0653f254"
  },
  {
   "cell_type": "markdown",
   "source": [
    "###### 索引，一个元素的操作"
   ],
   "metadata": {
    "collapsed": false
   },
   "id": "4e290bc5952a6fc9"
  },
  {
   "cell_type": "code",
   "outputs": [
    {
     "name": "stdout",
     "output_type": "stream",
     "text": [
      "范德彪\n",
      "尼古拉斯赵四\n",
      "['武沛齐', '刘华强', '尼古拉斯赵四']\n"
     ]
    },
    {
     "ename": "ValueError",
     "evalue": "list.remove(x): x not in list",
     "output_type": "error",
     "traceback": [
      "\u001B[0;31m---------------------------------------------------------------------------\u001B[0m",
      "\u001B[0;31mValueError\u001B[0m                                Traceback (most recent call last)",
      "Cell \u001B[0;32mIn[18], line 15\u001B[0m\n\u001B[1;32m     12\u001B[0m user_list \u001B[38;5;241m=\u001B[39m [\u001B[38;5;124m\"\u001B[39m\u001B[38;5;124m范德彪\u001B[39m\u001B[38;5;124m\"\u001B[39m,\u001B[38;5;124m\"\u001B[39m\u001B[38;5;124m刘华强\u001B[39m\u001B[38;5;124m\"\u001B[39m,\u001B[38;5;124m'\u001B[39m\u001B[38;5;124m尼古拉斯赵四\u001B[39m\u001B[38;5;124m'\u001B[39m]\n\u001B[1;32m     13\u001B[0m \u001B[38;5;28;01mdel\u001B[39;00m user_list[\u001B[38;5;241m1\u001B[39m]\n\u001B[0;32m---> 15\u001B[0m user_list\u001B[38;5;241m.\u001B[39mremove(\u001B[38;5;124m\"\u001B[39m\u001B[38;5;124m刘华强\u001B[39m\u001B[38;5;124m\"\u001B[39m)\n\u001B[1;32m     16\u001B[0m ele \u001B[38;5;241m=\u001B[39m user_list\u001B[38;5;241m.\u001B[39mpop(\u001B[38;5;241m1\u001B[39m)\n",
      "\u001B[0;31mValueError\u001B[0m: list.remove(x): x not in list"
     ]
    }
   ],
   "source": [
    "# 读\n",
    "user_list = [\"范德彪\",\"刘华强\",'尼古拉斯赵四']\n",
    "print( user_list[0] )\n",
    "print( user_list[2] )\n",
    "#print( user_list[3] ) # 报错\n",
    "user_list[0] = \"武沛齐\"\n",
    "print(user_list) # [\"武沛齐\",\"刘华强\",'尼古拉斯赵四']\n",
    "\n",
    "\n",
    "\n",
    "# 删"
   ],
   "metadata": {
    "collapsed": false,
    "ExecuteTime": {
     "end_time": "2024-02-05T07:24:50.542863Z",
     "start_time": "2024-02-05T07:24:50.527768Z"
    }
   },
   "id": "d9c5c8f9f026cc89",
   "execution_count": 18
  },
  {
   "cell_type": "code",
   "outputs": [],
   "source": [
    "user_list = [\"范德彪\",\"刘华强\",'尼古拉斯赵四']\n",
    "# del user_list[1]\n",
    "\n",
    "user_list.remove(\"刘华强\")\n",
    "ele = user_list.pop(1)"
   ],
   "metadata": {
    "collapsed": false,
    "ExecuteTime": {
     "end_time": "2024-02-05T07:25:23.430611Z",
     "start_time": "2024-02-05T07:25:23.423701Z"
    }
   },
   "id": "aeaffe3425817dc3",
   "execution_count": 20
  },
  {
   "cell_type": "markdown",
   "source": [
    "######  切片\n",
    "> 多个元素的操作（很少用）"
   ],
   "metadata": {
    "collapsed": false
   },
   "id": "64b7169a09dc87f2"
  },
  {
   "cell_type": "code",
   "outputs": [],
   "source": [
    "# 读\n",
    "user_list = [\"范德彪\",\"刘华强\",'尼古拉斯赵四']\n",
    "\n",
    "print( user_list[0:2] ) # [\"范德彪\",\"刘华强\"]\n",
    "print( user_list[1:] )\n",
    "print( user_list[:-1] )"
   ],
   "metadata": {
    "collapsed": false
   },
   "id": "eecb712a2af31286"
  },
  {
   "cell_type": "markdown",
   "source": [
    "###### 步长\n"
   ],
   "metadata": {
    "collapsed": false
   },
   "id": "7b9c6798c091e414"
  },
  {
   "cell_type": "code",
   "outputs": [],
   "source": [
    "user_list = [\"范德彪\",\"刘华强\",'尼古拉斯赵四',\"宋小宝\",\"刘能\"]\n",
    "#              0        1        2          3       4\n",
    "print( user_list[1:4:2] )\n",
    "print( user_list[0::2] )\n",
    "print( user_list[1::2] )\n",
    "print( user_list[4:1:-1] )"
   ],
   "metadata": {
    "collapsed": false
   },
   "id": "a7171abdeb15672c"
  },
  {
   "cell_type": "markdown",
   "source": [
    "###### for 循环"
   ],
   "metadata": {
    "collapsed": false
   },
   "id": "2d13dfaf592eb08"
  },
  {
   "cell_type": "code",
   "outputs": [],
   "source": [
    "user_list = [\"范德彪\",\"刘华强\",'尼古拉斯赵四',\"宋小宝\",\"刘能\"]\n",
    "for item in user_list:\n",
    "\tprint(item)"
   ],
   "metadata": {
    "collapsed": false
   },
   "id": "3dd505a86230239c"
  },
  {
   "cell_type": "markdown",
   "source": [
    "> 切记，循环的过程中对数据进行删除会踩坑。"
   ],
   "metadata": {
    "collapsed": false
   },
   "id": "d38f1905d2dc031f"
  },
  {
   "cell_type": "code",
   "outputs": [
    {
     "name": "stdout",
     "output_type": "stream",
     "text": [
      "['范德彪', '刘尼古拉斯赵四', '宋小宝']\n"
     ]
    }
   ],
   "source": [
    "# 错误方式， 有坑，结果不是你想要的。\n",
    "\n",
    "user_list = [\"刘的话\", \"范德彪\", \"刘华强\", '刘尼古拉斯赵四', \"宋小宝\", \"刘能\"]\n",
    "for item in user_list:\n",
    "    if item.startswith(\"刘\"):\n",
    "        user_list.remove(item)\n",
    "        \n",
    "print(user_list)\n",
    "\n",
    "# 正确方式，倒着删除。\n",
    "# user_list = [\"刘的话\", \"范德彪\", \"刘华强\", '刘尼古拉斯赵四', \"宋小宝\", \"刘能\"]\n",
    "# for index in range(len(user_list) - 1, -1, -1):\n",
    "#     item = user_list[index]\n",
    "#     if item.startswith(\"刘\"):\n",
    "#         user_list.remove(item)\n",
    "# print(user_list)"
   ],
   "metadata": {
    "collapsed": false,
    "ExecuteTime": {
     "end_time": "2024-02-05T07:30:54.877174Z",
     "start_time": "2024-02-05T07:30:54.865633Z"
    }
   },
   "id": "7d4a73e9f083ad53",
   "execution_count": 23
  },
  {
   "cell_type": "markdown",
   "source": [
    "##### 转换\n",
    "- int bool 无法转成列表\n",
    "- str 可以转\n",
    "- 元祖  集合 转列表\n",
    "##### 其他\n",
    "###### 嵌套\n",
    "列表属于容器，内部可以存放各种数据，所以他也支持列表的嵌套，如："
   ],
   "metadata": {
    "collapsed": false
   },
   "id": "21f88f0b595bfadd"
  },
  {
   "cell_type": "code",
   "outputs": [
    {
     "name": "stdout",
     "output_type": "stream",
     "text": [
      "['谢广坤', ['海燕', '赵本山'], True, [11, 22, [999, 123], 33, 44], '宋小宝']\n"
     ]
    }
   ],
   "source": [
    "data = [ \"谢广坤\",[\"海燕\",\"赵本山\"],True,[11,22,[999,123],33,44],\"宋小宝\" ]\n",
    "print(data)"
   ],
   "metadata": {
    "collapsed": false,
    "ExecuteTime": {
     "end_time": "2024-02-05T07:33:50.150394Z",
     "start_time": "2024-02-05T07:33:50.138199Z"
    }
   },
   "id": "cfc406fe6350623",
   "execution_count": 24
  },
  {
   "cell_type": "code",
   "outputs": [],
   "source": [],
   "metadata": {
    "collapsed": false
   },
   "id": "bba78cb73b5bf421"
  }
 ],
 "metadata": {
  "kernelspec": {
   "display_name": "Python 3",
   "language": "python",
   "name": "python3"
  },
  "language_info": {
   "codemirror_mode": {
    "name": "ipython",
    "version": 2
   },
   "file_extension": ".py",
   "mimetype": "text/x-python",
   "name": "python",
   "nbconvert_exporter": "python",
   "pygments_lexer": "ipython2",
   "version": "2.7.6"
  }
 },
 "nbformat": 4,
 "nbformat_minor": 5
}
