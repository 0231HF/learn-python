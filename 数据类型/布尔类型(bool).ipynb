{
 "cells": [
  {
   "cell_type": "markdown",
   "source": [
    "#### 布尔类型\n",
    "> 定义\n",
    "```python\n",
    "data = False\n",
    "data1 = True\n",
    "```\n",
    "\n",
    "##### 独有功能\n",
    "无\n",
    "##### 公共功能\n",
    "无\n",
    "##### 转换\n",
    "- 整数 0 、空字符串、空列表、空元祖、空字典转换为 False\n",
    "- 其他的都为 True\n",
    "\n",
    "##### 其他\n",
    "> 做条件自动转换\n",
    "如果在`if` `while` 条件后面写一个值当条件时   他会默认转换为布尔类型 然后在做条件判断"
   ],
   "metadata": {
    "collapsed": false
   },
   "id": "8afe724306143786"
  },
  {
   "cell_type": "code",
   "execution_count": 2,
   "id": "initial_id",
   "metadata": {
    "collapsed": true,
    "ExecuteTime": {
     "end_time": "2024-02-02T15:24:21.162155Z",
     "start_time": "2024-02-02T15:24:21.158616Z"
    }
   },
   "outputs": [
    {
     "name": "stdout",
     "output_type": "stream",
     "text": [
      "xxxx\n",
      "1111\n"
     ]
    }
   ],
   "source": [
    "if 1 > 2:\n",
    "    print(\"xxx\")\n",
    "else:\n",
    "    print(\"xxxx\")\n",
    "    \n",
    "if 0 :\n",
    "    print(\"xxxxxx\")\n",
    "else:\n",
    "    print(1111)"
   ]
  },
  {
   "cell_type": "code",
   "outputs": [],
   "source": [],
   "metadata": {
    "collapsed": false
   },
   "id": "1c03de1187bd294c"
  }
 ],
 "metadata": {
  "kernelspec": {
   "display_name": "Python 3",
   "language": "python",
   "name": "python3"
  },
  "language_info": {
   "codemirror_mode": {
    "name": "ipython",
    "version": 2
   },
   "file_extension": ".py",
   "mimetype": "text/x-python",
   "name": "python",
   "nbconvert_exporter": "python",
   "pygments_lexer": "ipython2",
   "version": "2.7.6"
  }
 },
 "nbformat": 4,
 "nbformat_minor": 5
}
