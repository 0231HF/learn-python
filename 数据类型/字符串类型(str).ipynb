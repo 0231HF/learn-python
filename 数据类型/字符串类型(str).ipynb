{
 "cells": [
  {
   "cell_type": "markdown",
   "source": [
    "#### 字符串类型\n",
    "> 定义\n",
    "\n",
    "```python\n",
    "v1 =\"xxx\"\n",
    "v2='122'\n",
    "v3='''dasd'''\n",
    "```\n",
    "\n",
    "\n",
    "##### 独有功能(48个)\n",
    "基本使用格式\n",
    "```python\n",
    "# 格式 1\n",
    "\"xxxxx\".功能()\n",
    "```\n"
   ],
   "metadata": {
    "collapsed": false
   },
   "id": "583f184a75654b8e"
  },
  {
   "cell_type": "markdown",
   "source": [
    "\n",
    "###### s.startswith()\n",
    "> 判断字符串是以什么开头的?得到一个布尔值"
   ],
   "metadata": {
    "collapsed": false
   },
   "id": "ed145a1a0dd17d0f"
  },
  {
   "cell_type": "code",
   "execution_count": null,
   "id": "initial_id",
   "metadata": {
    "collapsed": true
   },
   "outputs": [],
   "source": [
    "v1=\"xaasdas\"\n",
    "print(v1.startswith(\"xa\"))"
   ]
  },
  {
   "cell_type": "markdown",
   "source": [
    "###### s.endswith()\n",
    "> 判断字符串是以什么结尾的？得到一个布尔值"
   ],
   "metadata": {
    "collapsed": false
   },
   "id": "2afc70f243136fd2"
  },
  {
   "cell_type": "code",
   "outputs": [],
   "source": [
    "v1=\"xxxsax\"\n",
    "print(v1.endswith(\"a\"))"
   ],
   "metadata": {
    "collapsed": false
   },
   "id": "13837239a064435b",
   "execution_count": null
  },
  {
   "cell_type": "markdown",
   "source": [
    "###### s.isdecimal()\n",
    "> 判断字符串是否全部由整数组成？得到一个布尔值\n",
    "\n",
    "isdecimal vs isdigit区别\n"
   ],
   "metadata": {
    "collapsed": false
   },
   "id": "a9dc56bb9ad71e7c"
  },
  {
   "cell_type": "code",
   "outputs": [],
   "source": [
    "v1 =\"xxx\"\n",
    "v2 = \"111\"\n",
    "print(v1.isdecimal())\n",
    "print(v2.isdecimal())\n",
    "v3 = \"①\"\n",
    "print(v3.isdecimal())\n",
    "print(v3.isdigit())"
   ],
   "metadata": {
    "collapsed": false
   },
   "id": "833189f594210f00",
   "execution_count": null
  },
  {
   "cell_type": "markdown",
   "source": [
    "######  s.strip()\n",
    "> 去除字符串两边的空格()、换行符(\\n)、制表符(\\t)、等到一个新的字符串\n",
    "###### s.lstrip()\n",
    "> 只去除左边的\n",
    "###### s.rtrip()\n",
    "> 只去除右边的\n",
    "\n"
   ],
   "metadata": {
    "collapsed": false
   },
   "id": "ddc9ff377aff02d9"
  },
  {
   "cell_type": "code",
   "outputs": [],
   "source": [
    "message =\" xxx hh ， da \"\n",
    "data=message.strip()\n",
    "ldata=message.lstrip()\n",
    "rdata=message.rstrip()\n",
    "\n",
    "print(message)\n",
    "print(data)\n",
    "print(ldata)\n",
    "print(rdata)"
   ],
   "metadata": {
    "collapsed": false
   },
   "id": "7c25b6e67f8378a0",
   "execution_count": null
  },
  {
   "cell_type": "markdown",
   "source": [
    " strip去除字符串两边指定内容"
   ],
   "metadata": {
    "collapsed": false
   },
   "id": "85d717d3952170f7"
  },
  {
   "cell_type": "code",
   "outputs": [],
   "source": [
    "# 案例 2  去除指定内容\n",
    "message = \"feifeifeifei\"\n",
    "print(message.strip(\"i\"))"
   ],
   "metadata": {
    "collapsed": false
   },
   "id": "ac0886853cb2a113"
  },
  {
   "cell_type": "markdown",
   "source": [
    "###### s.upper()\n",
    ">将字符串里面的内容全部变成大写 字符串\n",
    "###### s.isupper()\n",
    ">查看字符串是否为全部大写  得到一个布尔值"
   ],
   "metadata": {
    "collapsed": false
   },
   "id": "6ffce2e8d39646c5"
  },
  {
   "cell_type": "code",
   "outputs": [],
   "source": [
    "message = \"xxxxx\"\n",
    "data = message.upper()\n",
    "print(data)"
   ],
   "metadata": {
    "collapsed": false
   },
   "id": "6fd0f183b470b23",
   "execution_count": null
  },
  {
   "cell_type": "markdown",
   "source": [
    "###### s.lower()\n",
    ">将字符串里面的内容全部变成小写 字符串\n",
    "###### s.islower()\n",
    ">查看字符串是否为全部小写 得到一个布尔值"
   ],
   "metadata": {
    "collapsed": false
   },
   "id": "1cbc2cfb911370a5"
  },
  {
   "cell_type": "code",
   "outputs": [],
   "source": [
    "message = \"xxSSxxx\"\n",
    "print(message.islower())\n",
    "data = message.lower()\n",
    "print(data)\n",
    "print(data.islower())"
   ],
   "metadata": {
    "collapsed": false
   },
   "id": "1dfcd93cf382ff2f",
   "execution_count": null
  },
  {
   "cell_type": "markdown",
   "source": [
    "###### s.replace()\n",
    ">字符串替换功能 得到一个新的字符串\n",
    "\n",
    "可以做关键字屏蔽 替换的功能"
   ],
   "metadata": {
    "collapsed": false
   },
   "id": "800c3d1b00cbee00"
  },
  {
   "cell_type": "code",
   "outputs": [],
   "source": [
    "data=\"我是 feifeifei\"\n",
    "print(data.replace(\"e\",\"a\",2)) ## 后面如果带数字的可以话 可以指定替换的最大次数"
   ],
   "metadata": {
    "collapsed": false
   },
   "id": "83da919fdbd1c892",
   "execution_count": null
  },
  {
   "cell_type": "markdown",
   "source": [
    "###### s.split(\"分隔符\"，maxsplit)\n",
    "> 字符串切割，得到一个新的列表\n",
    "###### s.rsplit(\"分隔符\"，maxsplit)\n",
    "> 字符串切割从右边开始切，得到一个新的列表\n",
    "应用场景: 文件字符串  可以通过这找到文件的类型扩展名"
   ],
   "metadata": {
    "collapsed": false
   },
   "id": "37080c955c52688c"
  },
  {
   "cell_type": "code",
   "outputs": [],
   "source": [
    "data=\"xasxasx\"\n",
    "print(data.split(\"s\"))\n",
    "\n",
    "print(data.split(\"s\",1)) #后面带数字表示切几次\n",
    "\n",
    "print(data.rsplit(\"s\",1))"
   ],
   "metadata": {
    "collapsed": false
   },
   "id": "e010de3088020fa4",
   "execution_count": null
  },
  {
   "cell_type": "markdown",
   "source": [
    "###### \"拼接符\".join()\n",
    "> 字符串拼接"
   ],
   "metadata": {
    "collapsed": false
   },
   "id": "595a62ef96b01478"
  },
  {
   "cell_type": "code",
   "outputs": [],
   "source": [
    "data_list=[\"我\",\"是\",\"feifeifei\"]\n",
    "print(\"\".join(data_list))\n",
    "print(\"_\".join(data_list))\n"
   ],
   "metadata": {
    "collapsed": false
   },
   "id": "32e3ec98f33e7363",
   "execution_count": null
  },
  {
   "cell_type": "markdown",
   "source": [
    "###### \"\".format()\n",
    "> 带占位符的字符串格式化\n",
    "> S.format(*args, **kwargs) -> str"
   ],
   "metadata": {
    "collapsed": false
   },
   "id": "d4414ba8ca79e060"
  },
  {
   "cell_type": "code",
   "outputs": [],
   "source": [
    "data=\"xxx{}\".format(\"dd\")\n",
    "print(data)\n"
   ],
   "metadata": {
    "collapsed": false
   },
   "id": "65f32e6e3cebf4c4",
   "execution_count": null
  },
  {
   "cell_type": "markdown",
   "source": [
    "###### s.encode(\"utf-8\")\n",
    "> 字符串转换为字节\n",
    "###### s.decode(\"utf-8\")\n",
    "> 将字节类型转换为字符串类型"
   ],
   "metadata": {
    "collapsed": false
   },
   "id": "74858e2b26de9ced"
  },
  {
   "cell_type": "code",
   "outputs": [],
   "source": [
    "data=\"飞飞飞\"\n",
    "print(data) # 字符串类型 unicode\n",
    "print(data.encode(\"utf-8\")) #字节类型 utf-8\n",
    "print(\"xxx\")\n",
    "print(data.encode(\"gbk\")) #字节类型 utf-8\n",
    "v1 =data.encode(\"utf-8\")\n",
    "print(v1.decode(\"utf-8\"))"
   ],
   "metadata": {
    "collapsed": false
   },
   "id": "d1ba54252d0aaca",
   "execution_count": null
  },
  {
   "cell_type": "markdown",
   "source": [
    "###### s.center(总长度,\"填充内容\")\n",
    ">将字符串内容居中,然后用填充内容填充使新的字符串达到规定长度\n",
    "###### s.ljust(总长度,\"填充内容\")\n",
    ">将字符串内容居左,然后用填充内容填充使新的字符串达到规定长度\n",
    "\n",
    "###### s.rjutt(总长度,\"填充内容\")\n",
    "\n",
    ">>将字符串内容居中右,然后用填充内容填充使新的字符串达到规定长度\n"
   ],
   "metadata": {
    "collapsed": false
   },
   "id": "3a4d2ec159528ea"
  },
  {
   "cell_type": "code",
   "outputs": [],
   "source": [
    "v1=\"fefefefe\"\n",
    "data= v1.center(3,\"*\")\n",
    "data1= v1.center(10,\"*\")\n",
    "print(data)\n",
    "print(data1)\n",
    "\n",
    "print(v1.ljust(20,\"*\"))\n",
    "print(v1.rjust(20,\"*\"))\n",
    "print(v1.ljust(2,\"*\"))\n",
    "print(v1.rjust(2,\"*\"))"
   ],
   "metadata": {
    "collapsed": false
   },
   "id": "f54dfcee1e10c84d",
   "execution_count": null
  },
  {
   "cell_type": "markdown",
   "source": [
    "###### s.zfill(长度)\n",
    "> 填充0的的  它会在文本右边填0 从而达到目标长度\n",
    "\n",
    "zfill(10) == rjust(10,\"0\")\n",
    "应用场景: 处理二进制数据"
   ],
   "metadata": {
    "collapsed": false
   },
   "id": "6ee4ef87fdc56b94"
  },
  {
   "cell_type": "code",
   "outputs": [],
   "source": [
    "data=\"feifeifei\"\n",
    "print(data.zfill(10))\n",
    "print(data.rjust(10,\"0\"))\n",
    "\n",
    "print(data.zfill(10) == data.rjust(10,\"0\"))"
   ],
   "metadata": {
    "collapsed": false
   },
   "id": "c55b51d799367a56",
   "execution_count": null
  },
  {
   "cell_type": "markdown",
   "source": [
    "##### 公共功能\n",
    "###### 相加\n",
    "\"xsss\" +\"xasxas\"\n",
    "###### 相乘\n",
    "\"xasxas\"*3\n"
   ],
   "metadata": {
    "collapsed": false
   },
   "id": "83472e53a71d9b9c"
  },
  {
   "cell_type": "code",
   "outputs": [],
   "source": [
    "print(\"xsss\" +\"xasxas\")\n",
    "print(\"xasxas\"*3)"
   ],
   "metadata": {
    "collapsed": false
   },
   "id": "d894a59d45b72a4b",
   "execution_count": null
  },
  {
   "cell_type": "markdown",
   "source": [
    "###### 求长度\n",
    "len(str)"
   ],
   "metadata": {
    "collapsed": false
   },
   "id": "62c8d118191c85f"
  },
  {
   "cell_type": "code",
   "outputs": [],
   "source": [
    "print(len(\"xsxsx\"))\n",
    "print(\"xsxsx\".__len__())"
   ],
   "metadata": {
    "collapsed": false
   },
   "id": "f455ecab4640457f",
   "execution_count": null
  },
  {
   "cell_type": "markdown",
   "source": [
    "###### 获取字符串中的字符 基于索引来做\n",
    "```python\n",
    "data=\"123x\"\n",
    "print(data[0])\n",
    "```\n",
    "`字符串中是能通过索引取值，无法修改值【字符串在内部存储时，不允许对内部元素进行修改，如果想要修改只能重新创建】`"
   ],
   "metadata": {
    "collapsed": false
   },
   "id": "7e1092bed1a83b24"
  },
  {
   "cell_type": "code",
   "outputs": [],
   "source": [
    "data=\"123x\"\n",
    "print(data[0])\n",
    "print(data[-1])\n"
   ],
   "metadata": {
    "collapsed": false
   },
   "id": "2cf5ea07b9b6c573",
   "execution_count": null
  },
  {
   "cell_type": "markdown",
   "source": [
    "> 展示字符串所有的内容"
   ],
   "metadata": {
    "collapsed": false
   },
   "id": "3f2231e7d0496b66"
  },
  {
   "cell_type": "code",
   "outputs": [],
   "source": [
    "message=\"这是要展示的内容\"\n",
    "index=0\n",
    "while  index < len(message):\n",
    "    print(message[index])\n",
    "    index +=1\n",
    "# 如果是倒叙展示呢？\n",
    "index=len(message)-1\n",
    "while index >=0: \n",
    "    print(message[index])\n",
    "    index -=1"
   ],
   "metadata": {
    "collapsed": false
   },
   "id": "7475c437a6226e12",
   "execution_count": null
  },
  {
   "cell_type": "markdown",
   "source": [
    "###### 字符串切片 获取字符串中的子序列[索引的起始位置:索引的结束位置:步长]\n",
    "> 字符串中的切片只能读取数据，无法修改数据"
   ],
   "metadata": {
    "collapsed": false
   },
   "id": "438f41fa7f015b4e"
  },
  {
   "cell_type": "code",
   "outputs": [],
   "source": [
    "message =\"1234565\"\n",
    "print(message[:]) # 1234565\n",
    "print(message[1:6]) #23456\n",
    "print(message[0:2]) #12\n",
    "print(message[-1:]) #5"
   ],
   "metadata": {
    "collapsed": false
   },
   "id": "f625105d7dca977",
   "execution_count": null
  },
  {
   "cell_type": "markdown",
   "source": [
    "###### 步长\n",
    "步长 跳着去取字符串 [索引的起始位置:索引的结束位置:步长] 前取后不取\n"
   ],
   "metadata": {
    "collapsed": false
   },
   "id": "15c3a3dda81f14fe"
  },
  {
   "cell_type": "code",
   "outputs": [],
   "source": [
    "name = \"生活不是电影，生活比电影苦\"\n",
    "\n",
    "print( name[ 0:5:2 ] )   # 输出：生不电 【前两个值表示区间范围，最有一个值表示步长】\n",
    "print( name[ :8:2 ] )    # 输出：生不电，  【区间范围的前面不写则表示起始范围为0开始】、\n",
    "# 此处老师讲解时，错把 name[ 2::3 ]看成了name[ 2::2 ]，更正下。（感谢 B站 放酱啊噗啊噗 同学的反馈）\n",
    "# print( name[ 2::2 ] )    # 输出：不电，活电苦\n",
    "# print( name[ 2::3 ] )    # 输出：不影活影\n",
    "\n",
    "print( name[ 2::3 ] )    # 输出：不电，活电苦 【区间范围的后面不写则表示结束范围为最后】\n",
    "print( name[ ::2 ] )     # 输出：生不电，活电苦 【区间范围不写表示整个字符串】\n",
    "print( name[ 8:1:-1 ] )  # 输出：活生，影电是不 【倒序】\n",
    "print(name[::-1])"
   ],
   "metadata": {
    "collapsed": false
   },
   "id": "e50b35830570f569",
   "execution_count": null
  },
  {
   "cell_type": "markdown",
   "source": [
    "###### 循环 \n",
    "> while\n",
    "> for\n",
    "> range,帮助我们创建一系列的数字\n",
    "一般都是 range 和 for循环搭配使用\n",
    "\n",
    "---\n",
    "一般应用场景:\n",
    "- while,一般在做无限(未知的)循环时使用\n",
    "- for,一般用在已知的循环数量的场景。\n",
    "\n",
    "---\n",
    "for 和 while 都是可以使用 break 和continue关键字的"
   ],
   "metadata": {
    "collapsed": false
   },
   "id": "49c90cf1357c0a6b"
  },
  {
   "cell_type": "code",
   "outputs": [],
   "source": [
    "name = \"生活不是电影，生活比电影苦\"\n",
    "for i in name:\n",
    "    print(i)"
   ],
   "metadata": {
    "collapsed": false
   },
   "id": "be30773999e995b8",
   "execution_count": null
  },
  {
   "cell_type": "code",
   "outputs": [],
   "source": [
    "range(10) # [0,1,2,3,4,5,6,7,8,9] 生成 10个数字\n",
    "range(10,1,-1) #[10,9,8,7,6,5,4,3,2]"
   ],
   "metadata": {
    "collapsed": false
   },
   "id": "db7e94a461214119",
   "execution_count": null
  },
  {
   "cell_type": "code",
   "outputs": [],
   "source": [
    "for i  in  range(10,1,-1):\n",
    "    print(i)"
   ],
   "metadata": {
    "collapsed": false
   },
   "id": "5c097922677e5a71",
   "execution_count": null
  },
  {
   "cell_type": "code",
   "outputs": [],
   "source": [
    "for i in range(10):\n",
    "    print(i)\n",
    "    for j in range(3):\n",
    "        break"
   ],
   "metadata": {
    "collapsed": false
   },
   "id": "8979ef57d3c759c4",
   "execution_count": null
  },
  {
   "cell_type": "markdown",
   "source": [
    "##### 转换\n",
    "str(其他类型数据)\n",
    "一般情况下 只有整型转字符串才有意义 其他的也不常用"
   ],
   "metadata": {
    "collapsed": false
   },
   "id": "888357b8e474d87"
  },
  {
   "cell_type": "code",
   "outputs": [
    {
     "name": "stdout",
     "output_type": "stream",
     "text": [
      "999\n",
      "<class 'str'>\n"
     ]
    }
   ],
   "source": [
    "num=999\n",
    "data=str(num)\n",
    "print(data) # str类型\n",
    "print(type(data))"
   ],
   "metadata": {
    "collapsed": false,
    "ExecuteTime": {
     "end_time": "2024-02-03T15:40:41.306546Z",
     "start_time": "2024-02-03T15:40:41.302463Z"
    }
   },
   "id": "eba2d4bbce85d07e",
   "execution_count": 87
  },
  {
   "cell_type": "markdown",
   "source": [
    "##### 字符串在创建之后不能被修改"
   ],
   "metadata": {
    "collapsed": false
   },
   "id": "1e1d1d518f3ccaa"
  },
  {
   "cell_type": "code",
   "outputs": [
    {
     "name": "stdout",
     "output_type": "stream",
     "text": [
      "4425793648\n",
      "4425793648\n",
      "4425795376\n"
     ]
    }
   ],
   "source": [
    "name =\"www\"\n",
    "a = name\n",
    "b = name[::-1]\n",
    "print(id(a))\n",
    "print(id(name))\n",
    "print(id(b))"
   ],
   "metadata": {
    "collapsed": false,
    "ExecuteTime": {
     "end_time": "2024-02-03T15:43:54.477627Z",
     "start_time": "2024-02-03T15:43:54.456200Z"
    }
   },
   "id": "a5098ee2db85e4db",
   "execution_count": 88
  },
  {
   "cell_type": "code",
   "outputs": [],
   "source": [],
   "metadata": {
    "collapsed": false
   },
   "id": "4981cf33ac731a98"
  }
 ],
 "metadata": {
  "kernelspec": {
   "display_name": "Python 3",
   "language": "python",
   "name": "python3"
  },
  "language_info": {
   "codemirror_mode": {
    "name": "ipython",
    "version": 2
   },
   "file_extension": ".py",
   "mimetype": "text/x-python",
   "name": "python",
   "nbconvert_exporter": "python",
   "pygments_lexer": "ipython2",
   "version": "2.7.6"
  }
 },
 "nbformat": 4,
 "nbformat_minor": 5
}
