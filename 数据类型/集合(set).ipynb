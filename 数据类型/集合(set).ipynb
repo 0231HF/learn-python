{
 "cells": [
  {
   "cell_type": "markdown",
   "source": [
    "#### 集合(set)\n",
    "> 集合就是一个无序，可变， 不允许重复的容器ß\n",
    "##### 定义\n",
    "```python\n",
    "v1 ={1,2,3,4,5,6}\n",
    "```\n",
    "- 无序的，无法通过索引取值ß\n",
    "- 可变的,可以添加或者修改删除元素\n",
    "- 不允许重复"
   ],
   "metadata": {
    "collapsed": false
   },
   "id": "12514927775bd59a"
  },
  {
   "cell_type": "code",
   "execution_count": 1,
   "id": "initial_id",
   "metadata": {
    "collapsed": true,
    "ExecuteTime": {
     "end_time": "2024-02-05T13:30:03.258173Z",
     "start_time": "2024-02-05T13:30:03.240125Z"
    }
   },
   "outputs": [
    {
     "name": "stdout",
     "output_type": "stream",
     "text": [
      "{1, 2, 3}\n"
     ]
    }
   ],
   "source": [
    "v1 ={1,2,3,2,2,2,3}\n",
    "print(v1)"
   ]
  },
  {
   "cell_type": "markdown",
   "source": [
    ">一般什么时候使用呢？\n",
    "放置不允许重复的数据\n",
    "\n",
    "定义空集合时，是能使用`v=set()` 不能使用`v={}`(这样定义的是字典)\n",
    "\n",
    "\n",
    "##### 独有功能\n",
    "###### add()添加"
   ],
   "metadata": {
    "collapsed": false
   },
   "id": "4c993d2ec28ba985"
  },
  {
   "cell_type": "code",
   "outputs": [
    {
     "name": "stdout",
     "output_type": "stream",
     "text": [
      "{1, 2, 3, 'ss'}\n"
     ]
    }
   ],
   "source": [
    "v1={1,2,3}\n",
    "v1.add(\"ss\")\n",
    "print(v1)"
   ],
   "metadata": {
    "collapsed": false,
    "ExecuteTime": {
     "end_time": "2024-02-05T13:35:14.207986Z",
     "start_time": "2024-02-05T13:35:14.179657Z"
    }
   },
   "id": "8fa631130f333777",
   "execution_count": 2
  },
  {
   "cell_type": "markdown",
   "source": [
    "###### discard()删除\n",
    "删除元素"
   ],
   "metadata": {
    "collapsed": false
   },
   "id": "a6074c4d36ed7a00"
  },
  {
   "cell_type": "code",
   "outputs": [
    {
     "name": "stdout",
     "output_type": "stream",
     "text": [
      "{1, 3, 'ss'}\n"
     ]
    }
   ],
   "source": [
    "v1={1,2,3}\n",
    "v1.add(\"ss\")\n",
    "v1.discard(2)\n",
    "print(v1)"
   ],
   "metadata": {
    "collapsed": false,
    "ExecuteTime": {
     "end_time": "2024-02-05T13:36:07.389389Z",
     "start_time": "2024-02-05T13:36:07.383324Z"
    }
   },
   "id": "4b57d4501fc24177",
   "execution_count": 3
  },
  {
   "cell_type": "markdown",
   "source": [
    "###### 交集"
   ],
   "metadata": {
    "collapsed": false
   },
   "id": "130699b81c8d427a"
  },
  {
   "cell_type": "code",
   "outputs": [
    {
     "name": "stdout",
     "output_type": "stream",
     "text": [
      "{'是'}\n"
     ]
    },
    {
     "ename": "TypeError",
     "evalue": "unsupported operand type(s) for +: 'set' and 'set'",
     "output_type": "error",
     "traceback": [
      "\u001B[0;31m---------------------------------------------------------------------------\u001B[0m",
      "\u001B[0;31mTypeError\u001B[0m                                 Traceback (most recent call last)",
      "Cell \u001B[0;32mIn[11], line 7\u001B[0m\n\u001B[1;32m      4\u001B[0m \u001B[38;5;28mprint\u001B[39m(s1\n\u001B[1;32m      5\u001B[0m       )\n\u001B[1;32m      6\u001B[0m s2\u001B[38;5;241m=\u001B[39ma1 \u001B[38;5;241m&\u001B[39m a2\n\u001B[0;32m----> 7\u001B[0m s3 \u001B[38;5;241m=\u001B[39ma1\u001B[38;5;241m+\u001B[39ma2\n\u001B[1;32m      8\u001B[0m \u001B[38;5;28mprint\u001B[39m(s2)\n\u001B[1;32m      9\u001B[0m \u001B[38;5;28mprint\u001B[39m(s3)\n",
      "\u001B[0;31mTypeError\u001B[0m: unsupported operand type(s) for +: 'set' and 'set'"
     ]
    }
   ],
   "source": [
    "a1={\"楼\",\"是\",\"表示\"}\n",
    "a2={\"是\",\"xsaxas\",\"xsaxsa\"}\n",
    "s1 =a1.intersection(a2)\n",
    "print(s1\n",
    "      )\n",
    "s2=a1 & a2\n",
    "\n",
    "print(s2)"
   ],
   "metadata": {
    "collapsed": false,
    "ExecuteTime": {
     "end_time": "2024-02-05T13:41:16.338267Z",
     "start_time": "2024-02-05T13:41:15.900212Z"
    }
   },
   "id": "5acb19ca3676f09f",
   "execution_count": 11
  },
  {
   "cell_type": "markdown",
   "source": [
    "###### 并集"
   ],
   "metadata": {
    "collapsed": false
   },
   "id": "be89a7c1acac0dee"
  },
  {
   "cell_type": "code",
   "outputs": [
    {
     "name": "stdout",
     "output_type": "stream",
     "text": [
      "{'楼', '是', '表示', 'xsaxsa', 'xsaxas'}\n",
      "{'楼', '是', '表示', 'xsaxsa', 'xsaxas'}\n"
     ]
    }
   ],
   "source": [
    "a1={\"楼\",\"是\",\"表示\"}\n",
    "a2={\"是\",\"xsaxas\",\"xsaxsa\"}\n",
    "s3=a1.union(a2)\n",
    "print(s3)\n",
    "s4=a1 | a2\n",
    "print(s4)"
   ],
   "metadata": {
    "collapsed": false,
    "ExecuteTime": {
     "end_time": "2024-02-05T13:39:46.807841Z",
     "start_time": "2024-02-05T13:39:46.801718Z"
    }
   },
   "id": "5e2465d3a0d49ea6",
   "execution_count": 9
  },
  {
   "cell_type": "markdown",
   "source": [
    "###### 差集\n",
    "> A-B 和B-A结果是不一样的"
   ],
   "metadata": {
    "collapsed": false
   },
   "id": "7f043f4b403e429c"
  },
  {
   "cell_type": "code",
   "outputs": [
    {
     "name": "stdout",
     "output_type": "stream",
     "text": [
      "{'楼', '表示'}\n",
      "{'楼', '表示'}\n"
     ]
    }
   ],
   "source": [
    "a1={\"楼\",\"是\",\"表示\"}\n",
    "a2={\"是\",\"xsaxas\",\"xsaxsa\"}\n",
    "s4=a1.difference(a2)\n",
    "s5 = a1 - a2\n",
    "print(s4)\n",
    "print(s5)"
   ],
   "metadata": {
    "collapsed": false,
    "ExecuteTime": {
     "end_time": "2024-02-05T13:40:49.276849Z",
     "start_time": "2024-02-05T13:40:49.270605Z"
    }
   },
   "id": "47d553bdac9c6c48",
   "execution_count": 10
  },
  {
   "cell_type": "markdown",
   "source": [
    "##### 公共功能\n",
    "###### 减 计算差集"
   ],
   "metadata": {
    "collapsed": false
   },
   "id": "580484f76faffac0"
  },
  {
   "cell_type": "code",
   "outputs": [],
   "source": [
    "a1={\"楼\",\"是\",\"表示\"}\n",
    "a2={\"是\",\"xsaxas\",\"xsaxsa\"}\n",
    "s4=a1.difference(a2)\n",
    "s5 = a1 - a2\n",
    "print(s4)\n",
    "print(s5)"
   ],
   "metadata": {
    "collapsed": false
   },
   "id": "bd37c3502ed24520"
  },
  {
   "cell_type": "markdown",
   "source": [
    "###### & 计算交集\n",
    "###### ｜ 计算并集\n",
    "###### 计算长度\n"
   ],
   "metadata": {
    "collapsed": false
   },
   "id": "50df177a68ead69c"
  },
  {
   "cell_type": "code",
   "outputs": [
    {
     "name": "stdout",
     "output_type": "stream",
     "text": [
      "3\n"
     ]
    }
   ],
   "source": [
    "a1={\"楼\",\"是\",\"表示\"}\n",
    "print(len(a1))"
   ],
   "metadata": {
    "collapsed": false,
    "ExecuteTime": {
     "end_time": "2024-02-05T13:45:58.316565Z",
     "start_time": "2024-02-05T13:45:58.310553Z"
    }
   },
   "id": "19e35d3bf1923693",
   "execution_count": 13
  },
  {
   "cell_type": "markdown",
   "source": [
    "###### for循环"
   ],
   "metadata": {
    "collapsed": false
   },
   "id": "5ce97d13a3bb3380"
  },
  {
   "cell_type": "code",
   "outputs": [
    {
     "name": "stdout",
     "output_type": "stream",
     "text": [
      "楼\n",
      "是\n",
      "表示\n"
     ]
    }
   ],
   "source": [
    "a1={\"楼\",\"是\",\"表示\"}\n",
    "for i in a1:\n",
    "    print(i)"
   ],
   "metadata": {
    "collapsed": false,
    "ExecuteTime": {
     "end_time": "2024-02-05T13:46:35.730752Z",
     "start_time": "2024-02-05T13:46:35.723168Z"
    }
   },
   "id": "a4b627a88493227d",
   "execution_count": 14
  },
  {
   "cell_type": "markdown",
   "source": [
    "##### 转换\n",
    "- str\\tuple\\dict可以转换为集合 如果有重复会自动去除\n",
    "```python\n",
    "v1 =\"wwwwad\"\n",
    "v2 = set(v1)\n",
    "print(v2)\n",
    "```"
   ],
   "metadata": {
    "collapsed": false
   },
   "id": "35edf5cdeb2266e0"
  },
  {
   "cell_type": "code",
   "outputs": [
    {
     "name": "stdout",
     "output_type": "stream",
     "text": [
      "{'w', 'a', 'd'}\n",
      "{1, 2, 3, 4}\n"
     ]
    }
   ],
   "source": [
    "v1 =\"wwwwad\"\n",
    "v2 = set(v1)\n",
    "print(v2)\n",
    "v3=(1,2,2,3,4,4)\n",
    "v4=set(v3)\n",
    "print(v4)"
   ],
   "metadata": {
    "collapsed": false,
    "ExecuteTime": {
     "end_time": "2024-02-05T13:49:26.697276Z",
     "start_time": "2024-02-05T13:49:26.691549Z"
    }
   },
   "id": "92438cd8bb1b17c",
   "execution_count": 16
  },
  {
   "cell_type": "markdown",
   "source": [
    "##### 其他\n",
    "###### 集合的存储原理\n",
    "如果我们要创建一个集合`v1={\"xxxx\"}`\n",
    "- 利用hash函数将\"xxxx\"转换成一个数值，例如:1613513\n",
    "- 取余数(实际掩码做&运算) :1613513 % 7 =xxx\n",
    "- 将“xxxx” 放在hash表的xxx索引位置\n",
    "\n",
    "###### 元素必须是可hash的\n",
    "因存储原理，集合的元素必须是可hash的 可以通过hash函数把值转换成一个数字\n",
    "目前可哈希的数据类型有: int、str、bool、tuple 而list 和 set是不可哈希的 \n",
    "\n",
    "在集合的元素只能是`int、str、bool、tuple`"
   ],
   "metadata": {
    "collapsed": false
   },
   "id": "1926ef84d700b45"
  },
  {
   "cell_type": "code",
   "outputs": [
    {
     "data": {
      "text/plain": "2414612775360454859"
     },
     "execution_count": 18,
     "metadata": {},
     "output_type": "execute_result"
    }
   ],
   "source": [
    "hash((1,2,23,3))"
   ],
   "metadata": {
    "collapsed": false,
    "ExecuteTime": {
     "end_time": "2024-02-05T14:00:47.960488Z",
     "start_time": "2024-02-05T14:00:47.946402Z"
    }
   },
   "id": "1dd63495bed1a8d2",
   "execution_count": 18
  },
  {
   "cell_type": "markdown",
   "source": [
    "###### 查找速度特别快\n",
    "因存储原理特殊，集合的查询效率非常高(数据大了才明显)\n",
    "\n",
    "- 低 "
   ],
   "metadata": {
    "collapsed": false
   },
   "id": "9bd31d8d56047ff0"
  },
  {
   "cell_type": "code",
   "outputs": [
    {
     "name": "stdout",
     "output_type": "stream",
     "text": [
      "zai\n"
     ]
    }
   ],
   "source": [
    "user_list=[\"111\",\"222\",\"4444\",\"xasxas\",\"xsaxas\"]\n",
    "if \"xasxas\" in user_list:\n",
    "    print(\"zai\")\n",
    "else:\n",
    "    print(\"不在\")"
   ],
   "metadata": {
    "collapsed": false,
    "ExecuteTime": {
     "end_time": "2024-02-05T14:06:25.292030Z",
     "start_time": "2024-02-05T14:06:25.287726Z"
    }
   },
   "id": "44fa49e68e84d47d",
   "execution_count": 23
  },
  {
   "cell_type": "markdown",
   "source": [
    "- 效果高"
   ],
   "metadata": {
    "collapsed": false
   },
   "id": "9ccbcddf8d5a4072"
  },
  {
   "cell_type": "code",
   "outputs": [
    {
     "name": "stdout",
     "output_type": "stream",
     "text": [
      "zai\n"
     ]
    }
   ],
   "source": [
    "user_set={\"111\",\"222\",\"4444\",\"xasxas\",\"xsaxas\"}\n",
    "if \"xasxas\" in user_set:\n",
    "        print(\"zai\")\n",
    "else:\n",
    "    print(\"不在\")\n"
   ],
   "metadata": {
    "collapsed": false,
    "ExecuteTime": {
     "end_time": "2024-02-05T14:06:30.497113Z",
     "start_time": "2024-02-05T14:06:30.491904Z"
    }
   },
   "id": "a75a50bcb95ef97a",
   "execution_count": 26
  },
  {
   "cell_type": "markdown",
   "source": [
    "###### 对比和嵌套\n",
    "| 类型 | 是否可变 | 是否有序 | 元素要求 | 是否可哈希 | 转换 |定义空|\n",
    "|----|------|------|------|-------|----|-------|----|\n",
    "| list  | 是    | 是   | 无    | 否      |str(其他)    | l=[]  |\n",
    "| tuple | 否   | 是   | 无   | 是  |tuple(其他)  | t=() |\n",
    "| set  | 是    | 否   | 必须可hash   | 否      |set(其他)   | s=set() |"
   ],
   "metadata": {
    "collapsed": false
   },
   "id": "c8fa4447c9910994"
  },
  {
   "cell_type": "code",
   "outputs": [
    {
     "name": "stdout",
     "output_type": "stream",
     "text": [
      "['alex', 11, (11, 233, {'xasxas', 'xx'}, 22), [11, 1, 2, 2, 12], (11, 22, ('xx', ['xsaxas'], 'xasxas'), 22)]\n"
     ]
    }
   ],
   "source": [
    "data_list=[\n",
    "    \"alex\",\n",
    "    11,\n",
    "    (11,233,{\"xx\",\"xasxas\"},22),\n",
    "    [11,1,2,2,12],\n",
    "    (11,22,(\"xx\",[\"xsaxas\"],\"xasxas\"),22)\n",
    "]\n",
    "print(data_list)"
   ],
   "metadata": {
    "collapsed": false,
    "ExecuteTime": {
     "end_time": "2024-02-05T14:20:58.146146Z",
     "start_time": "2024-02-05T14:20:58.138991Z"
    }
   },
   "id": "fd6009a6ea430205",
   "execution_count": 32
  },
  {
   "cell_type": "markdown",
   "source": [
    "##### 其他\n",
    "###### 存储原理\n",
    "hash 存储\n",
    "###### 速度快\n",
    "###### 嵌套\n",
    "- 字典的键必须可哈希（list/set/dict不可哈希）。\n",
    "- 字典的值可以是任意类型。\n",
    "- 字典的键和集合的元素在遇到  布尔值 和 1、0 时，需注意重复的情况。\n",
    "- 元组的元素不可以被替换。"
   ],
   "metadata": {
    "collapsed": false
   },
   "id": "79770f13b7d876fb"
  }
 ],
 "metadata": {
  "kernelspec": {
   "display_name": "Python 3",
   "language": "python",
   "name": "python3"
  },
  "language_info": {
   "codemirror_mode": {
    "name": "ipython",
    "version": 2
   },
   "file_extension": ".py",
   "mimetype": "text/x-python",
   "name": "python",
   "nbconvert_exporter": "python",
   "pygments_lexer": "ipython2",
   "version": "2.7.6"
  }
 },
 "nbformat": 4,
 "nbformat_minor": 5
}
