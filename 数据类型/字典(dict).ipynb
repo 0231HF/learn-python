{
 "cells": [
  {
   "cell_type": "markdown",
   "source": [
    "#### 字典(dict)\n",
    "> 字典是 **无序**、**键不重复** 且 元素只能是**键值对**的**可变的** 个 **容器**。\n",
    "- 容器\n",
    "- 元素是键值对\n",
    "- 键不重复，重复则会被覆盖\n",
    "- 无序 (3.6之后 字典是有序的 之前是无序的) \n",
    "\n",
    "##### 定义\n",
    "```python\n",
    "v ={}\n",
    "v1={\"xxx\":\"xasxsax\",\"xasxsa\":\"1212\"}\n",
    "```\n",
    "字典对键值得要求:\n",
    "- 键: 必须是可哈希的 int str bool tuple\n",
    "- 值：任何类型\n",
    "一般什么情况下用字典呢？\n",
    "- 当我们想表示一组固定信息的时候，用字典表示更直观"
   ],
   "metadata": {
    "collapsed": false
   },
   "id": "bc29ab3e67562260"
  },
  {
   "cell_type": "code",
   "execution_count": 1,
   "id": "initial_id",
   "metadata": {
    "collapsed": true,
    "ExecuteTime": {
     "end_time": "2024-02-05T14:39:44.477845Z",
     "start_time": "2024-02-05T14:39:44.471750Z"
    }
   },
   "outputs": [
    {
     "name": "stdout",
     "output_type": "stream",
     "text": [
      "{'xxxx': 22, True: 223, 123: 444, (11, 23, 4): ['xasxas', 'xsaxsa']}\n"
     ]
    }
   ],
   "source": [
    "data_list ={\n",
    "    \"xxxx\":22,\n",
    "    True:223,\n",
    "    123:444,\n",
    "    (11,23,4):[\"xasxas\",\"xsaxsa\"]\n",
    "    \n",
    "}\n",
    "print(data_list)"
   ]
  },
  {
   "cell_type": "markdown",
   "source": [
    "##### 独有功能\n",
    "###### 获取值\n",
    "> dict.get(\"key\") 如果key 不存在 则默认返回None"
   ],
   "metadata": {
    "collapsed": false
   },
   "id": "b12cdca82a838b22"
  },
  {
   "cell_type": "code",
   "outputs": [
    {
     "name": "stdout",
     "output_type": "stream",
     "text": [
      "22\n",
      "222\n"
     ]
    }
   ],
   "source": [
    "data_list ={\n",
    "    \"xxxx\":22,\n",
    "    True:223,\n",
    "    123:444,\n",
    "    (11,23,4):[\"xasxas\",\"xsaxsa\"]\n",
    "    \n",
    "}\n",
    "print(data_list[\"xxxx\"])\n",
    "print(data_list.get(True,\"222\"))\n"
   ],
   "metadata": {
    "collapsed": false,
    "ExecuteTime": {
     "end_time": "2024-02-05T14:47:17.857230Z",
     "start_time": "2024-02-05T14:47:17.851936Z"
    }
   },
   "id": "c0851f401754d07e",
   "execution_count": 5
  },
  {
   "cell_type": "markdown",
   "source": [
    "###### 所有键"
   ],
   "metadata": {
    "collapsed": false
   },
   "id": "37010f64db8f89ea"
  },
  {
   "cell_type": "code",
   "outputs": [
    {
     "name": "stdout",
     "output_type": "stream",
     "text": [
      "dict_keys(['xxxx', True, 123, (11, 23, 4)])\n",
      "['xxxx', True, 123, (11, 23, 4)]\n"
     ]
    }
   ],
   "source": [
    "data_list ={\n",
    "    \"xxxx\":22,\n",
    "    True:223,\n",
    "    123:444,\n",
    "    (11,23,4):[\"xasxas\",\"xsaxsa\"]\n",
    "    \n",
    "}\n",
    "data=data_list.keys()  #---> dict_keys(['xxxx', True, 123, (11, 23, 4)])\n",
    "print(data) # dict_keys(['xxxx', True, 123, (11, 23, 4)])\n",
    "# python3得到到一个高仿的列表 python2 直接就是列表\n",
    "result=list(data)\n",
    "print(result)"
   ],
   "metadata": {
    "collapsed": false,
    "ExecuteTime": {
     "end_time": "2024-02-05T14:52:14.463916Z",
     "start_time": "2024-02-05T14:52:14.444374Z"
    }
   },
   "id": "7284b0ced4e219a",
   "execution_count": 8
  },
  {
   "cell_type": "markdown",
   "source": [
    "###### 获取所有的值"
   ],
   "metadata": {
    "collapsed": false
   },
   "id": "c58a2b3676adac12"
  },
  {
   "cell_type": "code",
   "outputs": [
    {
     "name": "stdout",
     "output_type": "stream",
     "text": [
      "dict_values([22, 223, 444, ['xasxas', 'xsaxsa']])\n"
     ]
    }
   ],
   "source": [
    "data_list ={\n",
    "    \"xxxx\":22,\n",
    "    True:223,\n",
    "    123:444,\n",
    "    (11,23,4):[\"xasxas\",\"xsaxsa\"]\n",
    "    \n",
    "}\n",
    "data=data_list.values()\n",
    "print(data)"
   ],
   "metadata": {
    "collapsed": false,
    "ExecuteTime": {
     "end_time": "2024-02-05T14:50:37.868526Z",
     "start_time": "2024-02-05T14:50:37.856827Z"
    }
   },
   "id": "53cf51b8cee6c4d7",
   "execution_count": 6
  },
  {
   "cell_type": "markdown",
   "source": [
    "######  所有的键值"
   ],
   "metadata": {
    "collapsed": false
   },
   "id": "1341a8cbf15a29dd"
  },
  {
   "cell_type": "code",
   "outputs": [
    {
     "name": "stdout",
     "output_type": "stream",
     "text": [
      "dict_items([('xxxx', 22), (True, 223), (123, 444), ((11, 23, 4), ['xasxas', 'xsaxsa'])])\n",
      "xxxx:22\n",
      "True:223\n",
      "123:444\n",
      "(11, 23, 4):['xasxas', 'xsaxsa']\n",
      "xxxx 22\n",
      "True 223\n",
      "123 444\n",
      "(11, 23, 4) ['xasxas', 'xsaxsa']\n"
     ]
    }
   ],
   "source": [
    "data_list ={\n",
    "    \"xxxx\":22,\n",
    "    True:223,\n",
    "    123:444,\n",
    "    (11,23,4):[\"xasxas\",\"xsaxsa\"]\n",
    "    \n",
    "}\n",
    "data=data_list.items()\n",
    "print(data)\n",
    "for key,value in data:\n",
    "    print(str(key)+\":\"+str(value))\n",
    "    \n",
    "for item in data:\n",
    "    print(item[0],item[1])"
   ],
   "metadata": {
    "collapsed": false,
    "ExecuteTime": {
     "end_time": "2024-02-05T14:59:04.199422Z",
     "start_time": "2024-02-05T14:59:04.191898Z"
    }
   },
   "id": "6345b3a04ca68de2",
   "execution_count": 14
  },
  {
   "cell_type": "markdown",
   "source": [
    "###### 设置值\n",
    "> setdefault()"
   ],
   "metadata": {
    "collapsed": false
   },
   "id": "3799d81b5bc21c76"
  },
  {
   "cell_type": "code",
   "outputs": [
    {
     "name": "stdout",
     "output_type": "stream",
     "text": [
      "{'xxxx': 22, True: 223, 123: 444, (11, 23, 4): ['xasxas', 'xsaxsa'], 'age': 18}\n",
      "{'xxxx': 22, True: 223, 123: 444, (11, 23, 4): ['xasxas', 'xsaxsa'], 'age': 18}\n"
     ]
    }
   ],
   "source": [
    "data_list ={\n",
    "    \"xxxx\":22,\n",
    "    True:223,\n",
    "    123:444,\n",
    "    (11,23,4):[\"xasxas\",\"xsaxsa\"]\n",
    "    \n",
    "}\n",
    "data_list.setdefault(\"age\",18)\n",
    "print(data_list)\n",
    "data_list.setdefault(\"age\",19) #如果键已经存在 则不执行\n",
    "print(data_list)"
   ],
   "metadata": {
    "collapsed": false,
    "ExecuteTime": {
     "end_time": "2024-02-05T15:01:26.141568Z",
     "start_time": "2024-02-05T15:01:26.133974Z"
    }
   },
   "id": "e77f74748221553d",
   "execution_count": 18
  },
  {
   "cell_type": "markdown",
   "source": [
    "###### 更新字典键值对\n",
    "> 如果键存在 则更新值 如果键不存在则新增"
   ],
   "metadata": {
    "collapsed": false
   },
   "id": "4bedcfc61181dc03"
  },
  {
   "cell_type": "code",
   "outputs": [
    {
     "name": "stdout",
     "output_type": "stream",
     "text": [
      "{'age': 21, 'status': True, 'name': 'sass'}\n"
     ]
    }
   ],
   "source": [
    "info={\"age\":11,\"status\":True}\n",
    "info.update({\"age\":21,\"name\":\"sass\"})\n",
    "print(info)"
   ],
   "metadata": {
    "collapsed": false,
    "ExecuteTime": {
     "end_time": "2024-02-05T15:03:54.503766Z",
     "start_time": "2024-02-05T15:03:54.493016Z"
    }
   },
   "id": "9f0e782f065ac731",
   "execution_count": 19
  },
  {
   "cell_type": "markdown",
   "source": [
    "###### 移除键值对\n",
    "> 和列表的pop相似"
   ],
   "metadata": {
    "collapsed": false
   },
   "id": "6f04b7c9a37a2882"
  },
  {
   "cell_type": "code",
   "outputs": [
    {
     "name": "stdout",
     "output_type": "stream",
     "text": [
      "{'age': 21, 'name': 'sass'}\n",
      "True\n"
     ]
    }
   ],
   "source": [
    "info={\"age\":11,\"status\":True}\n",
    "info.update({\"age\":21,\"name\":\"sass\"})\n",
    "data=info.pop(\"status\")\n",
    "print(info)\n",
    "print(data)"
   ],
   "metadata": {
    "collapsed": false,
    "ExecuteTime": {
     "end_time": "2024-02-05T15:05:16.458976Z",
     "start_time": "2024-02-05T15:05:16.452462Z"
    }
   },
   "id": "8732bb04276c3446",
   "execution_count": 21
  },
  {
   "cell_type": "markdown",
   "source": [
    "###### 按顺序移除\n",
    "dict().popitem() 后进先出\n",
    "> python 3.6 随机移除 python3.6之前 随机删除"
   ],
   "metadata": {
    "collapsed": false
   },
   "id": "104746cef6a63e84"
  },
  {
   "cell_type": "code",
   "outputs": [
    {
     "name": "stdout",
     "output_type": "stream",
     "text": [
      "('status', True)\n",
      "{'age': 11}\n"
     ]
    }
   ],
   "source": [
    "info={\"age\":11,\"status\":True}\n",
    "data = info.popitem()\n",
    "print(data)\n",
    "print(info)"
   ],
   "metadata": {
    "collapsed": false,
    "ExecuteTime": {
     "end_time": "2024-02-05T15:06:52.699134Z",
     "start_time": "2024-02-05T15:06:52.690061Z"
    }
   },
   "id": "499955ee5cd8bcfe",
   "execution_count": 22
  },
  {
   "cell_type": "markdown",
   "source": [
    "##### 公共功能\n",
    "###### 求并集"
   ],
   "metadata": {
    "collapsed": false
   },
   "id": "855825ff58c49747"
  },
  {
   "cell_type": "code",
   "outputs": [
    {
     "name": "stdout",
     "output_type": "stream",
     "text": [
      "{'age': 11, 'status': True, 'name': 1213, 'saxas': 11212}\n"
     ]
    }
   ],
   "source": [
    "info1={\"age\":11,\"status\":True,\"saxas\":11212}\n",
    "info2={\"age\":11,\"status\":True,\"name\":1213}\n",
    "v3 = info2 |info1\n",
    "print(v3)"
   ],
   "metadata": {
    "collapsed": false,
    "ExecuteTime": {
     "end_time": "2024-02-05T15:13:42.821294Z",
     "start_time": "2024-02-05T15:13:42.804277Z"
    }
   },
   "id": "4b10d9ea0da0ac7d",
   "execution_count": 23
  },
  {
   "cell_type": "markdown",
   "source": [
    "###### 长度\n",
    "###### 是否包含\n",
    "###### 索引(键)\n",
    "字典不同于元组和列表 字典的索引就是它的键 而列表和元组则是`0、1、2、.....`"
   ],
   "metadata": {
    "collapsed": false
   },
   "id": "aaa5657a5ef4028d"
  },
  {
   "cell_type": "code",
   "outputs": [
    {
     "name": "stdout",
     "output_type": "stream",
     "text": [
      "3\n",
      "False\n",
      "True\n",
      "True\n"
     ]
    },
    {
     "ename": "KeyError",
     "evalue": "'statsadus'",
     "output_type": "error",
     "traceback": [
      "\u001B[0;31m---------------------------------------------------------------------------\u001B[0m",
      "\u001B[0;31mKeyError\u001B[0m                                  Traceback (most recent call last)",
      "Cell \u001B[0;32mIn[30], line 8\u001B[0m\n\u001B[1;32m      5\u001B[0m \u001B[38;5;28mprint\u001B[39m(\u001B[38;5;241m11212\u001B[39m \u001B[38;5;129;01min\u001B[39;00m info1\u001B[38;5;241m.\u001B[39mvalues())\n\u001B[1;32m      7\u001B[0m \u001B[38;5;28mprint\u001B[39m(info2[\u001B[38;5;124m\"\u001B[39m\u001B[38;5;124mstatus\u001B[39m\u001B[38;5;124m\"\u001B[39m])\n\u001B[0;32m----> 8\u001B[0m \u001B[38;5;28mprint\u001B[39m(info2[\u001B[38;5;124m\"\u001B[39m\u001B[38;5;124mstatsadus\u001B[39m\u001B[38;5;124m\"\u001B[39m])\n",
      "\u001B[0;31mKeyError\u001B[0m: 'statsadus'"
     ]
    }
   ],
   "source": [
    "info1={\"age\":11,\"status\":True,\"saxas\":11212}\n",
    "info2={\"age\":11,\"status\":True,\"name\":1213}\n",
    "print(len(info1))\n",
    "print(11212 in info2) # 等价于 print(11212 in info2.keys())\n",
    "print(11212 in info1.values())\n",
    "\n",
    "print(info2[\"status\"])\n",
    "print(info2[\"statsadus\"])"
   ],
   "metadata": {
    "collapsed": false,
    "ExecuteTime": {
     "end_time": "2024-02-05T15:18:23.824500Z",
     "start_time": "2024-02-05T15:18:23.775949Z"
    }
   },
   "id": "665c320e961e20e9",
   "execution_count": 30
  },
  {
   "cell_type": "markdown",
   "source": [
    "###### 根据键 修改值 和添加值 和删除键值对\n",
    "上述示例通过键可以找到字典中的值，通过键也可以对字典进行添加和更新操作"
   ],
   "metadata": {
    "collapsed": false
   },
   "id": "23b6563498d7aad3"
  },
  {
   "cell_type": "code",
   "outputs": [
    {
     "name": "stdout",
     "output_type": "stream",
     "text": [
      "{'age': 12, 'status': True, 'name': '武沛齐', 'gender': '男'}\n",
      "{'age': 19, 'status': True, 'name': '武沛齐', 'gender': '男'}\n",
      "{'age': 19, 'status': True, 'name': '武沛齐'}\n",
      "键不存在\n"
     ]
    }
   ],
   "source": [
    "info = {\"age\":12, \"status\":True,\"name\":\"武沛齐\"}\n",
    "info[\"gender\"] = \"男\"\n",
    "print(info)\n",
    "info[\"age\"]=19\n",
    "print(info)\n",
    "\n",
    "# 根据键删除\n",
    "del info[\"gender\"] # 删除info字典中为“gender”的的那个键值对（键不存在则报错）\n",
    "print(info)\n",
    "\n",
    "info = {\"age\": 12, \"status\": True, \"name\": \"武沛齐\"}\n",
    "if \"agea\" in info:\n",
    "\n",
    "    # del info[\"age\"]\n",
    "    data = info.pop(\"age\")\n",
    "    print(info)\n",
    "    print(data)\n",
    "else:\n",
    "    print(\"键不存在\")"
   ],
   "metadata": {
    "collapsed": false,
    "ExecuteTime": {
     "end_time": "2024-02-05T15:22:57.238684Z",
     "start_time": "2024-02-05T15:22:57.223229Z"
    }
   },
   "id": "f206b033f860a0d4",
   "execution_count": 35
  },
  {
   "cell_type": "markdown",
   "source": [
    "###### for 循环\n",
    "由于字典也属于是容器，内部可以包含多个键值对，可以通过循环对其中的：键、值、键值进行循环"
   ],
   "metadata": {
    "collapsed": false
   },
   "id": "9f996fbc13be59ef"
  },
  {
   "cell_type": "code",
   "outputs": [
    {
     "name": "stdout",
     "output_type": "stream",
     "text": [
      "age\n",
      "status\n",
      "name\n"
     ]
    }
   ],
   "source": [
    "info = {\"age\":12, \"status\":True,\"name\":\"武沛齐\"}\n",
    "for item in info:\n",
    "\tprint(item)  # 所有键"
   ],
   "metadata": {
    "collapsed": false,
    "ExecuteTime": {
     "end_time": "2024-02-05T15:24:24.388822Z",
     "start_time": "2024-02-05T15:24:24.339888Z"
    }
   },
   "id": "89254efd5bc2d935",
   "execution_count": 36
  },
  {
   "cell_type": "code",
   "outputs": [
    {
     "name": "stdout",
     "output_type": "stream",
     "text": [
      "age\n",
      "status\n",
      "name\n"
     ]
    }
   ],
   "source": [
    "info = {\"age\":12, \"status\":True,\"name\":\"武沛齐\"}\n",
    "for item in info.keys():\n",
    "\tprint(item)"
   ],
   "metadata": {
    "collapsed": false,
    "ExecuteTime": {
     "end_time": "2024-02-05T15:24:57.177895Z",
     "start_time": "2024-02-05T15:24:57.171188Z"
    }
   },
   "id": "9c985a4f47ce8c94",
   "execution_count": 38
  },
  {
   "cell_type": "code",
   "outputs": [
    {
     "name": "stdout",
     "output_type": "stream",
     "text": [
      "age 12\n",
      "status True\n",
      "name 武沛齐\n"
     ]
    }
   ],
   "source": [
    "info = {\"age\":12, \"status\":True,\"name\":\"武沛齐\"}\n",
    "for key,value in info.items():\n",
    "\tprint(key,value)"
   ],
   "metadata": {
    "collapsed": false,
    "ExecuteTime": {
     "end_time": "2024-02-05T15:25:16.973734Z",
     "start_time": "2024-02-05T15:25:16.951591Z"
    }
   },
   "id": "52f414ecc05a8aad",
   "execution_count": 39
  },
  {
   "cell_type": "markdown",
   "source": [
    "##### 转换\n",
    "```python\n",
    "\n",
    "```"
   ],
   "metadata": {
    "collapsed": false
   },
   "id": "e47ff6e2db063d5d"
  },
  {
   "cell_type": "code",
   "outputs": [
    {
     "name": "stdout",
     "output_type": "stream",
     "text": [
      "{'k1': 'v1', 'k2': 'v2'}\n"
     ]
    }
   ],
   "source": [
    "v = dict( [ (\"k1\", \"v1\"), [\"k2\", \"v2\"] ] )\n",
    "\n",
    "print(v) # { \"k1\":\"v1\", \"k2\":\"v2\" }"
   ],
   "metadata": {
    "collapsed": false,
    "ExecuteTime": {
     "end_time": "2024-02-05T15:26:35.102744Z",
     "start_time": "2024-02-05T15:26:35.096735Z"
    }
   },
   "id": "48270174234dcb7f",
   "execution_count": 40
  },
  {
   "cell_type": "code",
   "outputs": [
    {
     "name": "stdout",
     "output_type": "stream",
     "text": [
      "['age', 'status', 'name']\n",
      "[12, True, '武沛齐']\n"
     ]
    }
   ],
   "source": [
    "info = { \"age\":12, \"status\":True, \"name\":\"武沛齐\" }\n",
    "v1 = list(info)\n",
    "print(v1\n",
    "      )\n",
    "v3 = list(info.values())\n",
    "print(v3)"
   ],
   "metadata": {
    "collapsed": false,
    "ExecuteTime": {
     "end_time": "2024-02-05T15:27:20.663177Z",
     "start_time": "2024-02-05T15:27:20.657829Z"
    }
   },
   "id": "841835c2e55c7430",
   "execution_count": 43
  },
  {
   "cell_type": "code",
   "outputs": [],
   "source": [],
   "metadata": {
    "collapsed": false
   },
   "id": "3f0f6359e385613f"
  }
 ],
 "metadata": {
  "kernelspec": {
   "display_name": "Python 3",
   "language": "python",
   "name": "python3"
  },
  "language_info": {
   "codemirror_mode": {
    "name": "ipython",
    "version": 2
   },
   "file_extension": ".py",
   "mimetype": "text/x-python",
   "name": "python",
   "nbconvert_exporter": "python",
   "pygments_lexer": "ipython2",
   "version": "2.7.6"
  }
 },
 "nbformat": 4,
 "nbformat_minor": 5
}
