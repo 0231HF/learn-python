{
 "cells": [
  {
   "cell_type": "markdown",
   "source": [
    "#### 运算符\n",
    "- 算数运算符\n",
    "加减乘除\n",
    "- 比较运算符\n",
    "大于 小于 不等于 等\n",
    "- 赋值运算符\n",
    "变量赋值\n",
    "- 成员运算\n",
    "是否包含\n",
    "- 逻辑运算\n",
    "与或非\n"
   ],
   "metadata": {
    "collapsed": false
   },
   "id": "144920a9d5a000b3"
  },
  {
   "cell_type": "markdown",
   "source": [
    "##### 算数运算符\n",
    "+ - *  /  加减乘除ß \n",
    "* * -->幂\n",
    "//  --> 取整数ß"
   ],
   "metadata": {
    "collapsed": false
   },
   "id": "5b0d783072a2dbb5"
  },
  {
   "cell_type": "code",
   "execution_count": 3,
   "id": "initial_id",
   "metadata": {
    "collapsed": true,
    "ExecuteTime": {
     "end_time": "2024-02-02T06:51:08.379446Z",
     "start_time": "2024-02-02T06:51:08.375142Z"
    }
   },
   "outputs": [
    {
     "name": "stdout",
     "output_type": "stream",
     "text": [
      "3\n",
      "16\n",
      "4\n"
     ]
    }
   ],
   "source": [
    "c=1+2\n",
    "print(c)\n",
    "print(4 **2)\n",
    "print(9//2) # //取整数 返回商的整数部分"
   ]
  },
  {
   "cell_type": "markdown",
   "source": [
    "##### 比较运算符\n",
    "> \n",
    "< \n",
    "==\n",
    "!= 是否不等于"
   ],
   "metadata": {
    "collapsed": false
   },
   "id": "61aa9cc8af11c1ce"
  },
  {
   "cell_type": "code",
   "outputs": [
    {
     "name": "stdout",
     "output_type": "stream",
     "text": [
      "False\n",
      "True\n"
     ]
    }
   ],
   "source": [
    "print(1 >2)\n",
    "print(1 != 2)"
   ],
   "metadata": {
    "collapsed": false,
    "ExecuteTime": {
     "end_time": "2024-02-02T06:52:42.711392Z",
     "start_time": "2024-02-02T06:52:42.705125Z"
    }
   },
   "id": "464ca12813ceb76d",
   "execution_count": 4
  },
  {
   "cell_type": "markdown",
   "source": [
    "##### 赋值运算符\n",
    "=   赋值\n",
    "+=  加法赋值运算符\n",
    "*=  c*=a ==> c = c*a\n",
    "-="
   ],
   "metadata": {
    "collapsed": false
   },
   "id": "7039e5ba6411eaee"
  },
  {
   "cell_type": "code",
   "outputs": [
    {
     "name": "stdout",
     "output_type": "stream",
     "text": [
      "1\n",
      "2\n",
      "3\n",
      "4\n",
      "5\n",
      "6\n",
      "7\n",
      "8\n",
      "9\n"
     ]
    }
   ],
   "source": [
    "num=1\n",
    "while num <10:\n",
    "    print( num)\n",
    "    num +=1\n"
   ],
   "metadata": {
    "collapsed": false,
    "ExecuteTime": {
     "end_time": "2024-02-02T06:56:10.425634Z",
     "start_time": "2024-02-02T06:56:10.421873Z"
    }
   },
   "id": "558fcc38a1788f21",
   "execution_count": 5
  },
  {
   "cell_type": "markdown",
   "source": [
    "##### 成员运算\n",
    "in ---> 如果在指定的序列中找到值返回 True 如果没有返回 False\n",
    "作用做信息匹配 敏感词判断\n",
    "not in"
   ],
   "metadata": {
    "collapsed": false
   },
   "id": "10560a99fe584b3"
  },
  {
   "cell_type": "code",
   "outputs": [
    {
     "name": "stdout",
     "output_type": "stream",
     "text": [
      "True\n"
     ]
    }
   ],
   "source": [
    "print(\"a\" in \"ca\")"
   ],
   "metadata": {
    "collapsed": false,
    "ExecuteTime": {
     "end_time": "2024-02-02T06:57:27.962424Z",
     "start_time": "2024-02-02T06:57:27.958656Z"
    }
   },
   "id": "37479c344e095cbe",
   "execution_count": 6
  },
  {
   "cell_type": "markdown",
   "source": [
    "##### 逻辑运算\n",
    "and 布尔 与 \n",
    "or\n",
    "not"
   ],
   "metadata": {
    "collapsed": false
   },
   "id": "f66be129ebfbfc5f"
  },
  {
   "cell_type": "code",
   "outputs": [],
   "source": [
    "data = 1 > 2\n",
    "if not data:\n",
    "  pass"
   ],
   "metadata": {
    "collapsed": false,
    "ExecuteTime": {
     "end_time": "2024-02-02T06:59:56.523565Z",
     "start_time": "2024-02-02T06:59:56.520747Z"
    }
   },
   "id": "27637e61d36ff286",
   "execution_count": 7
  },
  {
   "cell_type": "markdown",
   "source": [
    "#### 运算符优先级\n",
    "优先级\n",
    "- 算数运算符优先级大于比较运算符\n",
    "- 比较运算符优先级大于逻辑运算符\n",
    "- 逻辑运算符内部三个优先级 not > and > or"
   ],
   "metadata": {
    "collapsed": false
   },
   "id": "f3eb32763e7f7f57"
  },
  {
   "cell_type": "code",
   "outputs": [
    {
     "name": "stdout",
     "output_type": "stream",
     "text": [
      "真\n"
     ]
    }
   ],
   "source": [
    "if 2 + 10 > 11:\n",
    "\tprint(\"真\")\n",
    "else:\n",
    "\tprint(\"假\")"
   ],
   "metadata": {
    "collapsed": false,
    "ExecuteTime": {
     "end_time": "2024-02-02T07:01:26.267955Z",
     "start_time": "2024-02-02T07:01:26.260984Z"
    }
   },
   "id": "a20012685db2e18d",
   "execution_count": 8
  },
  {
   "cell_type": "code",
   "outputs": [
    {
     "name": "stdout",
     "output_type": "stream",
     "text": [
      "不成立\n"
     ]
    }
   ],
   "source": [
    "if 1>2 and 2<10:\n",
    "\tprint(\"成立\")\n",
    "else:\n",
    "\tprint(\"不成立\")"
   ],
   "metadata": {
    "collapsed": false,
    "ExecuteTime": {
     "end_time": "2024-02-02T07:01:53.071621Z",
     "start_time": "2024-02-02T07:01:53.065793Z"
    }
   },
   "id": "fb4d9bdcb3117c3a",
   "execution_count": 9
  },
  {
   "cell_type": "code",
   "outputs": [
    {
     "name": "stdout",
     "output_type": "stream",
     "text": [
      "假\n"
     ]
    }
   ],
   "source": [
    "if not 1 and 1>2 or 3 == 8: # False and False or False\n",
    "\tprint(\"真\")\n",
    "else:\n",
    "\tprint(\"假\")"
   ],
   "metadata": {
    "collapsed": false,
    "ExecuteTime": {
     "end_time": "2024-02-02T07:02:56.100604Z",
     "start_time": "2024-02-02T07:02:56.080602Z"
    }
   },
   "id": "6842a5e7890c8526",
   "execution_count": 10
  },
  {
   "cell_type": "markdown",
   "source": [
    "`加减乘除 > 比较 > not and or ` \n",
    "绝招：加括号。\n",
    "----\n",
    "\n",
    "or，看第一个值，如果第一个值为真，结果就应该是第一个值，否则就结果就是第二个值。\n",
    "and，看第一个值，如果第一个值真，结果就应该是第二个值，否则结果就是第一个值。"
   ],
   "metadata": {
    "collapsed": false
   },
   "id": "6a6bc791ffe98ed6"
  },
  {
   "cell_type": "code",
   "outputs": [
    {
     "name": "stdout",
     "output_type": "stream",
     "text": [
      "1 -1 -1 100 10 \n"
     ]
    }
   ],
   "source": [
    "v1 = 1 or 2\n",
    "v2 = -1 or 3\n",
    "v3 = 0 or -1\n",
    "v4 = 0 or 100\n",
    "v5 = \"\" or 10\n",
    "v7 = 0 or \"\"\n",
    "\n",
    "print(v1,v2,v3,v4,v5,v7)"
   ],
   "metadata": {
    "collapsed": false,
    "ExecuteTime": {
     "end_time": "2024-02-02T07:12:06.209479Z",
     "start_time": "2024-02-02T07:12:06.199882Z"
    }
   },
   "id": "d014abe11f0f131f",
   "execution_count": 12
  },
  {
   "cell_type": "code",
   "outputs": [
    {
     "name": "stdout",
     "output_type": "stream",
     "text": [
      "8 0 88   0\n"
     ]
    }
   ],
   "source": [
    "v1 = 4 and 8\n",
    "v2 = 0 and 6\n",
    "v3 = -1 and 88\n",
    "v4 = \"\" and 7\n",
    "v6 = \"\" and 0\n",
    "v7 = 0 and \"中国\"\n",
    "\n",
    "print(v1,v2,v3,v4,v5,v7)"
   ],
   "metadata": {
    "collapsed": false,
    "ExecuteTime": {
     "end_time": "2024-02-02T07:12:19.289965Z",
     "start_time": "2024-02-02T07:12:19.285572Z"
    }
   },
   "id": "f2a5970ceb306310",
   "execution_count": 13
  },
  {
   "cell_type": "code",
   "outputs": [
    {
     "name": "stdout",
     "output_type": "stream",
     "text": [
      "3\n"
     ]
    }
   ],
   "source": [
    "v1 = 0 or 4 and 3 or 7 or 9 and 6\n",
    "# 0 or 3 or 7 or 6  \n",
    "print(v1)"
   ],
   "metadata": {
    "collapsed": false,
    "ExecuteTime": {
     "end_time": "2024-02-02T07:16:25.292027Z",
     "start_time": "2024-02-02T07:16:25.279605Z"
    }
   },
   "id": "9a00883906da9939",
   "execution_count": 14
  },
  {
   "cell_type": "code",
   "outputs": [
    {
     "data": {
      "text/plain": "8"
     },
     "execution_count": 15,
     "metadata": {},
     "output_type": "execute_result"
    }
   ],
   "source": [
    "8 or 3 and 4 or 2 and 0 or 9 and 7"
   ],
   "metadata": {
    "collapsed": false,
    "ExecuteTime": {
     "end_time": "2024-02-02T07:16:47.969324Z",
     "start_time": "2024-02-02T07:16:47.941371Z"
    }
   },
   "id": "952a782817833907",
   "execution_count": 15
  },
  {
   "cell_type": "code",
   "outputs": [],
   "source": [],
   "metadata": {
    "collapsed": false
   },
   "id": "8f7c8469c5b34c06"
  }
 ],
 "metadata": {
  "kernelspec": {
   "display_name": "Python 3",
   "language": "python",
   "name": "python3"
  },
  "language_info": {
   "codemirror_mode": {
    "name": "ipython",
    "version": 2
   },
   "file_extension": ".py",
   "mimetype": "text/x-python",
   "name": "python",
   "nbconvert_exporter": "python",
   "pygments_lexer": "ipython2",
   "version": "2.7.6"
  }
 },
 "nbformat": 4,
 "nbformat_minor": 5
}
