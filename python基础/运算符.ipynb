{
 "cells": [
  {
   "cell_type": "markdown",
   "source": [
    "#### 运算符\n",
    "- 算法运算符\n",
    "加减乘除\n",
    "- 比较运算符\n",
    "大于 小于 不等于 等\n",
    "- 赋值运算符\n",
    "变量赋值\n",
    "- 成员运算\n",
    "是否包含\n",
    "- 逻辑运算\n",
    "与或非"
   ],
   "metadata": {
    "collapsed": false
   },
   "id": "144920a9d5a000b3"
  },
  {
   "cell_type": "code",
   "execution_count": 1,
   "id": "initial_id",
   "metadata": {
    "collapsed": true,
    "ExecuteTime": {
     "end_time": "2024-02-01T15:32:40.453036Z",
     "start_time": "2024-02-01T15:32:40.447005Z"
    }
   },
   "outputs": [
    {
     "name": "stdout",
     "output_type": "stream",
     "text": [
      "3\n"
     ]
    }
   ],
   "source": [
    "c=1+2\n",
    "print(c)"
   ]
  },
  {
   "cell_type": "code",
   "outputs": [],
   "source": [],
   "metadata": {
    "collapsed": false
   },
   "id": "464ca12813ceb76d"
  }
 ],
 "metadata": {
  "kernelspec": {
   "display_name": "Python 3",
   "language": "python",
   "name": "python3"
  },
  "language_info": {
   "codemirror_mode": {
    "name": "ipython",
    "version": 2
   },
   "file_extension": ".py",
   "mimetype": "text/x-python",
   "name": "python",
   "nbconvert_exporter": "python",
   "pygments_lexer": "ipython2",
   "version": "2.7.6"
  }
 },
 "nbformat": 4,
 "nbformat_minor": 5
}
