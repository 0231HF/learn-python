{
 "cells": [
  {
   "cell_type": "markdown",
   "source": [
    "#### 字符串格式化\n",
    "使用更便捷的方式实现字符串的拼接\n",
    "\n",
    "##### 通过 `%` 格式化\n",
    "##### 基本格式化操作"
   ],
   "metadata": {
    "collapsed": false
   },
   "id": "14b0e79bc7b2d482"
  },
  {
   "cell_type": "code",
   "outputs": [],
   "source": [
    "name = \"feifeifei\"\n",
    "text = \"我叫%s,今年18岁\" %name\n",
    "print(text)\n"
   ],
   "metadata": {
    "collapsed": false
   },
   "id": "c318f4f9228bed00",
   "execution_count": null
  },
  {
   "cell_type": "code",
   "execution_count": null,
   "id": "initial_id",
   "metadata": {
    "collapsed": true
   },
   "outputs": [],
   "source": [
    "name = \"feifeifei\"\n",
    "age = 11\n",
    "text = \"我叫%s,今年%d岁\" % (name,age)\n",
    "print(text)"
   ]
  },
  {
   "cell_type": "markdown",
   "source": [
    "还有另外一种形式 用法的比较少"
   ],
   "metadata": {
    "collapsed": false
   },
   "id": "4f83486867ebaf3e"
  },
  {
   "cell_type": "code",
   "outputs": [],
   "source": [
    "message = \"%(name)s你啥时候来呀，%(name1)s要来玩\" %{\"name\":\"xx\",\"name1\":\"xxxx\"}\n",
    "print(message)"
   ],
   "metadata": {
    "collapsed": false
   },
   "id": "a9578c51aa4c7077",
   "execution_count": null
  },
  {
   "cell_type": "markdown",
   "source": [
    "##### 表示百分比\n",
    "一旦字符串中出现百分比显示，请一定要加\"%%\"以实现输出%"
   ],
   "metadata": {
    "collapsed": false
   },
   "id": "6eeca811a9699904"
  },
  {
   "cell_type": "code",
   "outputs": [],
   "source": [
    "test =\"%s进度以及达到10%%了\" %\"学习\"\n",
    "print(text)"
   ],
   "metadata": {
    "collapsed": false
   },
   "id": "bbab987ac385a853",
   "execution_count": null
  },
  {
   "cell_type": "markdown",
   "source": [
    "##### 通过 `format` 格式化(推荐使用)"
   ],
   "metadata": {
    "collapsed": false
   },
   "id": "126646215a3326e"
  },
  {
   "cell_type": "code",
   "outputs": [],
   "source": [
    "print(\"我叫{0},今年18岁\".format(\"feifeiei\"))\n",
    "print(\"我叫{0},今年{1}岁\".format(\"feifeiei\",11))\n",
    "print(\"我叫{0},今年{1}岁，我是{0}\".format(\"feifeiei\",11))\n",
    "\n",
    "print(\"我叫{},今年18岁\".format(\"feifeiei\"))\n",
    "print(\"我叫{},今年{}岁\".format(\"feifeiei\",11))"
   ],
   "metadata": {
    "collapsed": false
   },
   "id": "b6592bc7f284c79a",
   "execution_count": null
  },
  {
   "cell_type": "code",
   "outputs": [],
   "source": [
    "test =\"我叫{n1},你叫{n2}\".format(n1=\"xxx\",n2=\"xsaxsa\")\n",
    "print(test)"
   ],
   "metadata": {
    "collapsed": false
   },
   "id": "4ff6fbdc6f41248a",
   "execution_count": null
  },
  {
   "cell_type": "code",
   "outputs": [],
   "source": [
    "message =\"{0},{1}\"\n",
    "print(message.format(\"xxx\",\"sadas\"))"
   ],
   "metadata": {
    "collapsed": false
   },
   "id": "ab81cc16c77ccd81",
   "execution_count": null
  },
  {
   "cell_type": "markdown",
   "source": [
    "##### 通过 `f` 格式化\n",
    "python 3.6 及以后才支持"
   ],
   "metadata": {
    "collapsed": false
   },
   "id": "21727a0dca04f1ae"
  },
  {
   "cell_type": "code",
   "outputs": [],
   "source": [
    "message = f\"我是{'feifeifei'},我今年{33}岁了\"\n",
    "print(message)"
   ],
   "metadata": {
    "collapsed": false
   },
   "id": "efd4676c174ea100",
   "execution_count": null
  },
  {
   "cell_type": "markdown",
   "source": [
    "直接把变量加入到字符串里面去了"
   ],
   "metadata": {
    "collapsed": false
   },
   "id": "cd642ad5a2d5067c"
  },
  {
   "cell_type": "code",
   "outputs": [],
   "source": [
    "name =\"feifeifei\"\n",
    "message = f\"我是{name},我今年{33}岁了\"\n",
    "print(message)\n"
   ],
   "metadata": {
    "collapsed": false
   },
   "id": "159c7ba5685b20c",
   "execution_count": null
  },
  {
   "cell_type": "code",
   "outputs": [],
   "source": [
    "test=f\"我今年{22+23}岁\"\n",
    "print(test)\n",
    "# python3.8 新特性\n",
    "test=f\"我今年{22+23=}岁\"\n",
    "print(test)"
   ],
   "metadata": {
    "collapsed": false
   },
   "id": "e620db47e25045b",
   "execution_count": null
  },
  {
   "cell_type": "markdown",
   "source": [
    "进制转换"
   ],
   "metadata": {
    "collapsed": false
   },
   "id": "fd8b959f5a93e9aa"
  },
  {
   "cell_type": "code",
   "outputs": [
    {
     "name": "stdout",
     "output_type": "stream",
     "text": [
      "我今年22岁\n",
      "我今年0o26岁\n",
      "我今年0b10110岁\n",
      "我今年0x16岁\n"
     ]
    }
   ],
   "source": [
    "print(f\"我今年{22:#o}岁\")\n",
    "print(f\"我今年{22:#b}岁\")\n",
    "print(f\"我今年{22:#x}岁\")\n"
   ],
   "metadata": {
    "collapsed": false,
    "ExecuteTime": {
     "end_time": "2024-02-01T15:21:27.891557Z",
     "start_time": "2024-02-01T15:21:27.888290Z"
    }
   },
   "id": "3bfe3d740d8eea8b",
   "execution_count": 30
  },
  {
   "cell_type": "markdown",
   "source": [
    ">>>"
   ],
   "metadata": {
    "collapsed": false
   },
   "id": "7aca9e1fa8fc2cac"
  },
  {
   "cell_type": "code",
   "outputs": [
    {
     "name": "stdout",
     "output_type": "stream",
     "text": [
      "我是fefefe,woww\n",
      "我是FEFEFE,woww\n"
     ]
    }
   ],
   "source": [
    "test =f\"我是{'fefef'},我喜欢学休闲鞋\"\n",
    "name = \"fefefe\"\n",
    "test = f\"我是{name},woww\"\n",
    "print(test)\n",
    "test = f\"我是{name.upper()},woww\"\n",
    "print(test)"
   ],
   "metadata": {
    "collapsed": false,
    "ExecuteTime": {
     "end_time": "2024-02-01T15:23:58.139295Z",
     "start_time": "2024-02-01T15:23:58.132522Z"
    }
   },
   "id": "d663cb6612ec523c",
   "execution_count": 33
  }
 ],
 "metadata": {
  "kernelspec": {
   "display_name": "Python 3",
   "language": "python",
   "name": "python3"
  },
  "language_info": {
   "codemirror_mode": {
    "name": "ipython",
    "version": 2
   },
   "file_extension": ".py",
   "mimetype": "text/x-python",
   "name": "python",
   "nbconvert_exporter": "python",
   "pygments_lexer": "ipython2",
   "version": "2.7.6"
  }
 },
 "nbformat": 4,
 "nbformat_minor": 5
}
