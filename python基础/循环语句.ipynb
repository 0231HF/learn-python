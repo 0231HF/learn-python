{
 "cells": [
  {
   "cell_type": "markdown",
   "source": [
    "#### 循环语句\n",
    "\n",
    "python中有2个循环\n",
    "- while循环\n",
    "- for循环\n",
    "##### wile循环\n",
    "格式:\n",
    "```python\n",
    "while 条件:\n",
    "   ...\n",
    "   ...\n",
    "```"
   ],
   "metadata": {
    "collapsed": false
   },
   "id": "b22777fbdf5401be"
  },
  {
   "cell_type": "markdown",
   "source": [
    "##### 循环语句基本使用"
   ],
   "metadata": {
    "collapsed": false
   },
   "id": "cd71e83fe0f9e5da"
  },
  {
   "cell_type": "code",
   "execution_count": null,
   "id": "initial_id",
   "metadata": {
    "collapsed": true
   },
   "outputs": [],
   "source": [
    "print(\"开始\")\n",
    "while True:\n",
    "    print(\"feifeifei\")\n",
    "print(\"结束\")"
   ]
  },
  {
   "cell_type": "code",
   "outputs": [],
   "source": [
    "print(\"开始\")\n",
    "while 1 > 2 :\n",
    "    print(\"成立\")\n",
    "print(\"结束\")"
   ],
   "metadata": {
    "collapsed": false
   },
   "id": "c2f702de13c26856",
   "execution_count": null
  },
  {
   "cell_type": "code",
   "outputs": [],
   "source": [
    "data= True\n",
    "print(\"开始\")\n",
    "while data:\n",
    "    pass\n"
   ],
   "metadata": {
    "collapsed": false
   },
   "id": "f835beee4908d031"
  },
  {
   "cell_type": "code",
   "outputs": [],
   "source": [
    "print(\"开始\")\n",
    "num  = 1 \n",
    "while num <= 3:\n",
    "    print(\"111\")\n",
    "    num = num +1 \n",
    "print(\"end\")"
   ],
   "metadata": {
    "collapsed": false
   },
   "id": "6e73d76faacb6879",
   "execution_count": null
  },
  {
   "cell_type": "markdown",
   "source": [
    "##### break\n",
    "中断的意思，用于在while循环中帮助你 终止循环。"
   ],
   "metadata": {
    "collapsed": false
   },
   "id": "7b8cf2aa3ffd7db"
  },
  {
   "cell_type": "code",
   "outputs": [],
   "source": [
    "while True:\n",
    "    print(1)\n",
    "    print(2)\n",
    "    break\n",
    "    print(3)\n",
    "print(\"end\")"
   ],
   "metadata": {
    "collapsed": false
   },
   "id": "615d4c8077bbda0",
   "execution_count": null
  },
  {
   "cell_type": "markdown",
   "source": [
    "##### continue\n",
    "结束本次循环 继续下次"
   ],
   "metadata": {
    "collapsed": false
   },
   "id": "45f20eb78f08db0a"
  },
  {
   "cell_type": "code",
   "outputs": [],
   "source": [
    "while True:\n",
    "    print(1)\n",
    "    continue\n",
    "    print(2)\n",
    "print(\"end\")"
   ],
   "metadata": {
    "collapsed": false
   },
   "id": "cf2a8709ac042958",
   "execution_count": null
  },
  {
   "cell_type": "markdown",
   "source": [
    "> break 和 continue 都是放在循环语句中控制循环的过程的，一旦遇到break就停止所有循环，一旦遇到continue就停止本次循环，开始下一个循环"
   ],
   "metadata": {
    "collapsed": false
   },
   "id": "29c7697dec982593"
  },
  {
   "cell_type": "markdown",
   "source": [
    "##### while else\n",
    "当while后的条件不成立时，else中的代码就会执行\n",
    "格式:\n",
    "```python\n",
    "while 条件:\n",
    "    ....\n",
    "    ....\n",
    "else:\n",
    "    ....\n",
    "···"
   ],
   "metadata": {
    "collapsed": false
   },
   "id": "46765ed074d14a6"
  },
  {
   "cell_type": "code",
   "outputs": [
    {
     "name": "stdout",
     "output_type": "stream",
     "text": [
      "333\n"
     ]
    }
   ],
   "source": [
    "while False:\n",
    "    print(111)\n",
    "else:\n",
    "    print(333)"
   ],
   "metadata": {
    "collapsed": false,
    "ExecuteTime": {
     "end_time": "2024-01-31T15:18:23.741759Z",
     "start_time": "2024-01-31T15:18:23.736160Z"
    }
   },
   "id": "78c979873e90b808",
   "execution_count": 9
  },
  {
   "cell_type": "markdown",
   "source": [
    "只有while 条件不成立的时候 else 才会执行 如果遇到break else 也不会执行"
   ],
   "metadata": {
    "collapsed": false
   },
   "id": "741725d3019ca0f8"
  },
  {
   "cell_type": "code",
   "outputs": [
    {
     "name": "stdout",
     "output_type": "stream",
     "text": [
      "111\n"
     ]
    }
   ],
   "source": [
    "while True:\n",
    "    print(111)\n",
    "    break\n",
    "else:\n",
    "    print(333)"
   ],
   "metadata": {
    "collapsed": false,
    "ExecuteTime": {
     "end_time": "2024-01-31T15:18:59.608435Z",
     "start_time": "2024-01-31T15:18:59.603425Z"
    }
   },
   "id": "398569339d10830c",
   "execution_count": 10
  },
  {
   "cell_type": "code",
   "outputs": [],
   "source": [],
   "metadata": {
    "collapsed": false
   },
   "id": "ad43ec25d062d0f7"
  }
 ],
 "metadata": {
  "kernelspec": {
   "display_name": "Python 3",
   "language": "python",
   "name": "python3"
  },
  "language_info": {
   "codemirror_mode": {
    "name": "ipython",
    "version": 2
   },
   "file_extension": ".py",
   "mimetype": "text/x-python",
   "name": "python",
   "nbconvert_exporter": "python",
   "pygments_lexer": "ipython2",
   "version": "2.7.6"
  }
 },
 "nbformat": 4,
 "nbformat_minor": 5
}
