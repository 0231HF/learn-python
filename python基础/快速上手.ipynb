{
 "cells": [
  {
   "cell_type": "markdown",
   "source": [
    "> 输出\n",
    "将结果或者内容呈现给用户"
   ],
   "metadata": {
    "collapsed": false
   },
   "id": "b38d6986f8bab651"
  },
  {
   "cell_type": "code",
   "outputs": [],
   "source": [
    "print(\"hello python\")\n",
    "print(\"hello python\")\n",
    "# print的作用就是 带代码中将内容给输出出来"
   ],
   "metadata": {
    "collapsed": false
   },
   "id": "246c2407969d63bd",
   "execution_count": null
  },
  {
   "cell_type": "markdown",
   "source": [
    "> 关于输出: \n",
    "- 默认print会在尾部加换行符\n",
    "```python\n",
    "print(\"hello python\")\n",
    "print(\"hello python\")\n",
    "\n",
    "输出:\n",
    "hello python\n",
    "hello python\n",
    "```\n",
    "- 想要不换行，则可以这么干\n",
    "```python\n",
    "print(\"hello python\",end=\"\")\n",
    "print(\"hello python\",end=\"\")\n",
    "\n",
    "输出:\n",
    "hello pythonhello python\n",
    "```"
   ],
   "metadata": {
    "collapsed": false
   },
   "id": "146b8015e9994946"
  },
  {
   "cell_type": "code",
   "outputs": [],
   "source": [
    "print(\"hello python\",end=\"\")\n",
    "print(\"hello python\",end=\"\")"
   ],
   "metadata": {
    "collapsed": false
   },
   "id": "e2d0342aa8627fa9",
   "execution_count": null
  },
  {
   "cell_type": "code",
   "outputs": [],
   "source": [
    "print(\"hello python\",end=\",\")\n",
    "print(\"hello python\",end=\".\")"
   ],
   "metadata": {
    "collapsed": false
   },
   "id": "c73dd2730df7e982",
   "execution_count": null
  },
  {
   "cell_type": "code",
   "outputs": [],
   "source": [
    "print(\"---------------\")"
   ],
   "metadata": {
    "collapsed": false
   },
   "id": "c3fc431eb04e382f"
  },
  {
   "cell_type": "markdown",
   "source": [
    "#### 初识数据类型\n",
    "int、str、bool\n",
    "\n",
    "##### 整型(int)\n",
    "整型，整数"
   ],
   "metadata": {
    "collapsed": false
   },
   "id": "f6d3e6bd7b399acd"
  },
  {
   "cell_type": "code",
   "outputs": [],
   "source": [
    "#整型的基本运算\n",
    "print(666)\n",
    "print(2+10)\n",
    "print(10/2)\n",
    "print(10 % 3)\n",
    "print(2**4)"
   ],
   "metadata": {
    "collapsed": false
   },
   "id": "edc59f858d74e34f",
   "execution_count": null
  },
  {
   "cell_type": "markdown",
   "source": [
    "##### 字符串(str)\n",
    "需要拿\"号引起来，表示字符串\n",
    "单行字符\n",
    "多行字符串\n",
    "字符串的运算：\n",
    "- 加: 两个字符串通过加号拼接起来\n",
    "- 乘: 让整型和字符串相乘以实现字符串重复出现N次并拼接起来"
   ],
   "metadata": {
    "collapsed": false
   },
   "id": "fb8b83be05b053c7"
  },
  {
   "cell_type": "code",
   "outputs": [],
   "source": [
    "print(\"我是feifeifei\")\n",
    "print('我是feifeifei')\n",
    "print('''\n",
    "dasda\n",
    "dadas\n",
    "dasdas\n",
    "我是feifeifei''')\n",
    "print(\"xasx\"+\"xasxas\")\n",
    "print(\"a\"*3)\n",
    "# 对于'''用于展示多行的字符串"
   ],
   "metadata": {
    "collapsed": false
   },
   "id": "5fea6c3df1c76cce",
   "execution_count": null
  },
  {
   "cell_type": "markdown",
   "source": [
    "##### 布尔类型(bool)\n",
    "布尔类型中 总共就两个值 True/False"
   ],
   "metadata": {
    "collapsed": false
   },
   "id": "4285dddd7bd1cd05"
  },
  {
   "cell_type": "code",
   "outputs": [],
   "source": [
    "print(1>2)\n",
    "print(1==1)\n",
    "print(False)\n",
    "print(1 ==\"xxx\")"
   ],
   "metadata": {
    "collapsed": false
   },
   "id": "af01fbafbb685f65",
   "execution_count": null
  },
  {
   "cell_type": "markdown",
   "source": [
    "##### 类型转换\n",
    "不同的数据类型都有不同的功能，例如：整型可以加减乘除 而字符串只能加拼接和乘法\n",
    "如果想要做转换可遵循一个的基本规则：想转换上面类型就让他包裹一些\n",
    "例如:str(666)是将整型转换为字符串，int(\"888\")是将字符转换为整型"
   ],
   "metadata": {
    "collapsed": false
   },
   "id": "35e60e38ae23145e"
  },
  {
   "cell_type": "code",
   "outputs": [],
   "source": [
    "#字符串转换为整型\n",
    "print(str(666))\n",
    "print(type(str(666)))\n",
    "print(int(\"888\"))\n",
    "print(type(int(\"888\")))\n",
    "print(\"6\"+\"9\")\n",
    "print(int(\"6\")+int(\"9\"))\n",
    "\n",
    "\n",
    "#布尔类型转换为整型\n",
    "int(True)\n",
    "int(False)\n",
    "\n",
    "#转换为字符串\n",
    "#整型转换成字符串\n",
    "str(345)\n",
    "str(666)+str(9) # 6669\n",
    "\n",
    "# 布尔类型转换为字符串\n",
    "str(True) # 'True'\n",
    "str(False) # 'False'\n",
    "\n",
    "\n",
    "# 转换为布尔类型\n",
    "bool(1) # True\n",
    "bool(0)# False\n",
    "bool(1)# True\n",
    "bool(-10)# True\n",
    "\n",
    "# 字符串转布尔\n",
    "bool(\"xx\")# True\n",
    "bool(\"\") # False"
   ],
   "metadata": {
    "collapsed": false
   },
   "id": "b85eb8c5bbbb5246",
   "execution_count": null
  },
  {
   "cell_type": "markdown",
   "source": [
    "> 关于类型转换：\n",
    "- 其他所有类型转换为bool类型的时，除了空字符串、0 以外 其他都是True\n",
    "- 字符串转整型时，只有那种`88` 格式的字符串 才可以转换为整型，其他的都报错\n",
    "- 想要转换成那种类型，就用那种类型的英文包裹下就行\n",
    "```\n",
    "str(...)\n",
    "int(...)\n",
    "bool(...)\n",
    "```"
   ],
   "metadata": {
    "collapsed": false
   },
   "id": "4839e909778d109c"
  },
  {
   "cell_type": "code",
   "outputs": [],
   "source": [],
   "metadata": {
    "collapsed": false
   },
   "id": "4afd69a32ecccbe4"
  }
 ],
 "metadata": {
  "kernelspec": {
   "display_name": "Python 3",
   "language": "python",
   "name": "python3"
  },
  "language_info": {
   "codemirror_mode": {
    "name": "ipython",
    "version": 2
   },
   "file_extension": ".py",
   "mimetype": "text/x-python",
   "name": "python",
   "nbconvert_exporter": "python",
   "pygments_lexer": "ipython2",
   "version": "2.7.6"
  }
 },
 "nbformat": 4,
 "nbformat_minor": 5
}
