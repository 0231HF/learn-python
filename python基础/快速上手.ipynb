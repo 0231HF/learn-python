{
 "cells": [
  {
   "cell_type": "markdown",
   "source": [
    "> 输出\n",
    "将结果或者内容呈现给用户"
   ],
   "metadata": {
    "collapsed": false
   },
   "id": "b38d6986f8bab651"
  },
  {
   "cell_type": "code",
   "outputs": [],
   "source": [
    "print(\"hello python\")\n",
    "print(\"hello python\")\n",
    "# print的作用就是 带代码中将内容给输出出来"
   ],
   "metadata": {
    "collapsed": false
   },
   "id": "246c2407969d63bd",
   "execution_count": null
  },
  {
   "cell_type": "markdown",
   "source": [
    "> 关于输出: \n",
    "- 默认print会在尾部加换行符\n",
    "```python\n",
    "print(\"hello python\")\n",
    "print(\"hello python\")\n",
    "\n",
    "输出:\n",
    "hello python\n",
    "hello python\n",
    "```\n",
    "- 想要不换行，则可以这么干\n",
    "```python\n",
    "print(\"hello python\",end=\"\")\n",
    "print(\"hello python\",end=\"\")\n",
    "\n",
    "输出:\n",
    "hello pythonhello python\n",
    "```"
   ],
   "metadata": {
    "collapsed": false
   },
   "id": "146b8015e9994946"
  },
  {
   "cell_type": "code",
   "outputs": [],
   "source": [
    "print(\"hello python\", end=\"\")\n",
    "print(\"hello python\", end=\"\")"
   ],
   "metadata": {
    "collapsed": false
   },
   "id": "e2d0342aa8627fa9",
   "execution_count": null
  },
  {
   "cell_type": "code",
   "outputs": [],
   "source": [
    "print(\"hello python\", end=\",\")\n",
    "print(\"hello python\", end=\".\")"
   ],
   "metadata": {
    "collapsed": false
   },
   "id": "c73dd2730df7e982",
   "execution_count": null
  },
  {
   "cell_type": "code",
   "outputs": [],
   "source": [
    "print(\"---------------\")"
   ],
   "metadata": {
    "collapsed": false
   },
   "id": "c3fc431eb04e382f"
  },
  {
   "cell_type": "markdown",
   "source": [
    "#### 初识数据类型\n",
    "int、str、bool\n",
    "\n",
    "##### 整型(int)\n",
    "整型，整数"
   ],
   "metadata": {
    "collapsed": false
   },
   "id": "f6d3e6bd7b399acd"
  },
  {
   "cell_type": "code",
   "outputs": [],
   "source": [
    "#整型的基本运算\n",
    "print(666)\n",
    "print(2 + 10)\n",
    "print(10 / 2)\n",
    "print(10 % 3)\n",
    "print(2 ** 4)"
   ],
   "metadata": {
    "collapsed": false
   },
   "id": "edc59f858d74e34f",
   "execution_count": null
  },
  {
   "cell_type": "markdown",
   "source": [
    "##### 字符串(str)\n",
    "需要拿\"号引起来，表示字符串\n",
    "单行字符\n",
    "多行字符串\n",
    "字符串的运算：\n",
    "- 加: 两个字符串通过加号拼接起来\n",
    "- 乘: 让整型和字符串相乘以实现字符串重复出现N次并拼接起来"
   ],
   "metadata": {
    "collapsed": false
   },
   "id": "fb8b83be05b053c7"
  },
  {
   "cell_type": "code",
   "outputs": [],
   "source": [
    "print(\"我是feifeifei\")\n",
    "print('我是feifeifei')\n",
    "print('''\n",
    "dasda\n",
    "dadas\n",
    "dasdas\n",
    "我是feifeifei''')\n",
    "print(\"xasx\" + \"xasxas\")\n",
    "print(\"a\" * 3)\n",
    "# 对于'''用于展示多行的字符串"
   ],
   "metadata": {
    "collapsed": false
   },
   "id": "5fea6c3df1c76cce",
   "execution_count": null
  },
  {
   "cell_type": "markdown",
   "source": [
    "##### 布尔类型(bool)\n",
    "布尔类型中 总共就两个值 True/False"
   ],
   "metadata": {
    "collapsed": false
   },
   "id": "4285dddd7bd1cd05"
  },
  {
   "cell_type": "code",
   "outputs": [],
   "source": [
    "print(1 > 2)\n",
    "print(1 == 1)\n",
    "print(False)\n",
    "print(1 == \"xxx\")"
   ],
   "metadata": {
    "collapsed": false
   },
   "id": "af01fbafbb685f65",
   "execution_count": null
  },
  {
   "cell_type": "markdown",
   "source": [
    "##### 类型转换\n",
    "不同的数据类型都有不同的功能，例如：整型可以加减乘除 而字符串只能加拼接和乘法\n",
    "如果想要做转换可遵循一个的基本规则：想转换上面类型就让他包裹一些\n",
    "例如:str(666)是将整型转换为字符串，int(\"888\")是将字符转换为整型"
   ],
   "metadata": {
    "collapsed": false
   },
   "id": "35e60e38ae23145e"
  },
  {
   "cell_type": "code",
   "outputs": [],
   "source": [
    "#字符串转换为整型\n",
    "print(str(666))\n",
    "print(type(str(666)))\n",
    "print(int(\"888\"))\n",
    "print(type(int(\"888\")))\n",
    "print(\"6\" + \"9\")\n",
    "print(int(\"6\") + int(\"9\"))\n",
    "\n",
    "#布尔类型转换为整型\n",
    "int(True)\n",
    "int(False)\n",
    "\n",
    "#转换为字符串\n",
    "#整型转换成字符串\n",
    "str(345)\n",
    "str(666) + str(9)  # 6669\n",
    "\n",
    "# 布尔类型转换为字符串\n",
    "str(True)  # 'True'\n",
    "str(False)  # 'False'\n",
    "\n",
    "# 转换为布尔类型\n",
    "bool(1)  # True\n",
    "bool(0)  # False\n",
    "bool(1)  # True\n",
    "bool(-10)  # True\n",
    "\n",
    "# 字符串转布尔\n",
    "bool(\"xx\")  # True\n",
    "bool(\"\")  # False"
   ],
   "metadata": {
    "collapsed": false
   },
   "id": "b85eb8c5bbbb5246",
   "execution_count": null
  },
  {
   "cell_type": "markdown",
   "source": [
    "> 关于类型转换：\n",
    "- 其他所有类型转换为bool类型的时，除了空字符串、0 以外 其他都是True\n",
    "- 字符串转整型时，只有那种`88` 格式的字符串 才可以转换为整型，其他的都报错\n",
    "- 想要转换成那种类型，就用那种类型的英文包裹下就行\n",
    "```\n",
    "str(...)\n",
    "int(...)\n",
    "bool(...)                                                                                                   \n",
    "```"
   ],
   "metadata": {
    "collapsed": false
   },
   "id": "4839e909778d109c"
  },
  {
   "cell_type": "markdown",
   "source": [
    "#### 变量\n",
    "什么是变量？\n",
    "格式: 变量名=值 --> 以后可以通过变量名来操作对应的值 \n"
   ],
   "metadata": {
    "collapsed": false
   },
   "id": "843f33dad4b815d0"
  },
  {
   "cell_type": "code",
   "outputs": [],
   "source": [
    "name = \"xxxx\"\n",
    "age = 18\n",
    "flag = 1 > 18\n",
    "print(name)\n",
    "print(flag)\n",
    "number = 1 == 2\n",
    "print(number)"
   ],
   "metadata": {
    "collapsed": false
   },
   "id": "4afd69a32ecccbe4",
   "execution_count": null
  },
  {
   "cell_type": "markdown",
   "source": [
    "##### 变量名的规范\n",
    "三个规范\n",
    "\n",
    "- 变量名 只能有字母、数字、下划线组成\n",
    "- 不能用数字开头\n",
    "- 不能用python的内置关键字\n",
    "\n",
    "两个建议:\n",
    "- 下划线'_'连接命令\n",
    "- 尽量简明知意"
   ],
   "metadata": {
    "collapsed": false
   },
   "id": "a39d2ab1a0340591"
  },
  {
   "cell_type": "code",
   "outputs": [],
   "source": [
    "my_copmuter = \"xx\"\n",
    "print(my_copmuter)"
   ],
   "metadata": {
    "collapsed": false
   },
   "id": "2132118a7e216eb",
   "execution_count": null
  },
  {
   "cell_type": "markdown",
   "source": [
    "##### 变量内存指向关系\n",
    "```python\n",
    "name = \"feif9eifi\"\n",
    "```\n",
    "> 在计算机的内存中创建一块区域，保存字符串'feif9eifi',name 的变量指向这块区域\n",
    "\n",
    "```python\n",
    "name = \"zzz\"\n",
    "name = \"xxsx\"\n",
    "```\n",
    "> 在计算机的内存中创建一块区域保存字符串”zzz”，name变量名则指向这块区域。然后又再内存中创建了一块域保存字符串”xxsx”，name变量名则指向”xxsx”所在的区域，不再指向”aaa”所在区域（无人指向的数据会被标记为垃圾，由解释器自动化回收）\n",
    "```python\n",
    "name = \"feifeifie\"\n",
    "new_name = name\n",
    "```\n",
    "> 在计算机的内存中创建一块区域保存字符串”feifeifie”，name变量名则指向这块区域。new_name变量名指向name变量，因为被指向的是变量名，所以自动会转指向到name变量代表的内存区域。\n",
    "\n",
    "```python\n",
    "name = \"feifeifei\"\n",
    "new_name = name\n",
    "name = \"alex\"\n",
    "```\n",
    "> 在计算机的内存中创建一块区域保存字符串”feifeifei”，name变量名则指向这块区域， 然后new_name指向name所指向的内存区域，最后又创建了一块区域存放”alex”，让name变量指向”alex”所在区域. new_name指向的内存区域不变\n",
    "\n",
    "```python\n",
    "num = 18\n",
    "age = str(18)\n",
    "```\n",
    "> 在计算机的内存中创建一块区域保存整型18，num变量名则指向这块区域。通过类型转换依据整型18再在内存中创建一个字符串”18”, age变量指向保存这个字符串的内存区域。"
   ],
   "metadata": {
    "collapsed": false
   },
   "id": "da6a508e6c8fc0fd"
  },
  {
   "cell_type": "code",
   "outputs": [],
   "source": [
    "name = \"feifeifei\"\n",
    "new_name = name\n",
    "name = \"alex\"\n",
    "print(name)\n",
    "print(new_name)"
   ],
   "metadata": {
    "collapsed": false
   },
   "id": "1138a0d83358422c",
   "execution_count": null
  },
  {
   "cell_type": "markdown",
   "source": [
    "#### 注释\n",
    "- 单行注释\n",
    "- 多行注释"
   ],
   "metadata": {
    "collapsed": false
   },
   "id": "e771d2c24b06f14a"
  },
  {
   "cell_type": "code",
   "outputs": [
    {
     "name": "stdout",
     "output_type": "stream",
     "text": [
      "xx\n"
     ]
    }
   ],
   "source": [
    "print(\"xx\")  #xasxsxa\n",
    "\"\"\"\n",
    "XXXx\n",
    "xasxas\n",
    "\"\"\"\n",
    "age = 19"
   ],
   "metadata": {
    "collapsed": false,
    "ExecuteTime": {
     "end_time": "2024-01-31T06:59:07.540271Z",
     "start_time": "2024-01-31T06:59:07.537807Z"
    }
   },
   "id": "6afba6278d55c6dc",
   "execution_count": 10
  },
  {
   "cell_type": "markdown",
   "source": [
    "#### 输入\n",
    "实现程序和用户之间的交互\n",
    "**特别注意**：用户输入的任何内容本质上都是字符串"
   ],
   "metadata": {
    "collapsed": false
   },
   "id": "9b272fad9058203e"
  },
  {
   "cell_type": "code",
   "outputs": [
    {
     "name": "stdout",
     "output_type": "stream",
     "text": [
      "你的名字是:zz\n"
     ]
    }
   ],
   "source": [
    "name = input(\"请输入你的名字:\")\n",
    "print(\"你的名字是:\" + name)"
   ],
   "metadata": {
    "collapsed": false,
    "ExecuteTime": {
     "end_time": "2024-01-31T07:00:19.712292Z",
     "start_time": "2024-01-31T07:00:17.151749Z"
    }
   },
   "id": "d865f68e980fd454",
   "execution_count": 11
  },
  {
   "cell_type": "code",
   "outputs": [],
   "source": [],
   "metadata": {
    "collapsed": false
   },
   "id": "8695676bebaa7e58"
  }
 ],
 "metadata": {
  "kernelspec": {
   "display_name": "Python 3",
   "language": "python",
   "name": "python3"
  },
  "language_info": {
   "codemirror_mode": {
    "name": "ipython",
    "version": 2
   },
   "file_extension": ".py",
   "mimetype": "text/x-python",
   "name": "python",
   "nbconvert_exporter": "python",
   "pygments_lexer": "ipython2",
   "version": "2.7.6"
  }
 },
 "nbformat": 4,
 "nbformat_minor": 5
}
